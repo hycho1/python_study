{
 "cells": [
  {
   "cell_type": "code",
   "execution_count": 121,
   "id": "3282f915",
   "metadata": {},
   "outputs": [],
   "source": [
    "import numpy as np\n",
    "import matplotlib.pyplot as plt\n",
    "from sklearn.datasets import load_iris\n",
    "from sklearn.model_selection import train_test_split\n",
    "import seaborn as sns\n",
    "import pandas as pd\n",
    "\n",
    "# 아이리스 데이터셋 로드\n",
    "iris = load_iris()\n",
    "X = iris.data\n",
    "y = iris.target"
   ]
  },
  {
   "cell_type": "code",
   "execution_count": 89,
   "id": "e870e172",
   "metadata": {},
   "outputs": [],
   "source": [
    "from sklearn.preprocessing import StandardScaler \n",
    "\n",
    "scaler = StandardScaler()             # 표준화를 하기 위한 StandardScaler를 scaler변수에 넣는다\n",
    "scaler.fit(X)                    # numerical data만 뽑았던 df_num dataset에 해당 scaler를 적용시킨다.\n",
    "df_s = scaler.transform(X)       # StandardScaler가 적용된 df_num을 해당 scalar대로 변환한다.\n",
    "df = pd.DataFrame(df_s)"
   ]
  },
  {
   "cell_type": "code",
   "execution_count": 109,
   "id": "5ff61521",
   "metadata": {},
   "outputs": [
    {
     "data": {
      "text/plain": [
       "KMeans(n_clusters=5, random_state=42)"
      ]
     },
     "execution_count": 109,
     "metadata": {},
     "output_type": "execute_result"
    }
   ],
   "source": [
    "# 라이브러리 불러오기\n",
    "from sklearn.cluster import KMeans\n",
    "\n",
    "# KMeans객체 생성(클러스터 수 3)\n",
    "km = KMeans(n_clusters=5, random_state=42)\n",
    "\n",
    "# 학습하기\n",
    "km.fit(df)"
   ]
  },
  {
   "cell_type": "code",
   "execution_count": 110,
   "id": "dc41443f",
   "metadata": {},
   "outputs": [
    {
     "data": {
      "text/plain": [
       "array([1, 2, 2, 2, 1, 1, 2, 2, 2, 2, 1, 2, 2, 2, 1, 1, 1, 1, 1, 1, 1, 1,\n",
       "       1, 2, 2, 2, 2, 1, 1, 2, 2, 1, 1, 1, 2, 2, 1, 1, 2, 2, 1, 2, 2, 1,\n",
       "       1, 2, 1, 2, 1, 2, 4, 0, 4, 3, 0, 0, 0, 3, 0, 3, 3, 0, 3, 0, 3, 0,\n",
       "       0, 3, 3, 3, 0, 0, 0, 0, 0, 0, 0, 0, 0, 3, 3, 3, 3, 0, 0, 0, 0, 3,\n",
       "       0, 3, 3, 0, 3, 3, 3, 0, 0, 0, 3, 3, 4, 0, 4, 0, 4, 4, 3, 4, 0, 4,\n",
       "       4, 0, 4, 0, 0, 4, 0, 4, 4, 3, 4, 0, 4, 0, 4, 4, 0, 0, 0, 4, 4, 4,\n",
       "       0, 0, 0, 4, 4, 0, 0, 4, 4, 4, 0, 4, 4, 4, 0, 0, 4, 0])"
      ]
     },
     "execution_count": 110,
     "metadata": {},
     "output_type": "execute_result"
    }
   ],
   "source": [
    "km.labels_"
   ]
  },
  {
   "cell_type": "code",
   "execution_count": 111,
   "id": "b3943f06",
   "metadata": {},
   "outputs": [
    {
     "data": {
      "text/plain": [
       "(array([0, 1, 2, 3, 4]), array([48, 25, 25, 23, 29], dtype=int64))"
      ]
     },
     "execution_count": 111,
     "metadata": {},
     "output_type": "execute_result"
    }
   ],
   "source": [
    "# 0, 1, 2에 해당되는 샘플의 개수 확인\n",
    "np.unique(km.labels_, return_counts=True)"
   ]
  },
  {
   "cell_type": "code",
   "execution_count": 112,
   "id": "ce3d2176",
   "metadata": {},
   "outputs": [
    {
     "data": {
      "text/plain": [
       "array([[1.63950653, 4.21432505, 4.3898041 , 2.94288155, 1.03728192]])"
      ]
     },
     "execution_count": 112,
     "metadata": {},
     "output_type": "execute_result"
    }
   ],
   "source": [
    "km.transform(df[100:101])"
   ]
  },
  {
   "cell_type": "code",
   "execution_count": 113,
   "id": "11284297",
   "metadata": {},
   "outputs": [
    {
     "data": {
      "text/plain": [
       "array([4])"
      ]
     },
     "execution_count": 113,
     "metadata": {},
     "output_type": "execute_result"
    }
   ],
   "source": [
    "km.predict(df[100:101])"
   ]
  },
  {
   "cell_type": "code",
   "execution_count": 114,
   "id": "e093895e",
   "metadata": {},
   "outputs": [
    {
     "data": {
      "text/plain": [
       "5"
      ]
     },
     "execution_count": 114,
     "metadata": {},
     "output_type": "execute_result"
    }
   ],
   "source": [
    "km.n_iter_"
   ]
  },
  {
   "cell_type": "code",
   "execution_count": 115,
   "id": "f9aa9518",
   "metadata": {},
   "outputs": [
    {
     "data": {
      "image/png": "[encoded data removed]",
      "text/plain": [
       "<Figure size 432x288 with 1 Axes>"
      ]
     },
     "metadata": {
      "needs_background": "light"
     },
     "output_type": "display_data"
    }
   ],
   "source": [
    "inertia = []\n",
    "for k in range(2, 7):\n",
    "    km = KMeans(n_clusters=k, random_state=42)\n",
    "    km.fit(df)\n",
    "    inertia.append(km.inertia_)\n",
    "\n",
    "plt.plot(range(2, 7), inertia)\n",
    "plt.xlabel('k')\n",
    "plt.ylabel('inertia')\n",
    "plt.show()"
   ]
  },
  {
   "cell_type": "code",
   "execution_count": 116,
   "id": "bc8148a2",
   "metadata": {},
   "outputs": [
    {
     "data": {
      "image/png": "[encoded data removed]",
      "text/plain": [
       "<Figure size 720x504 with 2 Axes>"
      ]
     },
     "metadata": {
      "needs_background": "light"
     },
     "output_type": "display_data"
    }
   ],
   "source": [
    "# 혼동 행렬 생성\n",
    "conf_matrix = confusion_matrix(y, labels)\n",
    "\n",
    "# 혼동 행렬 시각화\n",
    "plt.figure(figsize=(10, 7))\n",
    "sns.heatmap(conf_matrix, annot=True, fmt='d', cmap='Blues', xticklabels=iris.target_names, yticklabels=iris.target_names)\n",
    "plt.xlabel('Predicted')\n",
    "plt.ylabel('Actual')\n",
    "plt.title('Confusion Matrix')\n",
    "plt.show()"
   ]
  },
  {
   "cell_type": "code",
   "execution_count": 117,
   "id": "18157fe5",
   "metadata": {},
   "outputs": [
    {
     "name": "stdout",
     "output_type": "stream",
     "text": [
      "Accuracy: 62.00%\n"
     ]
    }
   ],
   "source": [
    "# 정확도 계산\n",
    "accuracy = accuracy_score(y, labels)\n",
    "print(f\"Accuracy: {accuracy * 100:.2f}%\")"
   ]
  },
  {
   "cell_type": "markdown",
   "id": "48bc08eb",
   "metadata": {},
   "source": [
    "## 클러스터링 결과를 활용하여 분류 모델 만들어보기"
   ]
  },
  {
   "cell_type": "code",
   "execution_count": 119,
   "id": "31d4fd59",
   "metadata": {},
   "outputs": [],
   "source": [
    "mask = labels != -1\n",
    "X_filtered = df_s[mask]\n",
    "y_filtered = y[mask]\n",
    "labels_filtered = labels[mask]"
   ]
  },
  {
   "cell_type": "code",
   "execution_count": 122,
   "id": "028b0300",
   "metadata": {},
   "outputs": [],
   "source": [
    "unique_labels = np.unique(labels_filtered)\n",
    "new_class_labels = np.zeros_like(labels_filtered)\n",
    "\n",
    "for i, label in enumerate(unique_labels):\n",
    "    new_class_labels[labels_filtered == label] = i\n",
    "\n",
    "# 데이터 분할\n",
    "X_train, X_test, y_train, y_test = train_test_split(X_filtered, new_class_labels, test_size=0.3, random_state=42)"
   ]
  },
  {
   "cell_type": "markdown",
   "id": "b0c30ca4",
   "metadata": {},
   "source": [
    "## 랜덤 포레스트(Random Forest)"
   ]
  },
  {
   "cell_type": "code",
   "execution_count": 124,
   "id": "b3a4e142",
   "metadata": {},
   "outputs": [
    {
     "data": {
      "text/plain": [
       "(1.0, 1.0)"
      ]
     },
     "execution_count": 124,
     "metadata": {},
     "output_type": "execute_result"
    }
   ],
   "source": [
    "from sklearn.model_selection import cross_validate\n",
    "from sklearn.ensemble import RandomForestClassifier\n",
    "\n",
    "rf = RandomForestClassifier(n_jobs=-1, random_state=42)\n",
    "scores = cross_validate(rf, X_train, y_train, return_train_score=True, n_jobs=-1)\n",
    "\n",
    "np.mean(scores['train_score']), np.mean(scores['test_score'])"
   ]
  },
  {
   "cell_type": "code",
   "execution_count": 125,
   "id": "254db0f8",
   "metadata": {},
   "outputs": [
    {
     "data": {
      "text/plain": [
       "array([0.18053449, 0.00317104, 0.40085868, 0.41543579])"
      ]
     },
     "execution_count": 125,
     "metadata": {},
     "output_type": "execute_result"
    }
   ],
   "source": [
    "# 랜덤 포레스트 모델을 훈련세트로 훈련한 후 특성 중요도 확인\n",
    "rf.fit(X_train, y_train)\n",
    "rf.feature_importances_"
   ]
  },
  {
   "cell_type": "code",
   "execution_count": 126,
   "id": "047ddcba",
   "metadata": {},
   "outputs": [
    {
     "data": {
      "text/plain": [
       "1.0"
      ]
     },
     "execution_count": 126,
     "metadata": {},
     "output_type": "execute_result"
    }
   ],
   "source": [
    "# 새로운 랜덤포레스트 객체를 이용하여 oob_score 확인\n",
    "rf = RandomForestClassifier(oob_score=True, n_jobs=-1, random_state=42)\n",
    "\n",
    "rf.fit(X_train, y_train)\n",
    "rf.oob_score_"
   ]
  },
  {
   "cell_type": "markdown",
   "id": "2e7f3085",
   "metadata": {},
   "source": [
    "## 엑스트라 트리(Extra Trees)"
   ]
  },
  {
   "cell_type": "code",
   "execution_count": 128,
   "id": "f9830875",
   "metadata": {},
   "outputs": [
    {
     "data": {
      "text/plain": [
       "(1.0, 1.0)"
      ]
     },
     "execution_count": 128,
     "metadata": {},
     "output_type": "execute_result"
    }
   ],
   "source": [
    "# ExtraTreesClassifier를 적용하여 교차 검증 점수 확인\n",
    "from sklearn.ensemble import ExtraTreesClassifier\n",
    "\n",
    "et = ExtraTreesClassifier(n_jobs=-1, random_state=42)\n",
    "scores = cross_validate(et, X_train, y_train, return_train_score=True, n_jobs=-1)\n",
    "\n",
    "np.mean(scores['train_score']), np.mean(scores['test_score'])"
   ]
  },
  {
   "cell_type": "code",
   "execution_count": 132,
   "id": "56df37a1",
   "metadata": {},
   "outputs": [
    {
     "data": {
      "text/plain": [
       "array([0.13286094, 0.05966824, 0.46254039, 0.34493043])"
      ]
     },
     "execution_count": 132,
     "metadata": {},
     "output_type": "execute_result"
    }
   ],
   "source": [
    "# 특성 중요도 확인\n",
    "et.fit(X_train, y_train)\n",
    "et.feature_importances_"
   ]
  },
  {
   "cell_type": "markdown",
   "id": "472ba55d",
   "metadata": {},
   "source": [
    "## 그레이디언트 부스팅(Gradient boosting)"
   ]
  },
  {
   "cell_type": "code",
   "execution_count": 135,
   "id": "b947cc3b",
   "metadata": {},
   "outputs": [
    {
     "data": {
      "text/plain": [
       "(1.0, 1.0)"
      ]
     },
     "execution_count": 135,
     "metadata": {},
     "output_type": "execute_result"
    }
   ],
   "source": [
    "# GradientBoostingClassifier 사용\n",
    "from sklearn.ensemble import GradientBoostingClassifier\n",
    "\n",
    "gb = GradientBoostingClassifier(random_state=42)\n",
    "scores = cross_validate(gb, X_train, y_train, return_train_score=True, n_jobs=-1)\n",
    "\n",
    "np.mean(scores['train_score']), np.mean(scores['test_score'])"
   ]
  },
  {
   "cell_type": "code",
   "execution_count": 136,
   "id": "035fb1f6",
   "metadata": {},
   "outputs": [
    {
     "data": {
      "text/plain": [
       "(1.0, 1.0)"
      ]
     },
     "execution_count": 136,
     "metadata": {},
     "output_type": "execute_result"
    }
   ],
   "source": [
    "# 트리 개수와 학습률을 조정하여 학습\n",
    "gb = GradientBoostingClassifier(n_estimators=500, learning_rate=0.2, random_state=42)\n",
    "scores = cross_validate(gb, X_train, y_train, return_train_score=True, n_jobs=-1)\n",
    "\n",
    "np.mean(scores['train_score']), np.mean(scores['test_score'])"
   ]
  },
  {
   "cell_type": "code",
   "execution_count": 137,
   "id": "08732d04",
   "metadata": {},
   "outputs": [
    {
     "data": {
      "text/plain": [
       "array([-5.68987396e-18,  3.88808054e-17,  9.16738786e-01,  8.32612139e-02])"
      ]
     },
     "execution_count": 137,
     "metadata": {},
     "output_type": "execute_result"
    }
   ],
   "source": [
    "# 특성 중요도 확인\n",
    "gb.fit(X_train, y_train)\n",
    "gb.feature_importances_"
   ]
  },
  {
   "cell_type": "code",
   "execution_count": 138,
   "id": "e70f6f71",
   "metadata": {},
   "outputs": [
    {
     "data": {
      "text/plain": [
       "(1.0, 1.0)"
      ]
     },
     "execution_count": 138,
     "metadata": {},
     "output_type": "execute_result"
    }
   ],
   "source": [
    "# 사이킷런 1.0 버전 아래에서는 다음 라인의 주석을 해제하고 실행\n",
    "# from sklearn.experimental import enable_hist_gradient_boosting\n",
    "from sklearn.ensemble import HistGradientBoostingClassifier\n",
    "\n",
    "hgb = HistGradientBoostingClassifier(random_state=42)\n",
    "scores = cross_validate(hgb, X_train, y_train, return_train_score=True, n_jobs=-1)\n",
    "\n",
    "np.mean(scores['train_score']), np.mean(scores['test_score'])"
   ]
  },
  {
   "cell_type": "code",
   "execution_count": 139,
   "id": "0a205378",
   "metadata": {},
   "outputs": [
    {
     "data": {
      "text/plain": [
       "array([0.       , 0.       , 0.4344086, 0.       ])"
      ]
     },
     "execution_count": 139,
     "metadata": {},
     "output_type": "execute_result"
    }
   ],
   "source": [
    "# 훈련 세트의 특성 중요도\n",
    "from sklearn.inspection import permutation_importance\n",
    "\n",
    "hgb.fit(X_train, y_train)\n",
    "result = permutation_importance(hgb, X_train, y_train, n_repeats=10,\n",
    "                                random_state=42, n_jobs=-1)\n",
    "result.importances_mean"
   ]
  },
  {
   "cell_type": "code",
   "execution_count": 140,
   "id": "74ff047e",
   "metadata": {},
   "outputs": [
    {
     "data": {
      "text/plain": [
       "array([0.  , 0.  , 0.48, 0.  ])"
      ]
     },
     "execution_count": 140,
     "metadata": {},
     "output_type": "execute_result"
    }
   ],
   "source": [
    "# 테스트 세트의 특성 중요도\n",
    "result = permutation_importance(hgb, X_test, y_test, n_repeats=10,\n",
    "                                random_state=42, n_jobs=-1)\n",
    "result.importances_mean"
   ]
  },
  {
   "cell_type": "code",
   "execution_count": 141,
   "id": "c9286d13",
   "metadata": {},
   "outputs": [
    {
     "data": {
      "text/plain": [
       "1.0"
      ]
     },
     "execution_count": 141,
     "metadata": {},
     "output_type": "execute_result"
    }
   ],
   "source": [
    "# 테스트 세트로 최종 성능 확인\n",
    "hgb.score(X_test, y_test)"
   ]
  },
  {
   "cell_type": "code",
   "execution_count": null,
   "id": "fbb9a963",
   "metadata": {},
   "outputs": [],
   "source": []
  }
 ],
 "metadata": {
  "kernelspec": {
   "display_name": "Python 3 (ipykernel)",
   "language": "python",
   "name": "python3"
  },
  "language_info": {
   "codemirror_mode": {
    "name": "ipython",
    "version": 3
   },
   "file_extension": ".py",
   "mimetype": "text/x-python",
   "name": "python",
   "nbconvert_exporter": "python",
   "pygments_lexer": "ipython3",
   "version": "3.9.12"
  }
 },
 "nbformat": 4,
 "nbformat_minor": 5
}
