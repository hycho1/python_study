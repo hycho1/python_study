{
 "cells": [
  {
   "cell_type": "markdown",
   "id": "39a0885e",
   "metadata": {},
   "source": [
    "## MPG 결정트리로 특성 중요도 파악하여 연비 예측 모델 생성(중요도 높은 특성만 활용)\n",
    "\n",
    " - 테스트 모델: 선형회귀, 릿지, 라쏘, 결정 트리 회귀\n",
    " - 평가 지표 확인: MAE, MRSE, R^2\n"
   ]
  },
  {
   "cell_type": "code",
   "execution_count": 1,
   "id": "bb5ed754",
   "metadata": {},
   "outputs": [
    {
     "name": "stdout",
     "output_type": "stream",
     "text": [
      "                                                   0  \\\n",
      "0  18.0   8   307.0      130.0      3504.      12...   \n",
      "1  15.0   8   350.0      165.0      3693.      11...   \n",
      "2  18.0   8   318.0      150.0      3436.      11...   \n",
      "3  16.0   8   304.0      150.0      3433.      12...   \n",
      "4  17.0   8   302.0      140.0      3449.      10...   \n",
      "\n",
      "                           1  \n",
      "0  chevrolet chevelle malibu  \n",
      "1          buick skylark 320  \n",
      "2         plymouth satellite  \n",
      "3              amc rebel sst  \n",
      "4                ford torino  \n"
     ]
    }
   ],
   "source": [
    "import pandas as pd\n",
    "\n",
    "# TSV 파일 읽기\n",
    "df = pd.read_csv('./auto_mpg/auto-mpg.data', delimiter='\\t', header=None)\n",
    "\n",
    "# 데이터 확인\n",
    "print(df.head())"
   ]
  },
  {
   "cell_type": "code",
   "execution_count": 2,
   "id": "884b6ae7",
   "metadata": {},
   "outputs": [
    {
     "data": {
      "text/html": [
       "<div>\n",
       "<style scoped>\n",
       "    .dataframe tbody tr th:only-of-type {\n",
       "        vertical-align: middle;\n",
       "    }\n",
       "\n",
       "    .dataframe tbody tr th {\n",
       "        vertical-align: top;\n",
       "    }\n",
       "\n",
       "    .dataframe thead th {\n",
       "        text-align: right;\n",
       "    }\n",
       "</style>\n",
       "<table border=\"1\" class=\"dataframe\">\n",
       "  <thead>\n",
       "    <tr style=\"text-align: right;\">\n",
       "      <th></th>\n",
       "      <th>MPG</th>\n",
       "      <th>Cylinders</th>\n",
       "      <th>Displacement</th>\n",
       "      <th>Horsepower</th>\n",
       "      <th>Weight</th>\n",
       "      <th>Acceleration</th>\n",
       "      <th>Model Year</th>\n",
       "      <th>Origin</th>\n",
       "    </tr>\n",
       "  </thead>\n",
       "  <tbody>\n",
       "    <tr>\n",
       "      <th>0</th>\n",
       "      <td>18.0</td>\n",
       "      <td>8</td>\n",
       "      <td>307.0</td>\n",
       "      <td>130.0</td>\n",
       "      <td>3504.0</td>\n",
       "      <td>12.0</td>\n",
       "      <td>70</td>\n",
       "      <td>1</td>\n",
       "    </tr>\n",
       "    <tr>\n",
       "      <th>1</th>\n",
       "      <td>15.0</td>\n",
       "      <td>8</td>\n",
       "      <td>350.0</td>\n",
       "      <td>165.0</td>\n",
       "      <td>3693.0</td>\n",
       "      <td>11.5</td>\n",
       "      <td>70</td>\n",
       "      <td>1</td>\n",
       "    </tr>\n",
       "    <tr>\n",
       "      <th>2</th>\n",
       "      <td>18.0</td>\n",
       "      <td>8</td>\n",
       "      <td>318.0</td>\n",
       "      <td>150.0</td>\n",
       "      <td>3436.0</td>\n",
       "      <td>11.0</td>\n",
       "      <td>70</td>\n",
       "      <td>1</td>\n",
       "    </tr>\n",
       "    <tr>\n",
       "      <th>3</th>\n",
       "      <td>16.0</td>\n",
       "      <td>8</td>\n",
       "      <td>304.0</td>\n",
       "      <td>150.0</td>\n",
       "      <td>3433.0</td>\n",
       "      <td>12.0</td>\n",
       "      <td>70</td>\n",
       "      <td>1</td>\n",
       "    </tr>\n",
       "    <tr>\n",
       "      <th>4</th>\n",
       "      <td>17.0</td>\n",
       "      <td>8</td>\n",
       "      <td>302.0</td>\n",
       "      <td>140.0</td>\n",
       "      <td>3449.0</td>\n",
       "      <td>10.5</td>\n",
       "      <td>70</td>\n",
       "      <td>1</td>\n",
       "    </tr>\n",
       "  </tbody>\n",
       "</table>\n",
       "</div>"
      ],
      "text/plain": [
       "    MPG  Cylinders  Displacement  Horsepower  Weight  Acceleration  \\\n",
       "0  18.0          8         307.0       130.0  3504.0          12.0   \n",
       "1  15.0          8         350.0       165.0  3693.0          11.5   \n",
       "2  18.0          8         318.0       150.0  3436.0          11.0   \n",
       "3  16.0          8         304.0       150.0  3433.0          12.0   \n",
       "4  17.0          8         302.0       140.0  3449.0          10.5   \n",
       "\n",
       "   Model Year  Origin  \n",
       "0          70       1  \n",
       "1          70       1  \n",
       "2          70       1  \n",
       "3          70       1  \n",
       "4          70       1  "
      ]
     },
     "execution_count": 2,
     "metadata": {},
     "output_type": "execute_result"
    }
   ],
   "source": [
    "column_names = ['MPG','Cylinders','Displacement','Horsepower','Weight',\n",
    "                'Acceleration', 'Model Year', 'Origin']\n",
    "\n",
    "dataset = pd.read_csv('./auto_mpg/auto-mpg.data', names=column_names, na_values = \"?\", comment='\\t', sep=\" \", skipinitialspace=True)\n",
    "\n",
    "\n",
    "dataset.head()"
   ]
  },
  {
   "cell_type": "code",
   "execution_count": 3,
   "id": "00bdeb3e",
   "metadata": {},
   "outputs": [
    {
     "name": "stdout",
     "output_type": "stream",
     "text": [
      "<class 'pandas.core.frame.DataFrame'>\n",
      "RangeIndex: 398 entries, 0 to 397\n",
      "Data columns (total 8 columns):\n",
      " #   Column        Non-Null Count  Dtype  \n",
      "---  ------        --------------  -----  \n",
      " 0   MPG           398 non-null    float64\n",
      " 1   Cylinders     398 non-null    int64  \n",
      " 2   Displacement  398 non-null    float64\n",
      " 3   Horsepower    392 non-null    float64\n",
      " 4   Weight        398 non-null    float64\n",
      " 5   Acceleration  398 non-null    float64\n",
      " 6   Model Year    398 non-null    int64  \n",
      " 7   Origin        398 non-null    int64  \n",
      "dtypes: float64(5), int64(3)\n",
      "memory usage: 25.0 KB\n"
     ]
    }
   ],
   "source": [
    "dataset.info()"
   ]
  },
  {
   "cell_type": "code",
   "execution_count": 4,
   "id": "526a9091",
   "metadata": {},
   "outputs": [
    {
     "data": {
      "text/plain": [
       "MPG             0\n",
       "Cylinders       0\n",
       "Displacement    0\n",
       "Horsepower      0\n",
       "Weight          0\n",
       "Acceleration    0\n",
       "Model Year      0\n",
       "Origin          0\n",
       "dtype: int64"
      ]
     },
     "execution_count": 4,
     "metadata": {},
     "output_type": "execute_result"
    }
   ],
   "source": [
    "dataset.dropna(inplace=True)\n",
    "dataset.isna().sum()"
   ]
  },
  {
   "cell_type": "code",
   "execution_count": 5,
   "id": "3d83f0ad",
   "metadata": {},
   "outputs": [],
   "source": [
    "import numpy as np\n",
    "\n",
    "X = dataset[['Cylinders','Displacement','Horsepower','Weight','Acceleration','Model Year','Origin']].astype('int')\n",
    "y = dataset['MPG'].astype('int').to_numpy()"
   ]
  },
  {
   "cell_type": "code",
   "execution_count": 6,
   "id": "ea0520ab",
   "metadata": {},
   "outputs": [
    {
     "data": {
      "text/plain": [
       "array([18, 15, 18, 16, 17, 15, 14, 14, 14, 15, 15, 14, 15, 14, 24, 22, 18,\n",
       "       21, 27, 26, 25, 24, 25, 26, 21, 10, 10, 11,  9, 27, 28, 25, 19, 16,\n",
       "       17, 19, 18, 14, 14, 14, 14, 12, 13, 13, 18, 22, 19, 18, 23, 28, 30,\n",
       "       30, 31, 35, 27, 26, 24, 25, 23, 20, 21, 13, 14, 15, 14, 17, 11, 13,\n",
       "       12, 13, 19, 15, 13, 13, 14, 18, 22, 21, 26, 22, 28, 23, 28, 27, 13,\n",
       "       14, 13, 14, 15, 12, 13, 13, 14, 13, 12, 13, 18, 16, 18, 18, 23, 26,\n",
       "       11, 12, 13, 12, 18, 20, 21, 22, 18, 19, 21, 26, 15, 16, 29, 24, 20,\n",
       "       19, 15, 24, 20, 11, 20, 19, 15, 31, 26, 32, 25, 16, 16, 18, 16, 13,\n",
       "       14, 14, 14, 29, 26, 26, 31, 32, 28, 24, 26, 24, 26, 31, 19, 18, 15,\n",
       "       15, 16, 15, 16, 14, 17, 16, 15, 18, 21, 20, 13, 29, 23, 20, 23, 24,\n",
       "       25, 24, 18, 29, 19, 23, 23, 22, 25, 33, 28, 25, 25, 26, 27, 17, 16,\n",
       "       15, 14, 22, 22, 24, 22, 29, 24, 29, 33, 20, 18, 18, 17, 29, 32, 28,\n",
       "       26, 20, 13, 19, 19, 16, 16, 13, 13, 13, 31, 30, 36, 25, 33, 17, 17,\n",
       "       15, 15, 17, 20, 19, 18, 16, 15, 15, 16, 29, 24, 26, 25, 30, 33, 30,\n",
       "       30, 22, 21, 21, 43, 36, 32, 39, 36, 19, 19, 20, 19, 20, 20, 25, 20,\n",
       "       19, 20, 20, 18, 18, 19, 17, 18, 17, 30, 27, 27, 30, 21, 23, 23, 23,\n",
       "       20, 17, 21, 16, 31, 29, 21, 19, 22, 20, 20, 17, 17, 16, 18, 16, 15,\n",
       "       19, 18, 31, 34, 35, 27, 25, 23, 27, 23, 34, 34, 31, 37, 28, 28, 26,\n",
       "       33, 41, 38, 32, 37, 28, 26, 24, 19, 34, 29, 31, 37, 32, 46, 27, 40,\n",
       "       44, 43, 36, 30, 44, 33, 29, 32, 23, 35, 32, 27, 26, 25, 23, 30, 39,\n",
       "       39, 35, 32, 37, 37, 34, 34, 34, 29, 33, 33, 32, 32, 31, 28, 30, 25,\n",
       "       24, 22, 26, 20, 17, 28, 27, 34, 31, 29, 27, 24, 36, 37, 31, 38, 36,\n",
       "       36, 36, 34, 38, 32, 38, 25, 38, 26, 22, 32, 36, 27, 27, 44, 32, 28,\n",
       "       31])"
      ]
     },
     "execution_count": 6,
     "metadata": {},
     "output_type": "execute_result"
    }
   ],
   "source": [
    "y"
   ]
  },
  {
   "cell_type": "code",
   "execution_count": 7,
   "id": "1211d021",
   "metadata": {},
   "outputs": [
    {
     "name": "stdout",
     "output_type": "stream",
     "text": [
      "(294, 7) (98, 7)\n"
     ]
    }
   ],
   "source": [
    "from sklearn.model_selection import train_test_split\n",
    "\n",
    "X_train, X_test, y_train, y_test = train_test_split(\n",
    "    X, y, random_state=42)\n",
    "\n",
    "print(X_train.shape, X_test.shape)"
   ]
  },
  {
   "cell_type": "markdown",
   "id": "fe57983d",
   "metadata": {},
   "source": [
    "## 선형 회귀"
   ]
  },
  {
   "cell_type": "code",
   "execution_count": 8,
   "id": "0cdd1052",
   "metadata": {},
   "outputs": [
    {
     "name": "stdout",
     "output_type": "stream",
     "text": [
      "0.8211244580048237\n",
      "0.7965753494965195\n"
     ]
    }
   ],
   "source": [
    "# 선형 회귀 모델 사용\n",
    "from sklearn.linear_model import LinearRegression\n",
    "\n",
    "# 객체 생성\n",
    "lr = LinearRegression()\n",
    "\n",
    "# 선형 회귀 모델 훈련\n",
    "lr.fit(X_train, y_train)\n",
    "\n",
    "print(lr.score(X_train, y_train))\n",
    "print(lr.score(X_test, y_test))"
   ]
  },
  {
   "cell_type": "code",
   "execution_count": 9,
   "id": "e2f54252",
   "metadata": {},
   "outputs": [
    {
     "name": "stdout",
     "output_type": "stream",
     "text": [
      "     Cylinders  Displacement  Horsepower  Weight  Acceleration  Model Year  \\\n",
      "267          4           134          95    2560            14          78   \n",
      "\n",
      "     Origin  \n",
      "267       3  \n",
      "    Cylinders  Displacement  Horsepower  Weight  Acceleration  Model Year  \\\n",
      "79          4            96          69    2189            18          72   \n",
      "\n",
      "    Origin  \n",
      "79       2  \n"
     ]
    }
   ],
   "source": [
    "print(X_train[:1])\n",
    "print(X_test[:1])"
   ]
  },
  {
   "cell_type": "code",
   "execution_count": 10,
   "id": "7f06ba5a",
   "metadata": {},
   "outputs": [
    {
     "name": "stdout",
     "output_type": "stream",
     "text": [
      "[-0.44113549  0.01555917 -0.02362668 -0.00597995  0.01965833  0.7254707\n",
      "  1.62412918] -14.9598274646935\n"
     ]
    }
   ],
   "source": [
    "# 계수, 기울기, 가중치, coef라고 불리는 a(coefficient)와 절편 b(intercept_)\n",
    "# 가중치는 계수와 절편 모두를 의미하기도 함\n",
    "print(lr.coef_, lr.intercept_)"
   ]
  },
  {
   "cell_type": "code",
   "execution_count": 11,
   "id": "fc8556bd",
   "metadata": {},
   "outputs": [],
   "source": [
    "from sklearn.preprocessing import StandardScaler\n",
    "\n",
    "ss = StandardScaler()\n",
    "ss.fit(X_train) # 훈련 데이터로 한번만 fit진행. 테스트 데이터는 fit이 아닌 transform을 적용\n",
    "\n",
    "train_scaled = ss.transform(X_train)\n",
    "test_scaled = ss.transform(X_test)"
   ]
  },
  {
   "cell_type": "code",
   "execution_count": 12,
   "id": "4812fd7d",
   "metadata": {},
   "outputs": [
    {
     "name": "stdout",
     "output_type": "stream",
     "text": [
      "[[-0.85952153 -0.58847646 -0.24582607 -0.49007627 -0.40235395  0.51134\n",
      "   1.74963553]]\n",
      "[[-0.85952153 -0.95218851 -0.9205458  -0.93156505  1.00588488 -1.13465226\n",
      "   0.52489066]]\n"
     ]
    }
   ],
   "source": [
    "print(train_scaled[:1])\n",
    "print(test_scaled[:1])"
   ]
  },
  {
   "cell_type": "code",
   "execution_count": 13,
   "id": "50c3557f",
   "metadata": {},
   "outputs": [
    {
     "name": "stdout",
     "output_type": "stream",
     "text": [
      "0.8211244580048238\n",
      "0.796575349496519\n"
     ]
    }
   ],
   "source": [
    "# 선형 회귀 모델 사용\n",
    "from sklearn.linear_model import LinearRegression\n",
    "\n",
    "# 객체 생성\n",
    "lr_scaled = LinearRegression()\n",
    "\n",
    "# 선형 회귀 모델 훈련\n",
    "lr_scaled.fit(train_scaled, y_train)\n",
    "\n",
    "print(lr_scaled.score(train_scaled, y_train))\n",
    "print(lr_scaled.score(test_scaled, y_test))"
   ]
  },
  {
   "cell_type": "markdown",
   "id": "27cbe5fe",
   "metadata": {},
   "source": [
    "## 릿지 회귀"
   ]
  },
  {
   "cell_type": "code",
   "execution_count": 14,
   "id": "7267cdb0",
   "metadata": {},
   "outputs": [
    {
     "data": {
      "text/plain": [
       "array([-0.85952153, -0.58847646, -0.24582607, -0.49007627, -0.40235395,\n",
       "        0.51134   ,  1.74963553])"
      ]
     },
     "execution_count": 14,
     "metadata": {},
     "output_type": "execute_result"
    }
   ],
   "source": [
    "train_scaled[0]"
   ]
  },
  {
   "cell_type": "code",
   "execution_count": 15,
   "id": "d3f9906d",
   "metadata": {},
   "outputs": [
    {
     "name": "stdout",
     "output_type": "stream",
     "text": [
      "0.8210518592977498\n",
      "0.7952247484938677\n"
     ]
    }
   ],
   "source": [
    "# 스케일링된 데이터셋으로 릿지회귀 확인\n",
    "from sklearn.linear_model import Ridge\n",
    "\n",
    "ridge = Ridge()\n",
    "ridge.fit(train_scaled, y_train)\n",
    "print(ridge.score(train_scaled, y_train))\n",
    "print(ridge.score(test_scaled, y_test))"
   ]
  },
  {
   "cell_type": "code",
   "execution_count": 16,
   "id": "dc43c53f",
   "metadata": {},
   "outputs": [
    {
     "name": "stdout",
     "output_type": "stream",
     "text": [
      "rw ::::  [-0.68200374  1.36861083 -0.93301802 -4.84295746  0.02454866  2.62241138\n",
      "  1.31131936]\n",
      "rb ::::  23.51360544217687\n",
      "모델이 예측한 값: [29.52258326]\n"
     ]
    }
   ],
   "source": [
    "rw = ridge.coef_\n",
    "print(\"rw :::: \", rw)\n",
    "rb = ridge.intercept_\n",
    "print(\"rb :::: \", rb)\n",
    "\n",
    "print('모델이 예측한 값:', ridge.predict([train_scaled[0]]))"
   ]
  },
  {
   "cell_type": "markdown",
   "id": "0afeca97",
   "metadata": {},
   "source": [
    "### 적당한 alpha값을 찾는 방법\n",
    "- alpha값에 대한 $R^2$ 값의 그래프 그려보기\n",
    "- 훈련 데이터셋과 테스트 데이터 셋의 점수가 가장 가까운 지점이 최적 alpha값"
   ]
  },
  {
   "cell_type": "code",
   "execution_count": 17,
   "id": "d472e54c",
   "metadata": {},
   "outputs": [],
   "source": [
    "import matplotlib.pyplot as plt\n",
    "\n",
    "train_score = []\n",
    "test_score = []\n",
    "alpha_list = [0.001,0.01, 0.1, 1, 10, 100, 1000] # 적용해볼 alpha값 리스트\n",
    "for alpha in alpha_list:\n",
    "    # 릿지 모델 생성\n",
    "    ridge = Ridge(alpha=alpha)\n",
    "    # 릿지 모델 훈련\n",
    "    ridge.fit(train_scaled, y_train)\n",
    "    # 훈련 점수와 테스트 점수 저장\n",
    "    train_score.append(ridge.score(train_scaled, y_train))\n",
    "    test_score.append(ridge.score(test_scaled, y_test))"
   ]
  },
  {
   "cell_type": "code",
   "execution_count": 18,
   "id": "669723d3",
   "metadata": {
    "scrolled": true
   },
   "outputs": [
    {
     "data": {
      "text/plain": [
       "[0.8211244579201487,\n",
       " 0.8211244495497282,\n",
       " 0.8211236247354805,\n",
       " 0.8210518592977498,\n",
       " 0.8182355839148902,\n",
       " 0.7957591413954311,\n",
       " 0.6239241673734672]"
      ]
     },
     "execution_count": 18,
     "metadata": {},
     "output_type": "execute_result"
    }
   ],
   "source": [
    "train_score"
   ]
  },
  {
   "cell_type": "code",
   "execution_count": 19,
   "id": "da8d5e25",
   "metadata": {
    "scrolled": true
   },
   "outputs": [
    {
     "data": {
      "text/plain": [
       "[0.7965739733680982,\n",
       " 0.7965615899272345,\n",
       " 0.7964379323938021,\n",
       " 0.7952247484938677,\n",
       " 0.7863184450088991,\n",
       " 0.7665879698397592,\n",
       " 0.628315607645364]"
      ]
     },
     "execution_count": 19,
     "metadata": {},
     "output_type": "execute_result"
    }
   ],
   "source": [
    "test_score"
   ]
  },
  {
   "cell_type": "code",
   "execution_count": 20,
   "id": "04b5e133",
   "metadata": {},
   "outputs": [
    {
     "data": {
      "image/png": "[encoded data removed]",
      "text/plain": [
       "<Figure size 432x288 with 1 Axes>"
      ]
     },
     "metadata": {
      "needs_background": "light"
     },
     "output_type": "display_data"
    }
   ],
   "source": [
    "# 그래프 그리기\n",
    "plt.plot(alpha_list, train_score) # alpha리스트의 값이 작으므로 그래프 왼쪽이 너무 촘촘함\n",
    "plt.plot(alpha_list, test_score)\n",
    "\n",
    "plt.xlabel('alpha')\n",
    "plt.ylabel('R^2')\n",
    "\n",
    "plt.show()"
   ]
  },
  {
   "cell_type": "code",
   "execution_count": 21,
   "id": "3f503a98",
   "metadata": {},
   "outputs": [
    {
     "data": {
      "image/png": "[encoded data removed]",
      "text/plain": [
       "<Figure size 432x288 with 1 Axes>"
      ]
     },
     "metadata": {
      "needs_background": "light"
     },
     "output_type": "display_data"
    }
   ],
   "source": [
    "plt.plot(np.log10(alpha_list), train_score) # 로그함수 적용(0.001은 -3, 0.01은 -2와 같이 만듦)\n",
    "plt.plot(np.log10(alpha_list), test_score)\n",
    "plt.xlabel('alpha')\n",
    "plt.ylabel('R^2')\n",
    "plt.show()"
   ]
  },
  {
   "cell_type": "code",
   "execution_count": 22,
   "id": "f06458ef",
   "metadata": {},
   "outputs": [
    {
     "name": "stdout",
     "output_type": "stream",
     "text": [
      "0.7957591413954311\n",
      "0.7665879698397592\n"
     ]
    }
   ],
   "source": [
    "ridge = Ridge(alpha=100)\n",
    "ridge.fit(train_scaled, y_train)\n",
    "\n",
    "print(ridge.score(train_scaled, y_train))\n",
    "print(ridge.score(test_scaled, y_test))"
   ]
  },
  {
   "cell_type": "markdown",
   "id": "e7d7fbef",
   "metadata": {},
   "source": [
    "## 라쏘 회귀 확인"
   ]
  },
  {
   "cell_type": "code",
   "execution_count": 23,
   "id": "6ed6885d",
   "metadata": {},
   "outputs": [
    {
     "name": "stdout",
     "output_type": "stream",
     "text": [
      "0.7907963198887975\n",
      "0.8013669598700948\n"
     ]
    }
   ],
   "source": [
    "from sklearn.linear_model import Lasso\n",
    "\n",
    "lasso = Lasso()\n",
    "lasso.fit(train_scaled, y_train)\n",
    "print(lasso.score(train_scaled, y_train))\n",
    "print(lasso.score(test_scaled, y_test))"
   ]
  },
  {
   "cell_type": "code",
   "execution_count": 24,
   "id": "02addfc4",
   "metadata": {},
   "outputs": [],
   "source": [
    "import matplotlib.pyplot as plt\n",
    "\n",
    "train_score = []\n",
    "test_score = []\n",
    "alpha_list = [0.001, 0.01, 0.1, 1, 10] # 적용해볼 alpha값 리스트\n",
    "for alpha in alpha_list:\n",
    "    # 라쏘 모델을 생성\n",
    "    lasso = Lasso(alpha=alpha)\n",
    "    # 라쏘 모델을 훈련\n",
    "    lasso.fit(train_scaled, y_train)\n",
    "    # 훈련 점수와 테스트 점수 저장\n",
    "    train_score.append(lasso.score(train_scaled, y_train))\n",
    "    test_score.append(lasso.score(test_scaled, y_test))"
   ]
  },
  {
   "cell_type": "code",
   "execution_count": 25,
   "id": "d62949fc",
   "metadata": {},
   "outputs": [
    {
     "data": {
      "image/png": "[encoded data removed]",
      "text/plain": [
       "<Figure size 432x288 with 1 Axes>"
      ]
     },
     "metadata": {
      "needs_background": "light"
     },
     "output_type": "display_data"
    }
   ],
   "source": [
    "plt.plot(np.log10(alpha_list), train_score)\n",
    "plt.plot(np.log10(alpha_list), test_score)\n",
    "plt.xlabel('alpha')\n",
    "plt.ylabel('R^2')\n",
    "plt.show()"
   ]
  },
  {
   "cell_type": "code",
   "execution_count": 26,
   "id": "9cb55e94",
   "metadata": {},
   "outputs": [
    {
     "name": "stdout",
     "output_type": "stream",
     "text": [
      "0.0\n",
      "-0.016877168792370334\n"
     ]
    }
   ],
   "source": [
    "print(lasso.score(train_scaled, y_train))\n",
    "print(lasso.score(test_scaled, y_test))"
   ]
  },
  {
   "cell_type": "code",
   "execution_count": 27,
   "id": "dadc1eab",
   "metadata": {},
   "outputs": [
    {
     "name": "stdout",
     "output_type": "stream",
     "text": [
      "0.8121558528182125\n",
      "0.8028574022552714\n"
     ]
    }
   ],
   "source": [
    "lasso = Lasso(alpha=0.5)\n",
    "lasso.fit(train_scaled, y_train)\n",
    "\n",
    "print(lasso.score(train_scaled, y_train))\n",
    "print(lasso.score(test_scaled, y_test))"
   ]
  },
  {
   "cell_type": "code",
   "execution_count": 28,
   "id": "d938d460",
   "metadata": {},
   "outputs": [
    {
     "name": "stdout",
     "output_type": "stream",
     "text": [
      "[-0.         -0.         -0.5138789  -4.45676527  0.          2.25272691\n",
      "  0.84709343]\n",
      "23.51360544217687\n",
      "모델이 예측한 값: [28.45809929]\n"
     ]
    }
   ],
   "source": [
    "lw = lasso.coef_\n",
    "print(lw)\n",
    "lb = lasso.intercept_\n",
    "print(lb)\n",
    "\n",
    "print('모델이 예측한 값:', lasso.predict([train_scaled[0]]))"
   ]
  },
  {
   "cell_type": "markdown",
   "id": "0b9ad649",
   "metadata": {},
   "source": [
    "## 결정트리(Decision Tree)"
   ]
  },
  {
   "cell_type": "code",
   "execution_count": 29,
   "id": "9710859a",
   "metadata": {},
   "outputs": [
    {
     "name": "stdout",
     "output_type": "stream",
     "text": [
      "0.9965986394557823\n",
      "0.16326530612244897\n"
     ]
    }
   ],
   "source": [
    "from sklearn.tree import DecisionTreeClassifier\n",
    "\n",
    "dt = DecisionTreeClassifier(random_state=42)\n",
    "dt.fit(X_train, y_train)\n",
    "\n",
    "print(dt.score(X_train, y_train))\n",
    "print(dt.score(X_test, y_test))"
   ]
  },
  {
   "cell_type": "code",
   "execution_count": 30,
   "id": "26fcffe1",
   "metadata": {},
   "outputs": [
    {
     "name": "stdout",
     "output_type": "stream",
     "text": [
      "[30 23 33 30 29 32 12 29 18 31 15 23 16 32 20 20 20 32 27 29 23 43 37 17\n",
      " 31 28 19 17 29 23 15 20 18 31 14 37 13 30 16 13 16 28 36 26 16 11 18 41\n",
      " 23 29 14 26 21 29 22 15 18 19 24 26 11 20 28 22 27 27 27 29 17 14 23 14\n",
      " 21 27 19 30 14 17 27 19 28 17 14 31 16 31 23 22 15 15 26 36 34 29 19 20\n",
      " 19 13]\n"
     ]
    }
   ],
   "source": [
    "y_pred = dt.predict(X_test)\n",
    "print(y_pred)"
   ]
  },
  {
   "cell_type": "code",
   "execution_count": 31,
   "id": "801365f3",
   "metadata": {},
   "outputs": [
    {
     "data": {
      "text/plain": [
       "array([26, 21, 36, 26, 27, 28, 13, 26, 19, 29, 15, 19, 16, 29, 16, 28, 20,\n",
       "       32, 27, 35, 22, 44, 34, 18, 26, 26, 21, 16, 26, 22, 15, 19, 19, 31,\n",
       "       13, 38, 14, 25, 13, 10, 13, 24, 36, 26, 14, 13, 19, 37, 21, 29, 14,\n",
       "       24, 28, 36, 22, 16, 20, 20, 25, 25, 12, 22, 26, 23, 21, 25, 25, 29,\n",
       "       19, 15, 22, 13, 22, 18, 17, 28, 15, 16, 27, 18, 25, 18, 15, 39, 15,\n",
       "       29, 25, 21, 17, 16, 22, 30, 30, 31, 19, 16, 18, 13])"
      ]
     },
     "execution_count": 31,
     "metadata": {},
     "output_type": "execute_result"
    }
   ],
   "source": [
    "y_test"
   ]
  },
  {
   "cell_type": "code",
   "execution_count": 32,
   "id": "c3ec6b42",
   "metadata": {},
   "outputs": [
    {
     "data": {
      "text/plain": [
       "array([False, False, False, False, False, False, False, False, False,\n",
       "       False,  True, False,  True, False, False, False,  True,  True,\n",
       "        True, False, False, False, False, False, False, False, False,\n",
       "       False, False, False,  True, False, False,  True, False, False,\n",
       "       False, False, False, False, False, False,  True,  True, False,\n",
       "       False, False, False, False,  True,  True, False, False, False,\n",
       "        True, False, False, False, False, False, False, False, False,\n",
       "       False, False, False, False,  True, False, False, False, False,\n",
       "       False, False, False, False, False, False,  True, False, False,\n",
       "       False, False, False, False, False, False, False, False, False,\n",
       "       False, False, False, False,  True, False, False,  True])"
      ]
     },
     "execution_count": 32,
     "metadata": {},
     "output_type": "execute_result"
    }
   ],
   "source": [
    "y_pred == y_test"
   ]
  },
  {
   "cell_type": "code",
   "execution_count": 33,
   "id": "279fa8e8",
   "metadata": {},
   "outputs": [],
   "source": [
    "from sklearn.metrics import mean_squared_error\n",
    "mse = mean_squared_error(y_test, y_pred)"
   ]
  },
  {
   "cell_type": "code",
   "execution_count": 34,
   "id": "30fb18d5",
   "metadata": {},
   "outputs": [
    {
     "data": {
      "text/plain": [
       "8.387755102040817"
      ]
     },
     "execution_count": 34,
     "metadata": {},
     "output_type": "execute_result"
    }
   ],
   "source": [
    "mse"
   ]
  },
  {
   "cell_type": "markdown",
   "id": "8d753a42",
   "metadata": {},
   "source": [
    "## 교차검증"
   ]
  },
  {
   "cell_type": "code",
   "execution_count": 35,
   "id": "5c7f459b",
   "metadata": {},
   "outputs": [],
   "source": [
    "X_train_sub, X_test_valid, y_train_sub, y_test_valid = train_test_split(\n",
    "    X_train, y_train, test_size=0.2, random_state=42)"
   ]
  },
  {
   "cell_type": "code",
   "execution_count": 36,
   "id": "7e54da94",
   "metadata": {},
   "outputs": [
    {
     "data": {
      "text/plain": [
       "((235, 7), (59, 7))"
      ]
     },
     "execution_count": 36,
     "metadata": {},
     "output_type": "execute_result"
    }
   ],
   "source": [
    "X_train_sub.shape, X_test_valid.shape"
   ]
  },
  {
   "cell_type": "code",
   "execution_count": 37,
   "id": "df1482c4",
   "metadata": {},
   "outputs": [
    {
     "data": {
      "text/plain": [
       "((59, 7), (59,))"
      ]
     },
     "execution_count": 37,
     "metadata": {},
     "output_type": "execute_result"
    }
   ],
   "source": [
    "X_test_valid.shape, y_test_valid.shape"
   ]
  },
  {
   "cell_type": "code",
   "execution_count": 38,
   "id": "0b456333",
   "metadata": {},
   "outputs": [
    {
     "name": "stdout",
     "output_type": "stream",
     "text": [
      "0.9957446808510638\n",
      "0.11864406779661017\n"
     ]
    }
   ],
   "source": [
    "from sklearn.tree import DecisionTreeClassifier\n",
    "\n",
    "dt = DecisionTreeClassifier(random_state=42)\n",
    "dt.fit(X_train_sub, y_train_sub)\n",
    "\n",
    "print(dt.score(X_train_sub, y_train_sub))\n",
    "print(dt.score(X_test_valid, y_test_valid))"
   ]
  },
  {
   "cell_type": "code",
   "execution_count": 39,
   "id": "dc426a09",
   "metadata": {},
   "outputs": [
    {
     "name": "stderr",
     "output_type": "stream",
     "text": [
      "C:\\Users\\CDL\\anaconda3\\lib\\site-packages\\sklearn\\model_selection\\_split.py:676: UserWarning: The least populated class in y has only 1 members, which is less than n_splits=5.\n",
      "  warnings.warn(\n"
     ]
    },
    {
     "data": {
      "text/plain": [
       "{'fit_time': array([0.        , 0.        , 0.00160408, 0.        , 0.        ]),\n",
       " 'score_time': array([0.      , 0.013587, 0.      , 0.      , 0.      ]),\n",
       " 'test_score': array([0.13559322, 0.18644068, 0.13559322, 0.18644068, 0.0862069 ])}"
      ]
     },
     "execution_count": 39,
     "metadata": {},
     "output_type": "execute_result"
    }
   ],
   "source": [
    "from sklearn.model_selection import cross_validate\n",
    "\n",
    "scores = cross_validate(dt, X_train, y_train)\n",
    "scores"
   ]
  },
  {
   "cell_type": "code",
   "execution_count": 40,
   "id": "6507c864",
   "metadata": {},
   "outputs": [
    {
     "data": {
      "text/plain": [
       "0.14605493863237876"
      ]
     },
     "execution_count": 40,
     "metadata": {},
     "output_type": "execute_result"
    }
   ],
   "source": [
    "import numpy as np\n",
    "\n",
    "np.mean(scores['test_score'])"
   ]
  },
  {
   "cell_type": "code",
   "execution_count": 41,
   "id": "d3a4a40d",
   "metadata": {},
   "outputs": [
    {
     "name": "stderr",
     "output_type": "stream",
     "text": [
      "C:\\Users\\CDL\\anaconda3\\lib\\site-packages\\sklearn\\model_selection\\_split.py:676: UserWarning: The least populated class in y has only 1 members, which is less than n_splits=5.\n",
      "  warnings.warn(\n"
     ]
    },
    {
     "data": {
      "text/plain": [
       "0.14605493863237876"
      ]
     },
     "execution_count": 41,
     "metadata": {},
     "output_type": "execute_result"
    }
   ],
   "source": [
    "from sklearn.model_selection import StratifiedKFold\n",
    "\n",
    "scores = cross_validate(dt, X_train, y_train, cv=StratifiedKFold())\n",
    "np.mean(scores['test_score'])"
   ]
  },
  {
   "cell_type": "code",
   "execution_count": 42,
   "id": "8a10aeba",
   "metadata": {},
   "outputs": [
    {
     "name": "stderr",
     "output_type": "stream",
     "text": [
      "C:\\Users\\CDL\\anaconda3\\lib\\site-packages\\sklearn\\model_selection\\_split.py:676: UserWarning: The least populated class in y has only 1 members, which is less than n_splits=10.\n",
      "  warnings.warn(\n"
     ]
    },
    {
     "data": {
      "text/plain": [
       "0.15011494252873564"
      ]
     },
     "execution_count": 42,
     "metadata": {},
     "output_type": "execute_result"
    }
   ],
   "source": [
    "from sklearn.model_selection import StratifiedKFold\n",
    "\n",
    "splitter = StratifiedKFold(n_splits=10, shuffle=True, random_state=42)\n",
    "\n",
    "scores = cross_validate(dt, X_train, y_train, cv=splitter)\n",
    "np.mean(scores['test_score'])"
   ]
  },
  {
   "cell_type": "code",
   "execution_count": null,
   "id": "eced119e",
   "metadata": {},
   "outputs": [],
   "source": []
  }
 ],
 "metadata": {
  "kernelspec": {
   "display_name": "Python 3 (ipykernel)",
   "language": "python",
   "name": "python3"
  },
  "language_info": {
   "codemirror_mode": {
    "name": "ipython",
    "version": 3
   },
   "file_extension": ".py",
   "mimetype": "text/x-python",
   "name": "python",
   "nbconvert_exporter": "python",
   "pygments_lexer": "ipython3",
   "version": "3.9.12"
  }
 },
 "nbformat": 4,
 "nbformat_minor": 5
}
