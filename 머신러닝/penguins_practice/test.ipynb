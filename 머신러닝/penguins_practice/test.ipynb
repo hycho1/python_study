{
 "cells": [
  {
   "cell_type": "code",
   "execution_count": 1,
   "id": "c3a517b6",
   "metadata": {},
   "outputs": [
    {
     "name": "stdout",
     "output_type": "stream",
     "text": [
      "Mean Squared Error: 459961.5607839721\n",
      "R^2 Score: -1.403064480830548\n",
      "Coefficients: [ 73.90786433 -73.18235952   1.94751693 260.49073638]\n",
      "Intercept: 1627.0536471871574\n"
     ]
    }
   ],
   "source": [
    "import pandas as pd\n",
    "from sklearn.model_selection import train_test_split\n",
    "from sklearn.linear_model import LinearRegression\n",
    "from sklearn.metrics import mean_squared_error, r2_score\n",
    "\n",
    "# 데이터 프레임 생성\n",
    "data = {\n",
    "    'species': ['Adelie'] * 9,\n",
    "    'island': ['Torgersen'] * 9,\n",
    "    'culmen_length_mm': [39.1, 39.5, 40.3, 43.9, 36.7, 39.3, 38.9, 39.2, 34.1],\n",
    "    'culmen_depth_mm': [18.7, 17.4, 18, 17.2, 19.3, 20.6, 17.8, 19.6, 18.1],\n",
    "    'flipper_length_mm': [181, 186, 195, 200.9, 193, 190, 181, 195, 193],\n",
    "    'body_mass_g': [3750, 3800, 3250, 4202, 3450, 3650, 3625, 4675, 3475],\n",
    "    'sex': ['MALE', 'FEMALE', 'FEMALE', 'FEMALE', 'FEMALE', 'MALE', 'FEMALE', 'MALE', 'MALE']\n",
    "}\n",
    "\n",
    "df = pd.DataFrame(data)\n",
    "\n",
    "# 성별을 숫자로 인코딩 (MALE: 1, FEMALE: 0)\n",
    "df['sex'] = df['sex'].map({'MALE': 1, 'FEMALE': 0})\n",
    "\n",
    "# 특성과 타겟 변수 분리\n",
    "X = df[['culmen_length_mm', 'culmen_depth_mm', 'flipper_length_mm', 'sex']]\n",
    "y = df['body_mass_g']\n",
    "\n",
    "# 학습 데이터와 테스트 데이터로 분리\n",
    "X_train, X_test, y_train, y_test = train_test_split(X, y, test_size=0.2, random_state=42)\n",
    "\n",
    "# 선형 회귀 모델 생성 및 학습\n",
    "model = LinearRegression()\n",
    "model.fit(X_train, y_train)\n",
    "\n",
    "# 예측\n",
    "y_pred = model.predict(X_test)\n",
    "\n",
    "# 모델 평가\n",
    "mse = mean_squared_error(y_test, y_pred)\n",
    "r2 = r2_score(y_test, y_pred)\n",
    "\n",
    "print(f'Mean Squared Error: {mse}')\n",
    "print(f'R^2 Score: {r2}')\n",
    "\n",
    "# 모델 파라미터\n",
    "print('Coefficients:', model.coef_)\n",
    "print('Intercept:', model.intercept_)\n"
   ]
  },
  {
   "cell_type": "code",
   "execution_count": null,
   "id": "97342841",
   "metadata": {},
   "outputs": [],
   "source": []
  }
 ],
 "metadata": {
  "kernelspec": {
   "display_name": "Python 3 (ipykernel)",
   "language": "python",
   "name": "python3"
  },
  "language_info": {
   "codemirror_mode": {
    "name": "ipython",
    "version": 3
   },
   "file_extension": ".py",
   "mimetype": "text/x-python",
   "name": "python",
   "nbconvert_exporter": "python",
   "pygments_lexer": "ipython3",
   "version": "3.9.12"
  }
 },
 "nbformat": 4,
 "nbformat_minor": 5
}
