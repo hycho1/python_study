{
 "cells": [
  {
   "cell_type": "code",
   "execution_count": 1,
   "id": "62f600a7",
   "metadata": {},
   "outputs": [],
   "source": [
    "import pandas as pd\n",
    "import numpy as np\n",
    "import random"
   ]
  },
  {
   "cell_type": "code",
   "execution_count": 2,
   "id": "9cca7ada",
   "metadata": {},
   "outputs": [],
   "source": [
    "'''\n",
    "1. 원본 데이터에 Na 값 제거 및 평균 값으로 수정\n",
    "2. sex 칼럼은 랜덤으로 설정\n",
    "3. penguins_size_filled.csv 파일로 재생성\n",
    "'''\n",
    "\n",
    "# CSV 파일 경로 설정\n",
    "file_path = \"penguins_size.csv\"\n",
    "\n",
    "# CSV 파일을 pandas DataFrame으로 읽기\n",
    "df = pd.read_csv(file_path)\n",
    "\n",
    "# 데이터 확인\n",
    "#print(df.head())"
   ]
  },
  {
   "cell_type": "code",
   "execution_count": 3,
   "id": "0e7a7b0b",
   "metadata": {},
   "outputs": [],
   "source": [
    "#df_filled = df.fillna(df.mean()).astype(int)\n",
    "\n",
    "df['culmen_length_mm'] = df['culmen_length_mm'].fillna(df['culmen_length_mm'].mean()).round(1)\n",
    "df['culmen_depth_mm'] = df['culmen_depth_mm'].fillna(df['culmen_depth_mm'].mean()).round(1)\n",
    "df['flipper_length_mm'] = df['flipper_length_mm'].fillna(df['flipper_length_mm'].mean()).round(1)\n",
    "df['body_mass_g'] = df['body_mass_g'].fillna(df['body_mass_g'].mean()).round(0)\n",
    "\n",
    "# 'sex' 열에 누락된 값들을 랜덤으로 할당\n",
    "sex_values = ['Male', 'Female']\n",
    "missing_sex_indices = df['sex'].isnull()\n",
    "random_sex = [random.choice(sex_values) for _ in range(sum(missing_sex_indices))]\n",
    "df.loc[missing_sex_indices, 'sex'] = random_sex\n",
    "df['sex'] = df['sex'].str.upper()"
   ]
  },
  {
   "cell_type": "code",
   "execution_count": 4,
   "id": "4f374545",
   "metadata": {},
   "outputs": [
    {
     "name": "stdout",
     "output_type": "stream",
     "text": [
      "    species     island  culmen_length_mm  culmen_depth_mm  flipper_length_mm  \\\n",
      "0    Adelie  Torgersen              39.1             18.7              181.0   \n",
      "1    Adelie  Torgersen              39.5             17.4              186.0   \n",
      "2    Adelie  Torgersen              40.3             18.0              195.0   \n",
      "3    Adelie  Torgersen              43.9             17.2              200.9   \n",
      "4    Adelie  Torgersen              36.7             19.3              193.0   \n",
      "..      ...        ...               ...              ...                ...   \n",
      "339  Gentoo     Biscoe              43.9             17.2              200.9   \n",
      "340  Gentoo     Biscoe              46.8             14.3              215.0   \n",
      "341  Gentoo     Biscoe              50.4             15.7              222.0   \n",
      "342  Gentoo     Biscoe              45.2             14.8              212.0   \n",
      "343  Gentoo     Biscoe              49.9             16.1              213.0   \n",
      "\n",
      "     body_mass_g     sex  \n",
      "0         3750.0    MALE  \n",
      "1         3800.0  FEMALE  \n",
      "2         3250.0  FEMALE  \n",
      "3         4202.0    MALE  \n",
      "4         3450.0  FEMALE  \n",
      "..           ...     ...  \n",
      "339       4202.0    MALE  \n",
      "340       4850.0  FEMALE  \n",
      "341       5750.0    MALE  \n",
      "342       5200.0  FEMALE  \n",
      "343       5400.0    MALE  \n",
      "\n",
      "[344 rows x 7 columns]\n"
     ]
    }
   ],
   "source": [
    "print(df)"
   ]
  },
  {
   "cell_type": "code",
   "execution_count": 5,
   "id": "b16090ed",
   "metadata": {},
   "outputs": [],
   "source": [
    "# one-hot 인코딩\n",
    "\n",
    "# 1) species\n",
    "one_hot_encoded_species = pd.get_dummies(df['species'], prefix='species')\n",
    "\n",
    "# 2) island\n",
    "one_hot_encoded_island = pd.get_dummies(df['island'], prefix='island')\n",
    "\n",
    "# 3) sex\n",
    "one_hot_encoded_sex = pd.get_dummies(df['sex'], prefix='sex')\n",
    "\n",
    "df_final = pd.concat([df, one_hot_encoded_island], axis=1)\n",
    "df_final = pd.concat([df_final, one_hot_encoded_species], axis=1)\n",
    "df_final = pd.concat([df_final, one_hot_encoded_sex], axis=1)"
   ]
  },
  {
   "cell_type": "code",
   "execution_count": 6,
   "id": "b60dc62f",
   "metadata": {},
   "outputs": [
    {
     "name": "stdout",
     "output_type": "stream",
     "text": [
      "    species     island  culmen_length_mm  culmen_depth_mm  flipper_length_mm  \\\n",
      "0    Adelie  Torgersen              39.1             18.7              181.0   \n",
      "1    Adelie  Torgersen              39.5             17.4              186.0   \n",
      "2    Adelie  Torgersen              40.3             18.0              195.0   \n",
      "3    Adelie  Torgersen              43.9             17.2              200.9   \n",
      "4    Adelie  Torgersen              36.7             19.3              193.0   \n",
      "..      ...        ...               ...              ...                ...   \n",
      "339  Gentoo     Biscoe              43.9             17.2              200.9   \n",
      "340  Gentoo     Biscoe              46.8             14.3              215.0   \n",
      "341  Gentoo     Biscoe              50.4             15.7              222.0   \n",
      "342  Gentoo     Biscoe              45.2             14.8              212.0   \n",
      "343  Gentoo     Biscoe              49.9             16.1              213.0   \n",
      "\n",
      "     body_mass_g     sex  island_Biscoe  island_Dream  island_Torgersen  \\\n",
      "0         3750.0    MALE              0             0                 1   \n",
      "1         3800.0  FEMALE              0             0                 1   \n",
      "2         3250.0  FEMALE              0             0                 1   \n",
      "3         4202.0    MALE              0             0                 1   \n",
      "4         3450.0  FEMALE              0             0                 1   \n",
      "..           ...     ...            ...           ...               ...   \n",
      "339       4202.0    MALE              1             0                 0   \n",
      "340       4850.0  FEMALE              1             0                 0   \n",
      "341       5750.0    MALE              1             0                 0   \n",
      "342       5200.0  FEMALE              1             0                 0   \n",
      "343       5400.0    MALE              1             0                 0   \n",
      "\n",
      "     species_Adelie  species_Chinstrap  species_Gentoo  sex_.  sex_FEMALE  \\\n",
      "0                 1                  0               0      0           0   \n",
      "1                 1                  0               0      0           1   \n",
      "2                 1                  0               0      0           1   \n",
      "3                 1                  0               0      0           0   \n",
      "4                 1                  0               0      0           1   \n",
      "..              ...                ...             ...    ...         ...   \n",
      "339               0                  0               1      0           0   \n",
      "340               0                  0               1      0           1   \n",
      "341               0                  0               1      0           0   \n",
      "342               0                  0               1      0           1   \n",
      "343               0                  0               1      0           0   \n",
      "\n",
      "     sex_MALE  \n",
      "0           1  \n",
      "1           0  \n",
      "2           0  \n",
      "3           1  \n",
      "4           0  \n",
      "..        ...  \n",
      "339         1  \n",
      "340         0  \n",
      "341         1  \n",
      "342         0  \n",
      "343         1  \n",
      "\n",
      "[344 rows x 16 columns]\n"
     ]
    }
   ],
   "source": [
    "# 확인\n",
    "print(df_final)\n",
    "\n",
    "# 파일 재생성\n",
    "\n",
    "\n",
    "#df_final.to_csv(\"penguins_size_filled.csv\", index=False)"
   ]
  },
  {
   "cell_type": "code",
   "execution_count": 7,
   "id": "45a65d25",
   "metadata": {},
   "outputs": [
    {
     "data": {
      "text/plain": [
       "'\\nBody Mass : 펭귄의 몸무게를 나타내는 숫자 (g)\\n'"
      ]
     },
     "execution_count": 7,
     "metadata": {},
     "output_type": "execute_result"
    }
   ],
   "source": [
    "# 독립 변수\n",
    "'''\n",
    "species : 펭귄의 종을 나타내는 문자열\n",
    "island : 샘플들이 수집된 Palmer Station 근처 섬 이름\n",
    "Culmen Length (mm) : 펭귄 옆모습 기준 부리의 가로 길이\n",
    "Culmen Depth (mm) : 펭귄 옆모습 기준 부리의 세로 길이\n",
    "Flipper Length (mm) : 펭귄의 팔(날개) 길이\n",
    "'''\n",
    "# 종속 변수\n",
    "'''\n",
    "Body Mass : 펭귄의 몸무게를 나타내는 숫자 (g)\n",
    "'''"
   ]
  },
  {
   "cell_type": "code",
   "execution_count": 8,
   "id": "70123905",
   "metadata": {},
   "outputs": [],
   "source": [
    "import pandas as pd\n",
    "import numpy as np\n",
    "import random\n",
    "\n",
    "# CSV 파일 경로 설정\n",
    "file_path = \"penguins_size_filled.csv\"\n",
    "\n",
    "# CSV 파일을 pandas DataFrame으로 읽기\n",
    "df = pd.read_csv(file_path)"
   ]
  },
  {
   "cell_type": "code",
   "execution_count": 9,
   "id": "74c66cc3",
   "metadata": {},
   "outputs": [
    {
     "name": "stdout",
     "output_type": "stream",
     "text": [
      "  species     island  culmen_length_mm  culmen_depth_mm  flipper_length_mm  \\\n",
      "0  Adelie  Torgersen              39.1             18.7              181.0   \n",
      "1  Adelie  Torgersen              39.5             17.4              186.0   \n",
      "2  Adelie  Torgersen              40.3             18.0              195.0   \n",
      "3  Adelie  Torgersen              43.9             17.2              200.9   \n",
      "4  Adelie  Torgersen              36.7             19.3              193.0   \n",
      "5  Adelie  Torgersen              39.3             20.6              190.0   \n",
      "6  Adelie  Torgersen              38.9             17.8              181.0   \n",
      "7  Adelie  Torgersen              39.2             19.6              195.0   \n",
      "8  Adelie  Torgersen              34.1             18.1              193.0   \n",
      "9  Adelie  Torgersen              42.0             20.2              190.0   \n",
      "\n",
      "   body_mass_g     sex  island_Biscoe  island_Dream  island_Torgersen  ...  \\\n",
      "0       3750.0    MALE              0             0                 1  ...   \n",
      "1       3800.0  FEMALE              0             0                 1  ...   \n",
      "2       3250.0  FEMALE              0             0                 1  ...   \n",
      "3       4202.0  FEMALE              0             0                 1  ...   \n",
      "4       3450.0  FEMALE              0             0                 1  ...   \n",
      "5       3650.0    MALE              0             0                 1  ...   \n",
      "6       3625.0  FEMALE              0             0                 1  ...   \n",
      "7       4675.0    MALE              0             0                 1  ...   \n",
      "8       3475.0    MALE              0             0                 1  ...   \n",
      "9       4250.0    MALE              0             0                 1  ...   \n",
      "\n",
      "   sex_FEMALE  sex_MALE  island_Biscoe.1  island_Dream.1  island_Torgersen.1  \\\n",
      "0           0         1                0               0                   1   \n",
      "1           1         0                0               0                   1   \n",
      "2           1         0                0               0                   1   \n",
      "3           1         0                0               0                   1   \n",
      "4           1         0                0               0                   1   \n",
      "5           0         1                0               0                   1   \n",
      "6           1         0                0               0                   1   \n",
      "7           0         1                0               0                   1   \n",
      "8           0         1                0               0                   1   \n",
      "9           0         1                0               0                   1   \n",
      "\n",
      "   species_Adelie.1  species_Chinstrap.1  species_Gentoo.1  sex_FEMALE.1  \\\n",
      "0                 1                    0                 0             0   \n",
      "1                 1                    0                 0             1   \n",
      "2                 1                    0                 0             1   \n",
      "3                 1                    0                 0             1   \n",
      "4                 1                    0                 0             1   \n",
      "5                 1                    0                 0             0   \n",
      "6                 1                    0                 0             1   \n",
      "7                 1                    0                 0             0   \n",
      "8                 1                    0                 0             0   \n",
      "9                 1                    0                 0             0   \n",
      "\n",
      "   sex_MALE.1  \n",
      "0           1  \n",
      "1           0  \n",
      "2           0  \n",
      "3           0  \n",
      "4           0  \n",
      "5           1  \n",
      "6           0  \n",
      "7           1  \n",
      "8           1  \n",
      "9           1  \n",
      "\n",
      "[10 rows x 23 columns]\n"
     ]
    }
   ],
   "source": [
    "print(df.head(10))"
   ]
  },
  {
   "cell_type": "code",
   "execution_count": 10,
   "id": "2d1bca09",
   "metadata": {},
   "outputs": [],
   "source": [
    "# np로 칼럼에서 데이터 추출\n",
    "species = np.array(df.species)\n",
    "island = np.array(df.island)\n",
    "culmen_length_mm = np.array(df.culmen_length_mm)\n",
    "culmen_depth_mm = np.array(df.culmen_depth_mm)\n",
    "flipper_length_mm = np.array(df.flipper_length_mm)\n",
    "sex = np.array(df.sex)\n",
    "body_mass_g = np.array(df.body_mass_g)"
   ]
  },
  {
   "cell_type": "code",
   "execution_count": 11,
   "id": "5257abb0",
   "metadata": {},
   "outputs": [
    {
     "data": {
      "text/plain": [
       "array([[ 39.1,  18.7, 181. ,   0. ,   0. ,   1. ,   1. ,   0. ,   0. ,\n",
       "          0. ,   1. ],\n",
       "       [ 39.5,  17.4, 186. ,   0. ,   0. ,   1. ,   1. ,   0. ,   0. ,\n",
       "          1. ,   0. ],\n",
       "       [ 40.3,  18. , 195. ,   0. ,   0. ,   1. ,   1. ,   0. ,   0. ,\n",
       "          1. ,   0. ],\n",
       "       [ 43.9,  17.2, 200.9,   0. ,   0. ,   1. ,   1. ,   0. ,   0. ,\n",
       "          1. ,   0. ],\n",
       "       [ 36.7,  19.3, 193. ,   0. ,   0. ,   1. ,   1. ,   0. ,   0. ,\n",
       "          1. ,   0. ]])"
      ]
     },
     "execution_count": 11,
     "metadata": {},
     "output_type": "execute_result"
    }
   ],
   "source": [
    "# 데이터 준비\n",
    "\n",
    "#pg_input = df[['culmen_length_mm','culmen_depth_mm','flipper_length_mm']].to_numpy()\n",
    "pg_input = df[['culmen_length_mm','culmen_depth_mm','flipper_length_mm','island_Biscoe','island_Dream','island_Torgersen','species_Adelie','species_Chinstrap','species_Gentoo','sex_FEMALE','sex_MALE']].to_numpy()\n",
    "\n",
    "pg_input[:5]"
   ]
  },
  {
   "cell_type": "code",
   "execution_count": 12,
   "id": "2cf9b786",
   "metadata": {},
   "outputs": [
    {
     "data": {
      "text/plain": [
       "array([3750., 3800., 3250., 4202., 3450.])"
      ]
     },
     "execution_count": 12,
     "metadata": {},
     "output_type": "execute_result"
    }
   ],
   "source": [
    "pg_target = df['body_mass_g'].to_numpy()\n",
    "pg_target[:5]"
   ]
  },
  {
   "cell_type": "code",
   "execution_count": 27,
   "id": "8ec14152",
   "metadata": {},
   "outputs": [],
   "source": [
    "# 데이터 나누기\n",
    "from sklearn.model_selection import train_test_split\n",
    "\n",
    "train_input, test_input, train_target, test_target = train_test_split(\n",
    "    pg_input, pg_target, random_state=42)"
   ]
  },
  {
   "cell_type": "code",
   "execution_count": 28,
   "id": "a48258c8",
   "metadata": {},
   "outputs": [],
   "source": [
    "# 데이터 스케일링\n",
    "\n",
    "from sklearn.preprocessing import StandardScaler\n",
    "\n",
    "ss = StandardScaler()\n",
    "ss.fit(train_input)\n",
    "train_scaled = ss.transform(train_input)\n",
    "test_scaled = ss.transform(test_input)"
   ]
  },
  {
   "cell_type": "code",
   "execution_count": 29,
   "id": "c465c38f",
   "metadata": {},
   "outputs": [
    {
     "name": "stdout",
     "output_type": "stream",
     "text": [
      "0.18992248062015504\n",
      "0.046511627906976744\n"
     ]
    }
   ],
   "source": [
    "# 스케일링 X\n",
    "# 최근접 이웃 분류 모델\n",
    "\n",
    "from sklearn.neighbors import KNeighborsClassifier\n",
    "\n",
    "kn = KNeighborsClassifier(n_neighbors=10) # 이웃 개수 10개로\n",
    "kn.fit(train_input, train_target)\n",
    "\n",
    "print(kn.score(train_input, train_target))\n",
    "print(kn.score(test_input, test_target))"
   ]
  },
  {
   "cell_type": "code",
   "execution_count": 30,
   "id": "835dc7f3",
   "metadata": {},
   "outputs": [
    {
     "name": "stdout",
     "output_type": "stream",
     "text": [
      "[2700. 2850. 2900. 2975. 3000. 3050. 3075. 3150. 3175. 3200. 3250. 3275.\n",
      " 3300. 3325. 3350. 3400. 3425. 3450. 3475. 3500. 3525. 3550. 3575. 3600.\n",
      " 3625. 3650. 3675. 3700. 3725. 3750. 3775. 3800. 3850. 3875. 3900. 3950.\n",
      " 4000. 4050. 4075. 4100. 4150. 4200. 4202. 4250. 4300. 4350. 4375. 4400.\n",
      " 4450. 4475. 4500. 4550. 4575. 4600. 4650. 4700. 4725. 4750. 4800. 4850.\n",
      " 4875. 4900. 4925. 4950. 4975. 5000. 5050. 5100. 5150. 5200. 5250. 5300.\n",
      " 5350. 5400. 5500. 5550. 5650. 5700. 5800. 5850. 5950. 6000. 6050. 6300.]\n"
     ]
    }
   ],
   "source": [
    "print(kn.classes_)"
   ]
  },
  {
   "cell_type": "code",
   "execution_count": 31,
   "id": "aa499089",
   "metadata": {},
   "outputs": [
    {
     "name": "stdout",
     "output_type": "stream",
     "text": [
      "[3300. 3300. 4200. 3525. 4050.]\n"
     ]
    }
   ],
   "source": [
    "print(kn.predict(test_input[:5]))"
   ]
  },
  {
   "cell_type": "code",
   "execution_count": 32,
   "id": "a282f8c5",
   "metadata": {},
   "outputs": [
    {
     "name": "stdout",
     "output_type": "stream",
     "text": [
      "[[0.  0.  0.  0.  0.  0.  0.  0.  0.  0.  0.  0.  0.1 0.  0.  0.  0.  0.1\n",
      "  0.  0.  0.  0.  0.  0.1 0.  0.  0.1 0.1 0.1 0.1 0.1 0.  0.  0.  0.  0.\n",
      "  0.  0.  0.  0.  0.1 0.  0.  0.  0.  0.  0.  0.1 0.  0.  0.  0.  0.  0.\n",
      "  0.  0.  0.  0.  0.  0.  0.  0.  0.  0.  0.  0.  0.  0.  0.  0.  0.  0.\n",
      "  0.  0.  0.  0.  0.  0.  0.  0.  0.  0.  0.  0. ]\n",
      " [0.  0.  0.  0.  0.  0.  0.  0.  0.  0.  0.  0.  0.1 0.  0.  0.  0.  0.\n",
      "  0.  0.1 0.  0.  0.  0.  0.  0.1 0.  0.  0.  0.  0.  0.  0.1 0.  0.1 0.\n",
      "  0.  0.  0.1 0.  0.1 0.  0.1 0.  0.  0.  0.  0.1 0.  0.  0.  0.  0.  0.\n",
      "  0.  0.1 0.  0.  0.  0.  0.  0.  0.  0.  0.  0.  0.  0.  0.  0.  0.  0.\n",
      "  0.  0.  0.  0.  0.  0.  0.  0.  0.  0.  0.  0. ]\n",
      " [0.  0.  0.  0.  0.  0.  0.  0.  0.  0.  0.  0.  0.  0.  0.  0.  0.  0.\n",
      "  0.  0.  0.  0.  0.  0.  0.  0.  0.  0.  0.  0.  0.  0.  0.  0.  0.  0.\n",
      "  0.  0.  0.  0.  0.  0.2 0.  0.  0.1 0.  0.  0.1 0.1 0.  0.  0.  0.  0.2\n",
      "  0.  0.  0.  0.  0.2 0.1 0.  0.  0.  0.  0.  0.  0.  0.  0.  0.  0.  0.\n",
      "  0.  0.  0.  0.  0.  0.  0.  0.  0.  0.  0.  0. ]\n",
      " [0.1 0.  0.  0.  0.  0.  0.  0.  0.  0.  0.  0.  0.  0.  0.  0.  0.  0.1\n",
      "  0.  0.  0.2 0.  0.1 0.1 0.  0.2 0.  0.  0.  0.  0.  0.1 0.  0.  0.  0.\n",
      "  0.  0.  0.  0.1 0.  0.  0.  0.  0.  0.  0.  0.  0.  0.  0.  0.  0.  0.\n",
      "  0.  0.  0.  0.  0.  0.  0.  0.  0.  0.  0.  0.  0.  0.  0.  0.  0.  0.\n",
      "  0.  0.  0.  0.  0.  0.  0.  0.  0.  0.  0.  0. ]\n",
      " [0.  0.  0.  0.  0.  0.  0.  0.  0.  0.  0.  0.  0.  0.  0.  0.1 0.  0.\n",
      "  0.  0.  0.  0.  0.  0.  0.  0.  0.  0.  0.  0.  0.  0.  0.  0.  0.1 0.\n",
      "  0.  0.2 0.  0.1 0.  0.  0.1 0.  0.  0.  0.  0.  0.1 0.  0.  0.  0.  0.1\n",
      "  0.  0.  0.  0.  0.  0.  0.  0.  0.  0.  0.  0.  0.1 0.  0.  0.  0.  0.\n",
      "  0.1 0.  0.  0.  0.  0.  0.  0.  0.  0.  0.  0. ]]\n",
      "[[3575. 2700. 3600. 3450. 3650. 3800. 4100. 3525. 3650. 3525.]]\n"
     ]
    }
   ],
   "source": [
    "proba = kn.predict_proba(test_input[:5])\n",
    "print(np.round(proba, decimals=4))\n",
    "\n",
    "distances, indexes = kn.kneighbors(test_input[3:4])\n",
    "print(train_target[indexes])"
   ]
  },
  {
   "cell_type": "code",
   "execution_count": 33,
   "id": "7ebe86ee",
   "metadata": {},
   "outputs": [
    {
     "name": "stdout",
     "output_type": "stream",
     "text": [
      "0.21705426356589147\n",
      "0.046511627906976744\n"
     ]
    }
   ],
   "source": [
    "# 스케일링 O\n",
    "# 최근접 이웃 분류 모델\n",
    "\n",
    "from sklearn.neighbors import KNeighborsClassifier\n",
    "\n",
    "kn = KNeighborsClassifier(n_neighbors=10) # 이웃 개수 25개로\n",
    "kn.fit(train_scaled, train_target)\n",
    "\n",
    "print(kn.score(train_scaled, train_target))\n",
    "print(kn.score(test_scaled, test_target))"
   ]
  },
  {
   "cell_type": "code",
   "execution_count": 34,
   "id": "27689562",
   "metadata": {},
   "outputs": [
    {
     "name": "stdout",
     "output_type": "stream",
     "text": [
      "[3300. 3300. 4200. 3350. 4200.]\n"
     ]
    }
   ],
   "source": [
    "print(kn.predict(test_scaled[:5]))"
   ]
  },
  {
   "cell_type": "code",
   "execution_count": 35,
   "id": "4bb653bf",
   "metadata": {},
   "outputs": [
    {
     "name": "stdout",
     "output_type": "stream",
     "text": [
      "[[0.  0.  0.  0.  0.  0.  0.  0.  0.  0.  0.  0.  0.1 0.  0.  0.  0.  0.1\n",
      "  0.  0.  0.  0.  0.  0.1 0.  0.1 0.  0.1 0.  0.1 0.  0.1 0.  0.  0.  0.1\n",
      "  0.  0.  0.  0.  0.1 0.  0.  0.  0.  0.  0.  0.  0.1 0.  0.  0.  0.  0.\n",
      "  0.  0.  0.  0.  0.  0.  0.  0.  0.  0.  0.  0.  0.  0.  0.  0.  0.  0.\n",
      "  0.  0.  0.  0.  0.  0.  0.  0.  0.  0.  0.  0. ]\n",
      " [0.  0.  0.  0.  0.  0.  0.  0.  0.  0.  0.  0.  0.1 0.  0.  0.1 0.  0.1\n",
      "  0.  0.  0.  0.  0.1 0.1 0.  0.1 0.  0.  0.  0.  0.  0.1 0.1 0.  0.1 0.\n",
      "  0.  0.  0.  0.  0.1 0.  0.  0.  0.  0.  0.  0.  0.  0.  0.  0.  0.  0.\n",
      "  0.  0.  0.  0.  0.  0.  0.  0.  0.  0.  0.  0.  0.  0.  0.  0.  0.  0.\n",
      "  0.  0.  0.  0.  0.  0.  0.  0.  0.  0.  0.  0. ]\n",
      " [0.  0.  0.  0.  0.  0.  0.  0.  0.  0.  0.  0.  0.  0.  0.  0.  0.  0.\n",
      "  0.  0.  0.  0.  0.  0.  0.  0.  0.  0.  0.  0.  0.  0.  0.  0.  0.  0.\n",
      "  0.  0.  0.  0.  0.  0.1 0.  0.  0.1 0.  0.  0.1 0.  0.  0.  0.  0.  0.1\n",
      "  0.1 0.  0.  0.1 0.  0.1 0.1 0.  0.1 0.  0.  0.  0.  0.1 0.  0.  0.  0.\n",
      "  0.  0.  0.  0.  0.  0.  0.  0.  0.  0.  0.  0. ]\n",
      " [0.1 0.  0.1 0.  0.  0.  0.  0.  0.  0.  0.  0.  0.  0.  0.2 0.  0.  0.\n",
      "  0.  0.  0.  0.  0.1 0.1 0.  0.2 0.  0.1 0.  0.  0.  0.1 0.  0.  0.  0.\n",
      "  0.  0.  0.  0.  0.  0.  0.  0.  0.  0.  0.  0.  0.  0.  0.  0.  0.  0.\n",
      "  0.  0.  0.  0.  0.  0.  0.  0.  0.  0.  0.  0.  0.  0.  0.  0.  0.  0.\n",
      "  0.  0.  0.  0.  0.  0.  0.  0.  0.  0.  0.  0. ]\n",
      " [0.  0.  0.  0.  0.  0.  0.  0.  0.  0.  0.  0.  0.  0.  0.  0.  0.  0.\n",
      "  0.  0.  0.  0.  0.  0.  0.  0.  0.  0.  0.  0.  0.  0.  0.  0.  0.  0.\n",
      "  0.  0.  0.  0.  0.  0.2 0.  0.  0.  0.  0.  0.  0.1 0.  0.  0.  0.  0.2\n",
      "  0.  0.  0.1 0.  0.1 0.1 0.1 0.  0.  0.  0.  0.  0.1 0.  0.  0.  0.  0.\n",
      "  0.  0.  0.  0.  0.  0.  0.  0.  0.  0.  0.  0. ]]\n",
      "[[3575. 2700. 3650. 3650. 3600. 2900. 3350. 3700. 3800. 3350.]]\n"
     ]
    }
   ],
   "source": [
    "proba = kn.predict_proba(test_scaled[:5])\n",
    "print(np.round(proba, decimals=4))\n",
    "\n",
    "distances, indexes = kn.kneighbors(test_scaled[3:4])\n",
    "print(train_target[indexes])"
   ]
  },
  {
   "cell_type": "code",
   "execution_count": null,
   "id": "2c8a9321",
   "metadata": {},
   "outputs": [],
   "source": []
  }
 ],
 "metadata": {
  "kernelspec": {
   "display_name": "Python 3 (ipykernel)",
   "language": "python",
   "name": "python3"
  },
  "language_info": {
   "codemirror_mode": {
    "name": "ipython",
    "version": 3
   },
   "file_extension": ".py",
   "mimetype": "text/x-python",
   "name": "python",
   "nbconvert_exporter": "python",
   "pygments_lexer": "ipython3",
   "version": "3.9.12"
  }
 },
 "nbformat": 4,
 "nbformat_minor": 5
}
