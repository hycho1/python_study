{
 "cells": [
  {
   "cell_type": "code",
   "execution_count": null,
   "id": "7f16e4b1",
   "metadata": {},
   "outputs": [],
   "source": [
    "# 독립 변수\n",
    "'''\n",
    "species : 펭귄의 종을 나타내는 문자열\n",
    "island : 샘플들이 수집된 Palmer Station 근처 섬 이름\n",
    "Culmen Length (mm) : 펭귄 옆모습 기준 부리의 가로 길이\n",
    "Culmen Depth (mm) : 펭귄 옆모습 기준 부리의 세로 길이\n",
    "Flipper Length (mm) : 펭귄의 팔(날개) 길이\n",
    "'''\n",
    "# 종속 변수\n",
    "'''\n",
    "Body Mass : 펭귄의 몸무게를 나타내는 숫자 (g)\n",
    "'''\n",
    "\n",
    "#### species 확인으로 변경\n",
    "\n",
    "# 독립 변수\n",
    "'''\n",
    "island : 샘플들이 수집된 Palmer Station 근처 섬 이름\n",
    "Culmen Length (mm) : 펭귄 옆모습 기준 부리의 가로 길이\n",
    "Culmen Depth (mm) : 펭귄 옆모습 기준 부리의 세로 길이\n",
    "Flipper Length (mm) : 펭귄의 팔(날개) 길이\n",
    "Body Mass : 펭귄의 몸무게를 나타내는 숫자 (g)\n",
    "'''\n",
    "# 종속 변수\n",
    "'''\n",
    "species : 펭귄의 종을 나타내는 문자열\n",
    "'''\n"
   ]
  },
  {
   "cell_type": "code",
   "execution_count": 3,
   "id": "d608b233",
   "metadata": {},
   "outputs": [],
   "source": [
    "import pandas as pd\n",
    "import numpy as np\n",
    "import random\n",
    "import matplotlib.pyplot as plt\n",
    "# CSV 파일 경로 설정\n",
    "file_path = \"penguins_size_filled.csv\"\n",
    "\n",
    "# CSV 파일을 pandas DataFrame으로 읽기\n",
    "df = pd.read_csv(file_path)\n",
    "\n",
    "#print(df.head(10))"
   ]
  },
  {
   "cell_type": "code",
   "execution_count": 6,
   "id": "d719632c",
   "metadata": {},
   "outputs": [
    {
     "data": {
      "text/plain": [
       "array([[  39.1,  181. ,  181. , 3750. ],\n",
       "       [  39.5,  186. ,  186. , 3800. ],\n",
       "       [  40.3,  195. ,  195. , 3250. ],\n",
       "       [  43.9,  200.9,  200.9, 4202. ],\n",
       "       [  36.7,  193. ,  193. , 3450. ]])"
      ]
     },
     "execution_count": 6,
     "metadata": {},
     "output_type": "execute_result"
    }
   ],
   "source": [
    "# 데이터 준비\n",
    "\n",
    "pg_input = df[['culmen_length_mm','flipper_length_mm','flipper_length_mm','body_mass_g']].to_numpy()\n",
    "#pg_input = df[['culmen_length_mm','culmen_depth_mm','flipper_length_mm','island_Biscoe','island_Dream','island_Torgersen','species_Adelie','species_Chinstrap','species_Gentoo','sex_FEMALE','sex_MALE']].to_numpy()\n",
    "pg_input[:5]"
   ]
  },
  {
   "cell_type": "code",
   "execution_count": 7,
   "id": "6c240140",
   "metadata": {},
   "outputs": [
    {
     "data": {
      "text/plain": [
       "array(['Adelie', 'Adelie', 'Adelie', 'Adelie', 'Adelie'], dtype=object)"
      ]
     },
     "execution_count": 7,
     "metadata": {},
     "output_type": "execute_result"
    }
   ],
   "source": [
    "pg_target = df['species'].to_numpy()\n",
    "pg_target[:5]"
   ]
  },
  {
   "cell_type": "code",
   "execution_count": 8,
   "id": "b94f0611",
   "metadata": {},
   "outputs": [],
   "source": [
    "# 데이터 나누기\n",
    "from sklearn.model_selection import train_test_split\n",
    "\n",
    "train_input, test_input, train_target, test_target = train_test_split(\n",
    "    pg_input, pg_target, random_state=42)"
   ]
  },
  {
   "cell_type": "code",
   "execution_count": 10,
   "id": "09da8b00",
   "metadata": {},
   "outputs": [],
   "source": [
    "# 데이터 스케일링\n",
    "from sklearn.preprocessing import StandardScaler\n",
    "\n",
    "ss = StandardScaler()\n",
    "ss.fit(train_input)\n",
    "train_scaled = ss.transform(train_input)\n",
    "test_scaled = ss.transform(test_input)"
   ]
  },
  {
   "cell_type": "code",
   "execution_count": 11,
   "id": "b6fae0cc",
   "metadata": {},
   "outputs": [
    {
     "data": {
      "image/png": "[encoded data removed]",
      "text/plain": [
       "<Figure size 432x288 with 1 Axes>"
      ]
     },
     "metadata": {
      "needs_background": "light"
     },
     "output_type": "display_data"
    }
   ],
   "source": [
    "z = np.arange(-5, 5, 0.1) # -5 ~ 5 까지 값을 0.1단위로 생성\n",
    "\n",
    "phi = 1 / (1 + np.exp(-z))\n",
    "\n",
    "plt.plot(z, phi)\n",
    "plt.xlabel('z')\n",
    "plt.ylabel('phi')\n",
    "plt.show()"
   ]
  },
  {
   "cell_type": "markdown",
   "id": "6dfa0824",
   "metadata": {},
   "source": [
    "### LogisticRegression 모델로 이진 분류 하기"
   ]
  },
  {
   "cell_type": "code",
   "execution_count": 12,
   "id": "e9f88f86",
   "metadata": {},
   "outputs": [],
   "source": [
    "species_indexes = (train_target == 'Adelie') | (train_target == 'Gentoo')\n",
    "\n",
    "train_species = train_scaled[species_indexes]\n",
    "target_species = train_target[species_indexes]"
   ]
  },
  {
   "cell_type": "code",
   "execution_count": 16,
   "id": "1cf991c2",
   "metadata": {},
   "outputs": [
    {
     "name": "stdout",
     "output_type": "stream",
     "text": [
      "predict :::: \n",
      " ['Adelie' 'Adelie' 'Gentoo' 'Adelie' 'Gentoo']\n",
      "predict_proba :::: \n",
      " [[8.51854478e-01 1.48145522e-01]\n",
      " [9.99730521e-01 2.69478663e-04]\n",
      " [5.77284785e-02 9.42271521e-01]\n",
      " [9.99204566e-01 7.95434151e-04]\n",
      " [9.61213288e-04 9.99038787e-01]]\n",
      "classes_ :::: \n",
      " ['Adelie' 'Gentoo']\n",
      "coef :::: \n",
      " [[1.46660988 1.80693317 1.80693317 1.29734588]]\n",
      "intercept :::: \n",
      " [-0.81549017]\n"
     ]
    }
   ],
   "source": [
    "from sklearn.linear_model import LogisticRegression\n",
    "\n",
    "lr = LogisticRegression()\n",
    "lr.fit(train_species,target_species)\n",
    "\n",
    "# 예측하기\n",
    "print(\"predict :::: \\n\", lr.predict(train_species[:5]))\n",
    "\n",
    "# 퍼센트 확인\n",
    "print(\"predict_proba :::: \\n\", lr.predict_proba(train_species[:5]))\n",
    "\n",
    "# 분류 클래스 확인\n",
    "print(\"classes_ :::: \\n\", lr.classes_)\n",
    "\n",
    "# 회귀 계수 확인\n",
    "print(\"coef :::: \\n\", lr.coef_)\n",
    "print(\"intercept :::: \\n\", lr.intercept_)"
   ]
  },
  {
   "cell_type": "code",
   "execution_count": 19,
   "id": "7443aa60",
   "metadata": {},
   "outputs": [
    {
     "name": "stdout",
     "output_type": "stream",
     "text": [
      "[-1.74922066 -8.21875183  2.79254286 -7.13582674  6.94635255]\n"
     ]
    }
   ],
   "source": [
    "# z값 확인\n",
    "decision = lr.decision_function(train_species[:5])\n",
    "print(decision)"
   ]
  },
  {
   "cell_type": "code",
   "execution_count": 20,
   "id": "0a14a154",
   "metadata": {},
   "outputs": [
    {
     "name": "stdout",
     "output_type": "stream",
     "text": [
      "[1.48145522e-01 2.69478663e-04 9.42271521e-01 7.95434151e-04\n",
      " 9.99038787e-01]\n"
     ]
    }
   ],
   "source": [
    "# 시그모이드 함수에 적용하면 확률을 구할 수 있음\n",
    "from scipy.special import expit # 시그모이드 함수\n",
    "\n",
    "print(expit(decision))"
   ]
  },
  {
   "cell_type": "markdown",
   "id": "4fd1058c",
   "metadata": {},
   "source": [
    "### LogisticRegression 모델로 다중 분류 하기\n",
    "- 기본적으로 반복적인 알고리즘을 사용\n",
    "- max_iter옵션으로 반복 횟수 지정(기본값: 100)\n",
    "- 릿지 회귀와 같이 계수의 제곱을 규제(L2규제)\n",
    "- 규제 제어 매개변수 C(기본값: 1)이며 alpha와 반대 개념으로 적용(값이 작으면 규제가 커짐)"
   ]
  },
  {
   "cell_type": "code",
   "execution_count": 22,
   "id": "21252198",
   "metadata": {},
   "outputs": [
    {
     "name": "stdout",
     "output_type": "stream",
     "text": [
      "0.9767441860465116\n",
      "0.9651162790697675\n"
     ]
    }
   ],
   "source": [
    "# 훈련하기\n",
    "from sklearn.linear_model import LogisticRegression\n",
    "\n",
    "lr = LogisticRegression(C=20, max_iter=1000)\n",
    "lr.fit(train_scaled, train_target)\n",
    "\n",
    "print(lr.score(train_scaled, train_target))\n",
    "print(lr.score(test_scaled, test_target))"
   ]
  },
  {
   "cell_type": "code",
   "execution_count": 23,
   "id": "6cd20af1",
   "metadata": {},
   "outputs": [
    {
     "data": {
      "text/plain": [
       "array(['Chinstrap', 'Chinstrap', 'Gentoo', 'Chinstrap', 'Gentoo'],\n",
       "      dtype=object)"
      ]
     },
     "execution_count": 23,
     "metadata": {},
     "output_type": "execute_result"
    }
   ],
   "source": [
    "# 예측\n",
    "lr.predict(test_scaled[:5])"
   ]
  },
  {
   "cell_type": "code",
   "execution_count": 24,
   "id": "ffd10d8f",
   "metadata": {},
   "outputs": [
    {
     "name": "stdout",
     "output_type": "stream",
     "text": [
      "['Adelie' 'Chinstrap' 'Gentoo']\n",
      "[[0.    1.    0.   ]\n",
      " [0.253 0.732 0.015]\n",
      " [0.017 0.004 0.979]\n",
      " [0.001 0.999 0.   ]\n",
      " [0.049 0.323 0.628]]\n"
     ]
    }
   ],
   "source": [
    "# 퍼센트 확인\n",
    "proba = lr.predict_proba(test_scaled[:5])\n",
    "print(lr.classes_)\n",
    "print(np.round(proba, decimals=3))"
   ]
  },
  {
   "cell_type": "code",
   "execution_count": 25,
   "id": "df50385f",
   "metadata": {},
   "outputs": [
    {
     "name": "stdout",
     "output_type": "stream",
     "text": [
      "['Adelie' 'Chinstrap' 'Gentoo']\n"
     ]
    }
   ],
   "source": [
    "print(lr.classes_)"
   ]
  },
  {
   "cell_type": "code",
   "execution_count": 26,
   "id": "6a530e58",
   "metadata": {},
   "outputs": [
    {
     "name": "stdout",
     "output_type": "stream",
     "text": [
      "(3, 4) (3,)\n"
     ]
    }
   ],
   "source": [
    "print(lr.coef_.shape, lr.intercept_.shape)"
   ]
  },
  {
   "cell_type": "code",
   "execution_count": 27,
   "id": "86cffd86",
   "metadata": {},
   "outputs": [
    {
     "name": "stdout",
     "output_type": "stream",
     "text": [
      "[[-4.57 11.38 -6.81]\n",
      " [ 0.58  1.64 -2.22]\n",
      " [-0.91 -2.25  3.16]\n",
      " [ 0.21  7.14 -7.35]\n",
      " [-1.48  0.41  1.07]]\n"
     ]
    }
   ],
   "source": [
    "# 테스트 데이터셋의 처음 5개 샘플에 대한 z1~z7 값 구하기\n",
    "decision = lr.decision_function(test_scaled[:5])\n",
    "print(np.round(decision, decimals=2))"
   ]
  },
  {
   "cell_type": "code",
   "execution_count": 28,
   "id": "f044edd2",
   "metadata": {},
   "outputs": [
    {
     "name": "stdout",
     "output_type": "stream",
     "text": [
      "[[0.    1.    0.   ]\n",
      " [0.253 0.732 0.015]\n",
      " [0.017 0.004 0.979]\n",
      " [0.001 0.999 0.   ]\n",
      " [0.049 0.323 0.628]]\n"
     ]
    }
   ],
   "source": [
    "# softmax함수로 확률 확인\n",
    "from scipy.special import softmax\n",
    "\n",
    "proba = softmax(decision, axis=1) #  axis=1 행 단위로 계산하도록 축을 설정\n",
    "print(np.round(proba, decimals=3))"
   ]
  },
  {
   "cell_type": "code",
   "execution_count": 29,
   "id": "11d5e994",
   "metadata": {},
   "outputs": [
    {
     "name": "stdout",
     "output_type": "stream",
     "text": [
      "[[0.    1.    0.   ]\n",
      " [0.253 0.732 0.015]\n",
      " [0.017 0.004 0.979]\n",
      " [0.001 0.999 0.   ]\n",
      " [0.049 0.323 0.628]]\n"
     ]
    }
   ],
   "source": [
    "# predict_proba와 비교\n",
    "proba = lr.predict_proba(test_scaled[:5])\n",
    "print(np.round(proba, decimals=3))"
   ]
  }
 ],
 "metadata": {
  "kernelspec": {
   "display_name": "Python 3 (ipykernel)",
   "language": "python",
   "name": "python3"
  },
  "language_info": {
   "codemirror_mode": {
    "name": "ipython",
    "version": 3
   },
   "file_extension": ".py",
   "mimetype": "text/x-python",
   "name": "python",
   "nbconvert_exporter": "python",
   "pygments_lexer": "ipython3",
   "version": "3.9.12"
  }
 },
 "nbformat": 4,
 "nbformat_minor": 5
}
