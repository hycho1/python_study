{
 "cells": [
  {
   "cell_type": "code",
   "execution_count": 3,
   "id": "62f600a7",
   "metadata": {},
   "outputs": [],
   "source": [
    "import pandas as pd\n",
    "import numpy as np\n",
    "import random"
   ]
  },
  {
   "cell_type": "code",
   "execution_count": 63,
   "id": "148cb8dc",
   "metadata": {},
   "outputs": [
    {
     "data": {
      "text/plain": [
       "'\\nspecies : 펭귄의 종을 나타내는 문자열\\n'"
      ]
     },
     "execution_count": 63,
     "metadata": {},
     "output_type": "execute_result"
    }
   ],
   "source": [
    "# 독립 변수\n",
    "'''\n",
    "species : 펭귄의 종을 나타내는 문자열\n",
    "island : 샘플들이 수집된 Palmer Station 근처 섬 이름\n",
    "Culmen Length (mm) : 펭귄 옆모습 기준 부리의 가로 길이\n",
    "Culmen Depth (mm) : 펭귄 옆모습 기준 부리의 세로 길이\n",
    "Flipper Length (mm) : 펭귄의 팔(날개) 길이\n",
    "'''\n",
    "# 종속 변수\n",
    "'''\n",
    "Body Mass : 펭귄의 몸무게를 나타내는 숫자 (g)\n",
    "'''\n",
    "\n",
    "#### species 확인으로 변경\n",
    "\n",
    "# 독립 변수\n",
    "'''\n",
    "island : 샘플들이 수집된 Palmer Station 근처 섬 이름\n",
    "Culmen Length (mm) : 펭귄 옆모습 기준 부리의 가로 길이\n",
    "Culmen Depth (mm) : 펭귄 옆모습 기준 부리의 세로 길이\n",
    "Flipper Length (mm) : 펭귄의 팔(날개) 길이\n",
    "Body Mass : 펭귄의 몸무게를 나타내는 숫자 (g)\n",
    "'''\n",
    "# 종속 변수\n",
    "'''\n",
    "species : 펭귄의 종을 나타내는 문자열\n",
    "'''\n"
   ]
  },
  {
   "cell_type": "code",
   "execution_count": 2,
   "id": "9cca7ada",
   "metadata": {},
   "outputs": [],
   "source": [
    "'''\n",
    "1. 원본 데이터에 Na 값 제거 및 평균 값으로 수정\n",
    "2. sex 칼럼은 랜덤으로 설정\n",
    "3. penguins_size_filled.csv 파일로 재생성\n",
    "'''\n",
    "\n",
    "# CSV 파일 경로 설정\n",
    "file_path = \"penguins_size.csv\"\n",
    "\n",
    "# CSV 파일을 pandas DataFrame으로 읽기\n",
    "df = pd.read_csv(file_path)\n",
    "\n",
    "# 데이터 확인\n",
    "#print(df.head())"
   ]
  },
  {
   "cell_type": "code",
   "execution_count": 3,
   "id": "0e7a7b0b",
   "metadata": {},
   "outputs": [],
   "source": [
    "#df_filled = df.fillna(df.mean()).astype(int)\n",
    "\n",
    "df['culmen_length_mm'] = df['culmen_length_mm'].fillna(df['culmen_length_mm'].mean()).round(1)\n",
    "df['culmen_depth_mm'] = df['culmen_depth_mm'].fillna(df['culmen_depth_mm'].mean()).round(1)\n",
    "df['flipper_length_mm'] = df['flipper_length_mm'].fillna(df['flipper_length_mm'].mean()).round(1)\n",
    "df['body_mass_g'] = df['body_mass_g'].fillna(df['body_mass_g'].mean()).round(0)\n",
    "\n",
    "# 'sex' 열에 누락된 값들을 랜덤으로 할당\n",
    "sex_values = ['Male', 'Female']\n",
    "missing_sex_indices = df['sex'].isnull()\n",
    "random_sex = [random.choice(sex_values) for _ in range(sum(missing_sex_indices))]\n",
    "df.loc[missing_sex_indices, 'sex'] = random_sex\n",
    "df['sex'] = df['sex'].str.upper()"
   ]
  },
  {
   "cell_type": "code",
   "execution_count": 4,
   "id": "4f374545",
   "metadata": {},
   "outputs": [
    {
     "name": "stdout",
     "output_type": "stream",
     "text": [
      "    species     island  culmen_length_mm  culmen_depth_mm  flipper_length_mm  \\\n",
      "0    Adelie  Torgersen              39.1             18.7              181.0   \n",
      "1    Adelie  Torgersen              39.5             17.4              186.0   \n",
      "2    Adelie  Torgersen              40.3             18.0              195.0   \n",
      "3    Adelie  Torgersen              43.9             17.2              200.9   \n",
      "4    Adelie  Torgersen              36.7             19.3              193.0   \n",
      "..      ...        ...               ...              ...                ...   \n",
      "339  Gentoo     Biscoe              43.9             17.2              200.9   \n",
      "340  Gentoo     Biscoe              46.8             14.3              215.0   \n",
      "341  Gentoo     Biscoe              50.4             15.7              222.0   \n",
      "342  Gentoo     Biscoe              45.2             14.8              212.0   \n",
      "343  Gentoo     Biscoe              49.9             16.1              213.0   \n",
      "\n",
      "     body_mass_g     sex  \n",
      "0         3750.0    MALE  \n",
      "1         3800.0  FEMALE  \n",
      "2         3250.0  FEMALE  \n",
      "3         4202.0    MALE  \n",
      "4         3450.0  FEMALE  \n",
      "..           ...     ...  \n",
      "339       4202.0    MALE  \n",
      "340       4850.0  FEMALE  \n",
      "341       5750.0    MALE  \n",
      "342       5200.0  FEMALE  \n",
      "343       5400.0    MALE  \n",
      "\n",
      "[344 rows x 7 columns]\n"
     ]
    }
   ],
   "source": [
    "print(df)"
   ]
  },
  {
   "cell_type": "code",
   "execution_count": 5,
   "id": "b16090ed",
   "metadata": {},
   "outputs": [],
   "source": [
    "# one-hot 인코딩\n",
    "\n",
    "# 1) species\n",
    "one_hot_encoded_species = pd.get_dummies(df['species'], prefix='species')\n",
    "\n",
    "# 2) island\n",
    "one_hot_encoded_island = pd.get_dummies(df['island'], prefix='island')\n",
    "\n",
    "# 3) sex\n",
    "one_hot_encoded_sex = pd.get_dummies(df['sex'], prefix='sex')\n",
    "\n",
    "df_final = pd.concat([df, one_hot_encoded_island], axis=1)\n",
    "df_final = pd.concat([df_final, one_hot_encoded_species], axis=1)\n",
    "df_final = pd.concat([df_final, one_hot_encoded_sex], axis=1)"
   ]
  },
  {
   "cell_type": "code",
   "execution_count": 5,
   "id": "b60dc62f",
   "metadata": {},
   "outputs": [],
   "source": [
    "# 확인\n",
    "#print(df_final)\n",
    "\n",
    "# 파일 재생성\n",
    "#df_final.to_csv(\"penguins_size_filled.csv\", index=False)"
   ]
  },
  {
   "cell_type": "code",
   "execution_count": 7,
   "id": "45a65d25",
   "metadata": {},
   "outputs": [
    {
     "data": {
      "text/plain": [
       "'\\nBody Mass : 펭귄의 몸무게를 나타내는 숫자 (g)\\n'"
      ]
     },
     "execution_count": 7,
     "metadata": {},
     "output_type": "execute_result"
    }
   ],
   "source": [
    "# 독립 변수\n",
    "'''\n",
    "species : 펭귄의 종을 나타내는 문자열\n",
    "island : 샘플들이 수집된 Palmer Station 근처 섬 이름\n",
    "Culmen Length (mm) : 펭귄 옆모습 기준 부리의 가로 길이\n",
    "Culmen Depth (mm) : 펭귄 옆모습 기준 부리의 세로 길이\n",
    "Flipper Length (mm) : 펭귄의 팔(날개) 길이\n",
    "'''\n",
    "# 종속 변수\n",
    "'''\n",
    "Body Mass : 펭귄의 몸무게를 나타내는 숫자 (g)\n",
    "'''"
   ]
  },
  {
   "cell_type": "code",
   "execution_count": 6,
   "id": "4df3087a",
   "metadata": {},
   "outputs": [
    {
     "data": {
      "text/plain": [
       "((275, 3), (69, 3), (275,), (69,))"
      ]
     },
     "execution_count": 6,
     "metadata": {},
     "output_type": "execute_result"
    }
   ],
   "source": []
  },
  {
   "cell_type": "code",
   "execution_count": 28,
   "id": "70123905",
   "metadata": {},
   "outputs": [],
   "source": [
    "import pandas as pd\n",
    "import numpy as np\n",
    "import random\n",
    "\n",
    "# CSV 파일 경로 설정\n",
    "file_path = \"penguins_size_filled.csv\"\n",
    "\n",
    "# CSV 파일을 pandas DataFrame으로 읽기\n",
    "df = pd.read_csv(file_path)"
   ]
  },
  {
   "cell_type": "code",
   "execution_count": 29,
   "id": "74c66cc3",
   "metadata": {},
   "outputs": [],
   "source": [
    "#print(df.head(10))"
   ]
  },
  {
   "cell_type": "code",
   "execution_count": 52,
   "id": "5257abb0",
   "metadata": {},
   "outputs": [
    {
     "data": {
      "text/plain": [
       "array([[ 39.1,  18.7, 181. ],\n",
       "       [ 39.5,  17.4, 186. ],\n",
       "       [ 40.3,  18. , 195. ],\n",
       "       [ 43.9,  17.2, 200.9],\n",
       "       [ 36.7,  19.3, 193. ]])"
      ]
     },
     "execution_count": 52,
     "metadata": {},
     "output_type": "execute_result"
    }
   ],
   "source": [
    "# 데이터 준비\n",
    "\n",
    "#pg_input = df[['culmen_length_mm','culmen_depth_mm','flipper_length_mm','body_mass_g']].to_numpy()\n",
    "pg_input = df[['culmen_length_mm','culmen_depth_mm','flipper_length_mm']].to_numpy()\n",
    "#pg_input = df[['culmen_length_mm','culmen_depth_mm','flipper_length_mm','island_Biscoe','island_Dream','island_Torgersen','species_Adelie','species_Chinstrap','species_Gentoo','sex_FEMALE','sex_MALE']].to_numpy()\n",
    "\n",
    "pg_input[:5]"
   ]
  },
  {
   "cell_type": "code",
   "execution_count": 53,
   "id": "2cf9b786",
   "metadata": {},
   "outputs": [
    {
     "data": {
      "text/plain": [
       "array(['Adelie', 'Adelie', 'Adelie', 'Adelie', 'Adelie'], dtype=object)"
      ]
     },
     "execution_count": 53,
     "metadata": {},
     "output_type": "execute_result"
    }
   ],
   "source": [
    "pg_target = df['species'].to_numpy()\n",
    "\n",
    "pg_target[:5]"
   ]
  },
  {
   "cell_type": "code",
   "execution_count": 54,
   "id": "8ec14152",
   "metadata": {},
   "outputs": [],
   "source": [
    "# 데이터 나누기\n",
    "from sklearn.model_selection import train_test_split\n",
    "\n",
    "train_input, test_input, train_target, test_target = train_test_split(\n",
    "    pg_input, pg_target, random_state=42)"
   ]
  },
  {
   "cell_type": "code",
   "execution_count": 55,
   "id": "a48258c8",
   "metadata": {},
   "outputs": [],
   "source": [
    "# 데이터 스케일링\n",
    "\n",
    "from sklearn.preprocessing import StandardScaler\n",
    "\n",
    "ss = StandardScaler()\n",
    "ss.fit(train_input)\n",
    "train_scaled = ss.transform(train_input)\n",
    "test_scaled = ss.transform(test_input)"
   ]
  },
  {
   "cell_type": "code",
   "execution_count": 56,
   "id": "c465c38f",
   "metadata": {},
   "outputs": [
    {
     "name": "stdout",
     "output_type": "stream",
     "text": [
      "0.9573643410852714\n",
      "0.9418604651162791\n"
     ]
    }
   ],
   "source": [
    "# 스케일링 X\n",
    "# 최근접 이웃 분류 모델\n",
    "\n",
    "from sklearn.neighbors import KNeighborsClassifier\n",
    "\n",
    "kn = KNeighborsClassifier(n_neighbors=10) # 이웃 개수 10개로\n",
    "kn.fit(train_input, train_target)\n",
    "\n",
    "print(kn.score(train_input, train_target))\n",
    "print(kn.score(test_input, test_target))"
   ]
  },
  {
   "cell_type": "code",
   "execution_count": 57,
   "id": "835dc7f3",
   "metadata": {},
   "outputs": [
    {
     "name": "stdout",
     "output_type": "stream",
     "text": [
      "['Adelie' 'Chinstrap' 'Gentoo']\n"
     ]
    }
   ],
   "source": [
    "print(kn.classes_)"
   ]
  },
  {
   "cell_type": "code",
   "execution_count": 58,
   "id": "aa499089",
   "metadata": {},
   "outputs": [
    {
     "name": "stdout",
     "output_type": "stream",
     "text": [
      "['Chinstrap' 'Adelie' 'Gentoo' 'Chinstrap' 'Chinstrap']\n"
     ]
    }
   ],
   "source": [
    "print(kn.predict(test_input[:5]))"
   ]
  },
  {
   "cell_type": "code",
   "execution_count": 59,
   "id": "a282f8c5",
   "metadata": {},
   "outputs": [
    {
     "name": "stdout",
     "output_type": "stream",
     "text": [
      "[[0.  1.  0. ]\n",
      " [0.5 0.4 0.1]\n",
      " [0.  0.  1. ]\n",
      " [0.3 0.7 0. ]\n",
      " [0.  0.7 0.3]]\n",
      "[['Chinstrap' 'Chinstrap' 'Chinstrap' 'Chinstrap' 'Chinstrap' 'Chinstrap'\n",
      "  'Adelie' 'Chinstrap' 'Adelie' 'Adelie']]\n"
     ]
    }
   ],
   "source": [
    "proba = kn.predict_proba(test_input[:5])\n",
    "print(np.round(proba, decimals=4))\n",
    "\n",
    "distances, indexes = kn.kneighbors(test_input[3:4])\n",
    "print(train_target[indexes])"
   ]
  },
  {
   "cell_type": "code",
   "execution_count": 60,
   "id": "7ebe86ee",
   "metadata": {},
   "outputs": [
    {
     "name": "stdout",
     "output_type": "stream",
     "text": [
      "0.9767441860465116\n",
      "0.9651162790697675\n"
     ]
    }
   ],
   "source": [
    "# 스케일링 O\n",
    "# 최근접 이웃 분류 모델\n",
    "\n",
    "from sklearn.neighbors import KNeighborsClassifier\n",
    "\n",
    "kns = KNeighborsClassifier(n_neighbors=10) # 이웃 개수 25개로\n",
    "kns.fit(train_scaled, train_target)\n",
    "\n",
    "print(kns.score(train_scaled, train_target))\n",
    "print(kns.score(test_scaled, test_target))"
   ]
  },
  {
   "cell_type": "code",
   "execution_count": 61,
   "id": "27689562",
   "metadata": {},
   "outputs": [
    {
     "name": "stdout",
     "output_type": "stream",
     "text": [
      "['Chinstrap' 'Chinstrap' 'Gentoo' 'Chinstrap' 'Gentoo']\n"
     ]
    }
   ],
   "source": [
    "print(kns.predict(test_scaled[:5]))"
   ]
  },
  {
   "cell_type": "code",
   "execution_count": 62,
   "id": "4bb653bf",
   "metadata": {
    "scrolled": true
   },
   "outputs": [
    {
     "name": "stdout",
     "output_type": "stream",
     "text": [
      "[[0.  1.  0. ]\n",
      " [0.2 0.7 0.1]\n",
      " [0.  0.  1. ]\n",
      " [0.  1.  0. ]\n",
      " [0.  0.  1. ]]\n",
      "[['Chinstrap' 'Chinstrap' 'Chinstrap' 'Chinstrap' 'Chinstrap' 'Chinstrap'\n",
      "  'Chinstrap' 'Chinstrap' 'Chinstrap' 'Chinstrap']]\n"
     ]
    }
   ],
   "source": [
    "proba = kns.predict_proba(test_scaled[:5])\n",
    "print(np.round(proba, decimals=4))\n",
    "\n",
    "distances, indexes = kns.kneighbors(test_scaled[3:4])\n",
    "print(train_target[indexes])"
   ]
  },
  {
   "cell_type": "code",
   "execution_count": null,
   "id": "2c8a9321",
   "metadata": {},
   "outputs": [],
   "source": []
  }
 ],
 "metadata": {
  "kernelspec": {
   "display_name": "Python 3 (ipykernel)",
   "language": "python",
   "name": "python3"
  },
  "language_info": {
   "codemirror_mode": {
    "name": "ipython",
    "version": 3
   },
   "file_extension": ".py",
   "mimetype": "text/x-python",
   "name": "python",
   "nbconvert_exporter": "python",
   "pygments_lexer": "ipython3",
   "version": "3.9.12"
  }
 },
 "nbformat": 4,
 "nbformat_minor": 5
}
