{
 "cells": [
  {
   "cell_type": "markdown",
   "id": "0da17259-a8fc-47d0-9e63-361243007b91",
   "metadata": {},
   "source": [
    "# 내장 데이터셋 목록"
   ]
  },
  {
   "cell_type": "code",
   "execution_count": null,
   "id": "1b71cfab-8da8-41e9-b8f8-dd5820c630e0",
   "metadata": {},
   "outputs": [],
   "source": [
    "from sklearn.datasets import load_iris, load_diabetes, load_digits, load_wine, load_breast_cancer"
   ]
  },
  {
   "cell_type": "code",
   "execution_count": 2,
   "id": "59f67239-8feb-43b3-8efd-c6f62e8ad83b",
   "metadata": {},
   "outputs": [],
   "source": [
    "iris = load_iris()\n",
    "X_iris, y_iris = iris.data, iris.target\n",
    "# 붓꽃 데이터셋\n",
    "# 3종의 붓꽃에 대해 꽃잎과 꽃받침의 길이와 너비를 특징으로 가진 데이터셋\n",
    "# 분류 문제에서 많이 사용\n",
    "\n",
    "diabetes = load_diabetes()\n",
    "X_diabetes, y_diabetes = diabetes.data, diabetes.target\n",
    "# 당뇨병 환자의 진료 데이터를 기반으로 만든 데이터셋\n",
    "# 10개의 인풋 변수와 하나의 타겟 변수를 포함\n",
    "# 회귀 문제에서 많이 사용\n",
    "\n",
    "digits = load_digits()\n",
    "X_digits, y_digits = digits.data, digits.target\n",
    "# 손글씨 숫자 이미지 데이터셋\n",
    "# 0부터 9까지의 숫자를 8x8 픽셀 그리드 이미지로 표현한 데이터\n",
    "# 분류 문제에서 많이 사용\n",
    "\n",
    "wine = load_wine()\n",
    "X_wine, y_wine = wine.data, wine.target\n",
    "# 3종의 와인에 대한 화학적 분석 데이터를 포함한 데이터셋\n",
    "# 분류 문제에서 많이 사용\n",
    "\n",
    "breast_cancer = load_breast_cancer()\n",
    "X_breast_cancer, y_breast_cancer = breast_cancer.data, breast_cancer.target\n",
    "# 유방암 진단 데이터를 포함한 데이터셋\n",
    "# 종양의 특성을 나타내는 여러 특성과 악성 또는 양성 여부를 포함\n",
    "# 분류 문제에서 많이 사용"
   ]
  }
 ],
 "metadata": {
  "kernelspec": {
   "display_name": "Python 3 (ipykernel)",
   "language": "python",
   "name": "python3"
  },
  "language_info": {
   "codemirror_mode": {
    "name": "ipython",
    "version": 3
   },
   "file_extension": ".py",
   "mimetype": "text/x-python",
   "name": "python",
   "nbconvert_exporter": "python",
   "pygments_lexer": "ipython3",
   "version": "3.11.7"
  }
 },
 "nbformat": 4,
 "nbformat_minor": 5
}
