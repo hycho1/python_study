{
 "cells": [
  {
   "cell_type": "code",
   "execution_count": 1,
   "id": "e8b18766",
   "metadata": {},
   "outputs": [],
   "source": [
    "from itertools import combinations"
   ]
  },
  {
   "cell_type": "code",
   "execution_count": 2,
   "id": "30960ca3",
   "metadata": {},
   "outputs": [],
   "source": [
    "def get_column_combinations(columns):\n",
    "    column_combinations = []\n",
    "    for r in range(1, len(columns) + 1):\n",
    "        column_combinations.extend(combinations(columns, r))\n",
    "    return column_combinations"
   ]
  },
  {
   "cell_type": "code",
   "execution_count": 17,
   "id": "9f3ad582",
   "metadata": {},
   "outputs": [],
   "source": [
    "columns = [\"A\", \"B\", \"C\"]\n",
    "\n",
    "temp = []\n",
    "\n",
    "# 가능한 경우의 수를 출력\n",
    "column_combinations = get_column_combinations(columns)\n",
    "for combination in column_combinations:\n",
    "    temp.append(combination[0] if len(combination) == 1 else combination)"
   ]
  },
  {
   "cell_type": "code",
   "execution_count": 18,
   "id": "3110b83c",
   "metadata": {},
   "outputs": [
    {
     "data": {
      "text/plain": [
       "['A', 'B', 'C', ('A', 'B'), ('A', 'C'), ('B', 'C'), ('A', 'B', 'C')]"
      ]
     },
     "execution_count": 18,
     "metadata": {},
     "output_type": "execute_result"
    }
   ],
   "source": [
    "temp"
   ]
  },
  {
   "cell_type": "code",
   "execution_count": null,
   "id": "ee3bad90",
   "metadata": {},
   "outputs": [],
   "source": []
  }
 ],
 "metadata": {
  "kernelspec": {
   "display_name": "Python 3 (ipykernel)",
   "language": "python",
   "name": "python3"
  },
  "language_info": {
   "codemirror_mode": {
    "name": "ipython",
    "version": 3
   },
   "file_extension": ".py",
   "mimetype": "text/x-python",
   "name": "python",
   "nbconvert_exporter": "python",
   "pygments_lexer": "ipython3",
   "version": "3.9.12"
  }
 },
 "nbformat": 4,
 "nbformat_minor": 5
}
