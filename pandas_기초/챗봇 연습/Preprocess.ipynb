{
 "cells": [
  {
   "cell_type": "code",
   "execution_count": 18,
   "id": "3413bf1d",
   "metadata": {},
   "outputs": [],
   "source": [
    "#!pip install konlpy"
   ]
  },
  {
   "cell_type": "code",
   "execution_count": 11,
   "id": "10f0e899",
   "metadata": {},
   "outputs": [],
   "source": [
    "from konlpy.tag import Komoran"
   ]
  },
  {
   "cell_type": "code",
   "execution_count": 12,
   "id": "fb6682b3",
   "metadata": {},
   "outputs": [],
   "source": [
    "class Preprocess:\n",
    "    def __init__(self, userdic=None):\n",
    "        self.komoran = Komoran(userdic=userdic)\n",
    "        \n",
    "        self.exclusion_tags = [\n",
    "            'JKS', 'JKC', 'JKG', 'JKO', 'JKB', 'JKV', 'JKQ',\n",
    "            'JX', 'JX',\n",
    "            'SF', 'SP', 'SS', 'SE', 'SO',\n",
    "            'EP', 'EF', 'EC', 'ETN', 'ETM'\n",
    "            'XSN', 'XSV', 'XSA'\n",
    "        ]\n",
    "    \n",
    "    def pos(self, sentence):\n",
    "        return self.komoran.pos(sentence)\n",
    "    \n",
    "    def get_keywords(self, pos, without_tag=False):\n",
    "        f = lambda x: x in self.exclusion_tags\n",
    "        word_list = []\n",
    "        for p in pos:\n",
    "            if f(p[1]) is False:\n",
    "                word_list.append(p if without_tag is False else p[0])\n",
    "        return word_list"
   ]
  },
  {
   "cell_type": "code",
   "execution_count": 13,
   "id": "d68e83c5",
   "metadata": {},
   "outputs": [],
   "source": [
    "sent = \"내일 오전 10시에 탕수육 주문하고 싶어\""
   ]
  },
  {
   "cell_type": "code",
   "execution_count": 14,
   "id": "c854d912",
   "metadata": {},
   "outputs": [],
   "source": [
    "p = Preprocess(userdic='../utils/user_dic.tsv')"
   ]
  },
  {
   "cell_type": "code",
   "execution_count": 15,
   "id": "a2dc0d47",
   "metadata": {},
   "outputs": [],
   "source": [
    "pos = p.pos(sent)"
   ]
  },
  {
   "cell_type": "code",
   "execution_count": 16,
   "id": "6ffea43f",
   "metadata": {},
   "outputs": [
    {
     "name": "stdout",
     "output_type": "stream",
     "text": [
      "[('내일', 'NNG'), ('오전', 'NNP'), ('10', 'SN'), ('시', 'NNB'), ('탕수육', 'NNP'), ('주문', 'NNG'), ('싶', 'VX')]\n"
     ]
    }
   ],
   "source": [
    "ret = p.get_keywords(pos, without_tag=False)\n",
    "print(ret)"
   ]
  },
  {
   "cell_type": "code",
   "execution_count": 17,
   "id": "cb7117e4",
   "metadata": {},
   "outputs": [
    {
     "name": "stdout",
     "output_type": "stream",
     "text": [
      "['내일', '오전', '10', '시', '탕수육', '주문', '싶']\n"
     ]
    }
   ],
   "source": [
    "ret = p.get_keywords(pos, without_tag=True)\n",
    "print(ret)"
   ]
  },
  {
   "cell_type": "code",
   "execution_count": 18,
   "id": "c636fec4",
   "metadata": {},
   "outputs": [],
   "source": [
    "#!pip install --user --no-warn-script-location tensorflow"
   ]
  },
  {
   "cell_type": "code",
   "execution_count": 19,
   "id": "5eb1f5f4",
   "metadata": {},
   "outputs": [],
   "source": [
    "from tensorflow.keras import preprocessing"
   ]
  },
  {
   "cell_type": "code",
   "execution_count": 27,
   "id": "d8acdc6b",
   "metadata": {},
   "outputs": [],
   "source": [
    "import pickle"
   ]
  },
  {
   "cell_type": "code",
   "execution_count": 20,
   "id": "206827be",
   "metadata": {},
   "outputs": [],
   "source": [
    "def read_corpus_data(filename):\n",
    "    with open(filename, 'r', encoding='UTF8') as f:\n",
    "        data = [line.split('\\t') for line in f.read().splitlines()]\n",
    "        data = data[1:]\n",
    "    return data"
   ]
  },
  {
   "cell_type": "code",
   "execution_count": 21,
   "id": "492b0329",
   "metadata": {},
   "outputs": [],
   "source": [
    "corpus_data =read_corpus_data('corpus.txt')"
   ]
  },
  {
   "cell_type": "code",
   "execution_count": 23,
   "id": "b803192e",
   "metadata": {},
   "outputs": [],
   "source": [
    "p = Preprocess()"
   ]
  },
  {
   "cell_type": "code",
   "execution_count": 24,
   "id": "40f84ee0",
   "metadata": {},
   "outputs": [],
   "source": [
    "dict = []\n",
    "for c in corpus_data:\n",
    "    pos = p.pos(c[1])\n",
    "    for k in pos:\n",
    "        dict.append(k[0])"
   ]
  },
  {
   "cell_type": "code",
   "execution_count": 25,
   "id": "15a33ddf",
   "metadata": {},
   "outputs": [],
   "source": [
    "tokenizer = preprocessing.text.Tokenizer(oov_token='OOV')\n",
    "tokenizer.fit_on_texts(dict)\n",
    "word_index = tokenizer.word_index"
   ]
  },
  {
   "cell_type": "code",
   "execution_count": 28,
   "id": "48cd7943",
   "metadata": {},
   "outputs": [],
   "source": [
    "f = open(\"chatbot_dict.bin\",\"wb\")\n",
    "try:\n",
    "    pickle.dump(word_index, f)\n",
    "except Exception as e:\n",
    "    print(e)\n",
    "finally:\n",
    "    f.close()"
   ]
  },
  {
   "cell_type": "code",
   "execution_count": 30,
   "id": "1aaf489d",
   "metadata": {},
   "outputs": [],
   "source": [
    "f = open(\"chatbot_dict.bin\",\"rb\")\n",
    "word_index = pickle.load(f)\n",
    "f.close()"
   ]
  },
  {
   "cell_type": "code",
   "execution_count": 31,
   "id": "cc6f7f0d",
   "metadata": {},
   "outputs": [],
   "source": [
    "sent = \"내일 오전 10시에 탕수육 주문하고 싶어 ㅋㅋ\""
   ]
  },
  {
   "cell_type": "code",
   "execution_count": 33,
   "id": "21b8925b",
   "metadata": {},
   "outputs": [],
   "source": [
    "p = Preprocess(userdic='../utils/user_dic.tsv')"
   ]
  },
  {
   "cell_type": "code",
   "execution_count": 34,
   "id": "49c0ea86",
   "metadata": {},
   "outputs": [],
   "source": [
    "pos = p.pos(sent)"
   ]
  },
  {
   "cell_type": "code",
   "execution_count": 35,
   "id": "0ae8347e",
   "metadata": {},
   "outputs": [],
   "source": [
    "keywords = p.get_keywords(pos, without_tag=True)"
   ]
  },
  {
   "cell_type": "code",
   "execution_count": 37,
   "id": "c76425be",
   "metadata": {},
   "outputs": [
    {
     "name": "stdout",
     "output_type": "stream",
     "text": [
      "내일 14\n",
      "오전 269\n",
      "10 105\n",
      "시 4\n",
      "탕수육 431\n",
      "주문 3\n",
      "싶 11\n",
      "ㅋㅋ 10728\n"
     ]
    }
   ],
   "source": [
    "for word in keywords:\n",
    "    try:\n",
    "        print(word, word_index[word])\n",
    "    except KeyError:\n",
    "        print(word, word_index['OOV'])"
   ]
  },
  {
   "cell_type": "code",
   "execution_count": null,
   "id": "60dff65e",
   "metadata": {},
   "outputs": [],
   "source": []
  }
 ],
 "metadata": {
  "kernelspec": {
   "display_name": "Python 3 (ipykernel)",
   "language": "python",
   "name": "python3"
  },
  "language_info": {
   "codemirror_mode": {
    "name": "ipython",
    "version": 3
   },
   "file_extension": ".py",
   "mimetype": "text/x-python",
   "name": "python",
   "nbconvert_exporter": "python",
   "pygments_lexer": "ipython3",
   "version": "3.9.12"
  }
 },
 "nbformat": 4,
 "nbformat_minor": 5
}
