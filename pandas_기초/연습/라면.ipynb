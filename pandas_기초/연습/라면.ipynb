{
 "cells": [
  {
   "cell_type": "code",
   "execution_count": 5,
   "id": "befbe01d",
   "metadata": {},
   "outputs": [],
   "source": [
    "str = '''라면은 한국에서 매우 인기 있는 음식 중 하나입니다!\n",
    "라면은 정말 맛있죠!\n",
    "라면은 정말로 만드는 과정이 간단하고 맛도 좋아요!\n",
    "라면은 정말 다양한 종류와 맛으로 즐길 수 있는 음식이에요!\n",
    "라면은 정말 맛있는 음식이죠!\n",
    "라면은 한국을 대표하는 대중 음식 중 하나로, 전 세계에서도 인기 있는 음식이에요!\n",
    "라면은 정말로 맛있는 음식이죠!\n",
    "'''\n",
    "\n",
    "list_str = str.split(\"\\n\")\n"
   ]
  },
  {
   "cell_type": "code",
   "execution_count": 6,
   "id": "5561c188",
   "metadata": {},
   "outputs": [
    {
     "data": {
      "text/plain": [
       "['라면은 한국에서 매우 인기 있는 음식 중 하나입니다!',\n",
       " '라면은 정말 맛있죠!',\n",
       " '라면은 정말로 만드는 과정이 간단하고 맛도 좋아요!',\n",
       " '라면은 정말 다양한 종류와 맛으로 즐길 수 있는 음식이에요!',\n",
       " '라면은 정말 맛있는 음식이죠!',\n",
       " '라면은 한국을 대표하는 대중 음식 중 하나로, 전 세계에서도 인기 있는 음식이에요!',\n",
       " '라면은 정말로 맛있는 음식이죠!',\n",
       " '']"
      ]
     },
     "execution_count": 6,
     "metadata": {},
     "output_type": "execute_result"
    }
   ],
   "source": [
    "list_str"
   ]
  },
  {
   "cell_type": "code",
   "execution_count": null,
   "id": "7a8678f3",
   "metadata": {},
   "outputs": [],
   "source": []
  }
 ],
 "metadata": {
  "kernelspec": {
   "display_name": "Python 3 (ipykernel)",
   "language": "python",
   "name": "python3"
  },
  "language_info": {
   "codemirror_mode": {
    "name": "ipython",
    "version": 3
   },
   "file_extension": ".py",
   "mimetype": "text/x-python",
   "name": "python",
   "nbconvert_exporter": "python",
   "pygments_lexer": "ipython3",
   "version": "3.9.12"
  }
 },
 "nbformat": 4,
 "nbformat_minor": 5
}
