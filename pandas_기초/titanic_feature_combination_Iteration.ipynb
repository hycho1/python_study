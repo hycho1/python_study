{
 "cells": [
  {
   "cell_type": "code",
   "execution_count": 1,
   "id": "26c77b6f",
   "metadata": {},
   "outputs": [],
   "source": [
    "from itertools import combinations\n",
    "import pandas as pd\n",
    "import seaborn as sns\n",
    "import matplotlib.pyplot as plt\n"
   ]
  },
  {
   "cell_type": "code",
   "execution_count": 2,
   "id": "72fc5d63",
   "metadata": {},
   "outputs": [],
   "source": [
    "def get_column_combinations(columns):\n",
    "    column_combinations = []\n",
    "    for r in range(1, len(columns) + 1):\n",
    "        column_combinations.extend(combinations(columns, r))\n",
    "    return column_combinations"
   ]
  },
  {
   "cell_type": "markdown",
   "id": "54bbcfcb",
   "metadata": {},
   "source": [
    "columns = [\"A\", \"B\", \"C\"]\n",
    "\n",
    "temp = []\n",
    "\n",
    "가능한 경우의 수를 출력\n"
   ]
  },
  {
   "cell_type": "code",
   "execution_count": null,
   "id": "8f9b44a9",
   "metadata": {},
   "outputs": [],
   "source": [
    "train = pd.read_csv(\"data_titanic/train_one_hot_.csv\", index_col = \"PassengerId\")\n",
    "test = pd.read_csv(\"data_titanic/test_one_hot.csv\", index_col = \"PassengerId\")"
   ]
  },
  {
   "cell_type": "code",
   "execution_count": null,
   "id": "e4da3bd9",
   "metadata": {},
   "outputs": [],
   "source": [
    "# Sex (1: female, 0: male)\n",
    "train[\"Sex\"] == \"male\""
   ]
  },
  {
   "cell_type": "code",
   "execution_count": null,
   "id": "7cc7c683",
   "metadata": {},
   "outputs": [],
   "source": [
    "train.loc[train[\"Sex\"] == \"male\", \"Sex_encode\"] = 0\n",
    "train.loc[train[\"Sex\"] == \"female\", \"Sex_encode\"] = 1"
   ]
  },
  {
   "cell_type": "code",
   "execution_count": null,
   "id": "1042a027",
   "metadata": {},
   "outputs": [],
   "source": [
    "test[\"Sex\"] == 'male'\n",
    "test.loc[test[\"Sex\"] == \"male\", \"Sex_encode\"] = 0\n",
    "test.loc[test[\"Sex\"] == \"female\", \"Sex_encode\"] = 1"
   ]
  },
  {
   "cell_type": "code",
   "execution_count": null,
   "id": "fdb682f4",
   "metadata": {},
   "outputs": [],
   "source": [
    "label_name = \"Survived\""
   ]
  },
  {
   "cell_type": "code",
   "execution_count": 12,
   "id": "64a75870",
   "metadata": {},
   "outputs": [],
   "source": [
    "columns = ['Pclass(F)', 'Pclass(B)', 'Pclass(E)','SibSp', 'Parch', 'Single','Sex_encode']\n",
    "temp = []\n",
    "column_combinations = get_column_combinations(columns)\n",
    "for combination in column_combinations:\n",
    "    temp.append(combination)\n",
    "\n",
    "for feature_names in temp:\n",
    "    len(feature_names)\n",
    "\n",
    "#feature_names = ['Pclass(F)', 'Pclass(B)', 'Pclass(E)','SibSp', 'Parch', 'Single','Sex_encode']"
   ]
  },
  {
   "cell_type": "code",
   "execution_count": null,
   "id": "fdcb108e",
   "metadata": {},
   "outputs": [],
   "source": []
  },
  {
   "cell_type": "code",
   "execution_count": null,
   "id": "c2761c3d",
   "metadata": {},
   "outputs": [],
   "source": []
  },
  {
   "cell_type": "code",
   "execution_count": null,
   "id": "1b5d1ac0",
   "metadata": {},
   "outputs": [],
   "source": []
  },
  {
   "cell_type": "code",
   "execution_count": null,
   "id": "a4e0d19b",
   "metadata": {},
   "outputs": [],
   "source": []
  },
  {
   "cell_type": "code",
   "execution_count": null,
   "id": "ac3d48da",
   "metadata": {},
   "outputs": [],
   "source": []
  },
  {
   "cell_type": "code",
   "execution_count": null,
   "id": "258c5a35",
   "metadata": {},
   "outputs": [],
   "source": []
  },
  {
   "cell_type": "code",
   "execution_count": null,
   "id": "9f083a1e",
   "metadata": {},
   "outputs": [],
   "source": []
  },
  {
   "cell_type": "code",
   "execution_count": null,
   "id": "386b2830",
   "metadata": {},
   "outputs": [],
   "source": []
  },
  {
   "cell_type": "code",
   "execution_count": null,
   "id": "a52c9d52",
   "metadata": {},
   "outputs": [],
   "source": []
  },
  {
   "cell_type": "code",
   "execution_count": null,
   "id": "b25bd45e",
   "metadata": {},
   "outputs": [],
   "source": []
  },
  {
   "cell_type": "code",
   "execution_count": null,
   "id": "dc945580",
   "metadata": {},
   "outputs": [],
   "source": []
  },
  {
   "cell_type": "code",
   "execution_count": null,
   "id": "59097a06",
   "metadata": {},
   "outputs": [],
   "source": []
  },
  {
   "cell_type": "code",
   "execution_count": null,
   "id": "a1343710",
   "metadata": {},
   "outputs": [],
   "source": []
  },
  {
   "cell_type": "code",
   "execution_count": null,
   "id": "bbdf9051",
   "metadata": {},
   "outputs": [],
   "source": []
  },
  {
   "cell_type": "code",
   "execution_count": null,
   "id": "7886cfb2",
   "metadata": {},
   "outputs": [],
   "source": []
  }
 ],
 "metadata": {
  "kernelspec": {
   "display_name": "Python 3 (ipykernel)",
   "language": "python",
   "name": "python3"
  },
  "language_info": {
   "codemirror_mode": {
    "name": "ipython",
    "version": 3
   },
   "file_extension": ".py",
   "mimetype": "text/x-python",
   "name": "python",
   "nbconvert_exporter": "python",
   "pygments_lexer": "ipython3",
   "version": "3.9.12"
  }
 },
 "nbformat": 4,
 "nbformat_minor": 5
}
