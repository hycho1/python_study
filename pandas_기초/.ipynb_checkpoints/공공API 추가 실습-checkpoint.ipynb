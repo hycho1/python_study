{
 "cells": [
  {
   "cell_type": "markdown",
   "id": "054ae1f1",
   "metadata": {},
   "source": [
    "#### 추가 실습\n",
    "- 공공API 데이터 끌어오기 (친숙해지기)\n",
    "- (필수) 특정 월에 서울시 전체 구의 데이터를 한 번에 가져오기(입력 값: 년월 ex. 202402)\n",
    "- (선택) 특정 서울시 하나의 구의 과거 1년치 데이터를 한 번에 가져오기(입력 값: 특정 구 하나)"
   ]
  },
  {
   "cell_type": "markdown",
   "id": "7ebfd452",
   "metadata": {},
   "source": [
    "작업 정리\n",
    "1. 데이터 LOAD\n",
    "2. 데이터 처리\n",
    "3. 결과 데이터 파일 OUTPUT"
   ]
  },
  {
   "cell_type": "code",
   "execution_count": 17,
   "id": "55baa61c",
   "metadata": {},
   "outputs": [],
   "source": [
    "import pandas as pd\n",
    "import requests\n",
    "from bs4 import BeautifulSoup\n",
    "import xml.etree.ElementTree as ET\n",
    "from pathlib import Path"
   ]
  },
  {
   "cell_type": "code",
   "execution_count": 18,
   "id": "0c036978",
   "metadata": {},
   "outputs": [],
   "source": [
    "# 공공 API 키 정보 로드\n",
    "\n",
    "def load_key():\n",
    "    api_key_file = open(\"pubAPI/my_api_key.txt\",\"r\")\n",
    "    key_data=api_key_file.readlines()\n",
    "    my_key=key_data[0]\n",
    "    api_key_file.close()\n",
    "    \n",
    "    return my_key"
   ]
  },
  {
   "cell_type": "code",
   "execution_count": 19,
   "id": "4b1dec18",
   "metadata": {},
   "outputs": [],
   "source": [
    "#공공 API 전달 데이터 프리셋 생성\n",
    "\n",
    "base_url = \"http://openapi.molit.go.kr:8081/OpenAPI_ToolInstallPackage/service/rest/RTMSOBJSvc/getRTMSDataSvcAptTrade\"\n",
    "\n",
    "def setData(base_url,lawd_cd, yyyymm,API_key):\n",
    "    \n",
    "    area_cd = \"LAWD_CD=\" + lawd_cd\n",
    "    deal_dt = \"DEAL_YMD=\" + yyyymm\n",
    "    svc_key = \"serviceKey=\" + API_key\n",
    "    \n",
    "    print(\"#### Data sending : \" + area_cd +\"\\t\"+ deal_dt)\n",
    "    \n",
    "    result_url = base_url + \"?\" + area_cd + \"&\" + deal_dt + \"&\" + svc_key + \"&\" +\"wadl&type=xml\"\n",
    "    \n",
    "    return result_url"
   ]
  },
  {
   "cell_type": "code",
   "execution_count": 20,
   "id": "c4f72a22",
   "metadata": {},
   "outputs": [],
   "source": [
    "#print(setData(base_url,\"종로구\",\"202310\", load_key()))"
   ]
  },
  {
   "cell_type": "code",
   "execution_count": 21,
   "id": "dae5de8d",
   "metadata": {},
   "outputs": [],
   "source": [
    "# 리스트로 형식 변경\n",
    "\n",
    "def find_xml_items(response):\n",
    "    root = ET.fromstring(response.content)\n",
    "    item_list = []\n",
    "    for child in root.find('body').find('items'):\n",
    "        elements = child.findall('*')\n",
    "        data = {}\n",
    "        for element in elements:\n",
    "            tag = element.tag.strip()\n",
    "            text = element.text.strip()\n",
    "            data[tag] = text\n",
    "        item_list.append(data)  \n",
    "    return item_list"
   ]
  },
  {
   "cell_type": "code",
   "execution_count": 22,
   "id": "6f28424b",
   "metadata": {},
   "outputs": [],
   "source": [
    "# 법정동명, 코드 매핑\n",
    "\n",
    "def getCode_lawd(lawd_name):\n",
    "    lawd_cd = pd.read_csv(\"pubAPI/법정동코드 전체자료.txt\", sep='\\t', encoding ='cp949') #'euc-kr', 'utf-8'\n",
    "    \n",
    "    return lawd_cd[(lawd_cd['법정동명'].str.contains(lawd_name)) & (lawd_cd['폐지여부'] == \"존재\")].head(1).iloc[0,0].astype(str)[0:5]\n",
    "    "
   ]
  },
  {
   "cell_type": "code",
   "execution_count": 28,
   "id": "3cbc9c78",
   "metadata": {},
   "outputs": [],
   "source": [
    "#공공 API 호출 및 저장\n",
    "\n",
    "def getData(url,lawd_name, yyyymm, file_path=\"\"):\n",
    "    response = requests.get(url)\n",
    "    items_list = find_xml_items(response)\n",
    "    result = pd.DataFrame(items_list)\n",
    "    \n",
    "    name_info = lawd_name + \"_\" + yyyymm  \n",
    "    file_name = f\"pubAPI/{file_path}/result_{name_info}.csv\"\n",
    "\n",
    "    result.to_csv(file_name, index=False, mode='a')\n",
    "    \n",
    "    return file_name"
   ]
  },
  {
   "cell_type": "code",
   "execution_count": 29,
   "id": "91e96501",
   "metadata": {},
   "outputs": [],
   "source": [
    "def mkdir(lawd_name,yyyymm):\n",
    "    \n",
    "        # 새로운 폴더 경로 지정\n",
    "    name_info = lawd_name + \"_\" + yyyymm\n",
    "        \n",
    "    folder_path = Path(f\"pubAPI/{name_info}\")\n",
    "\n",
    "    # 해당 경로에 폴더 생성\n",
    "    folder_path.mkdir(parents=True, exist_ok=True)\n",
    "        "
   ]
  },
  {
   "cell_type": "code",
   "execution_count": 27,
   "id": "648f0de1",
   "metadata": {},
   "outputs": [
    {
     "name": "stdout",
     "output_type": "stream",
     "text": [
      "검색지역 입력 : 종로구\n",
      "계약월 입력(예: 201911) : 201910\n",
      "#### Data sending : LAWD_CD=11110\tDEAL_YMD=201910\n"
     ]
    },
    {
     "data": {
      "text/plain": [
       "'pubAPI/result_종로구_201910.csv'"
      ]
     },
     "execution_count": 27,
     "metadata": {},
     "output_type": "execute_result"
    }
   ],
   "source": [
    "#### - Input Data : LAWD_CD, DEAL_YMD, serviceKey  입력받기\n",
    "in_lawd = input(\"검색지역 입력 : \")\n",
    "\n",
    "in_deal_ymd = input(\"계약월 입력(예: 201911) : \")\n",
    "\n",
    "#mkdir(in_lawd,in_deal_ymd)\n",
    "\n",
    "getData(setData(base_url,getCode_lawd(in_lawd), in_deal_ymd, load_key()), in_lawd, in_deal_ymd)"
   ]
  },
  {
   "cell_type": "markdown",
   "id": "a7fbad79",
   "metadata": {},
   "source": [
    "(필수) 특정 월에 서울시 전체 구의 데이터를 한 번에 가져오기(입력 값: 년월 ex. 202402)\n",
    "(선택) 특정 서울시 하나의 구의 과거 1년치 데이터를 한 번에 가져오기(입력 값: 특정 구 하나)"
   ]
  },
  {
   "cell_type": "code",
   "execution_count": 30,
   "id": "96b060bf",
   "metadata": {},
   "outputs": [],
   "source": [
    "# 시단위 입력 받아 코드 앞 5자리 파싱\n",
    "\n",
    "def listing_lawd_code(str_):\n",
    "    \n",
    "    temp = []\n",
    "    temp1 = []\n",
    "    lawd_cd = pd.read_csv(\"pubAPI/법정동코드 전체자료.txt\", sep='\\t', encoding ='cp949') #'euc-kr', 'utf-8'\n",
    "\n",
    "    seoul_indices = lawd_cd.index[lawd_cd['법정동명'].str.contains(str_)]\n",
    "    \n",
    "    for i in range(len(seoul_indices)):\n",
    "        temp.append(lawd_cd.iloc[i]['법정동코드'].astype(str)[0:5])\n",
    "        temp1\n",
    "    \n",
    "    temp_set = set(temp)\n",
    "    \n",
    "    return list(temp_set)"
   ]
  },
  {
   "cell_type": "code",
   "execution_count": 31,
   "id": "5c6718d6",
   "metadata": {},
   "outputs": [],
   "source": [
    "# 시단위 입력 받아 구 단위 파싱\n",
    "\n",
    "def listing_lawd_name(str_):\n",
    "    \n",
    "    temp = []\n",
    "    result = []\n",
    "    lawd_cd = pd.read_csv(\"pubAPI/법정동코드 전체자료.txt\", sep='\\t', encoding ='cp949') #'euc-kr', 'utf-8'\n",
    "\n",
    "    seoul_indices = lawd_cd.loc[(lawd_cd['법정동명'].str.contains(str_)) & (lawd_cd['폐지여부'] == \"존재\"),'법정동명']\n",
    "    \n",
    "    for i in seoul_indices:\n",
    "        temp = i.split()\n",
    "        if(len(temp) > 2):\n",
    "            result.append(temp[1])\n",
    "        \n",
    "    return list(set(result))\n"
   ]
  },
  {
   "cell_type": "code",
   "execution_count": 13,
   "id": "2bcd3ac8",
   "metadata": {},
   "outputs": [
    {
     "data": {
      "text/plain": [
       "['도봉구',\n",
       " '마포구',\n",
       " '용산구',\n",
       " '송파구',\n",
       " '은평구',\n",
       " '양천구',\n",
       " '종로구',\n",
       " '성북구',\n",
       " '광진구',\n",
       " '서대문구',\n",
       " '구로구',\n",
       " '동대문구',\n",
       " '강남구',\n",
       " '중구',\n",
       " '중랑구',\n",
       " '강서구',\n",
       " '영등포구',\n",
       " '성동구',\n",
       " '강북구',\n",
       " '금천구',\n",
       " '서초구',\n",
       " '동작구',\n",
       " '관악구',\n",
       " '노원구',\n",
       " '강동구']"
      ]
     },
     "execution_count": 13,
     "metadata": {},
     "output_type": "execute_result"
    }
   ],
   "source": [
    "listing_lawd_name(\"서울특별시\")"
   ]
  },
  {
   "cell_type": "code",
   "execution_count": 32,
   "id": "f859839e",
   "metadata": {},
   "outputs": [
    {
     "name": "stdout",
     "output_type": "stream",
     "text": [
      "계약월 입력(예: 202402) : 202306\n",
      "#### Data sending : LAWD_CD=11320\tDEAL_YMD=202306\n",
      "#### Data sending : LAWD_CD=11440\tDEAL_YMD=202306\n",
      "#### Data sending : LAWD_CD=11170\tDEAL_YMD=202306\n",
      "#### Data sending : LAWD_CD=11710\tDEAL_YMD=202306\n",
      "#### Data sending : LAWD_CD=11380\tDEAL_YMD=202306\n",
      "#### Data sending : LAWD_CD=11470\tDEAL_YMD=202306\n",
      "#### Data sending : LAWD_CD=11110\tDEAL_YMD=202306\n",
      "#### Data sending : LAWD_CD=11290\tDEAL_YMD=202306\n",
      "#### Data sending : LAWD_CD=11215\tDEAL_YMD=202306\n",
      "#### Data sending : LAWD_CD=11410\tDEAL_YMD=202306\n",
      "#### Data sending : LAWD_CD=11530\tDEAL_YMD=202306\n",
      "#### Data sending : LAWD_CD=11230\tDEAL_YMD=202306\n",
      "#### Data sending : LAWD_CD=11680\tDEAL_YMD=202306\n",
      "#### Data sending : LAWD_CD=11140\tDEAL_YMD=202306\n",
      "#### Data sending : LAWD_CD=11260\tDEAL_YMD=202306\n",
      "#### Data sending : LAWD_CD=11500\tDEAL_YMD=202306\n",
      "#### Data sending : LAWD_CD=11560\tDEAL_YMD=202306\n",
      "#### Data sending : LAWD_CD=11200\tDEAL_YMD=202306\n",
      "#### Data sending : LAWD_CD=11305\tDEAL_YMD=202306\n",
      "#### Data sending : LAWD_CD=11545\tDEAL_YMD=202306\n",
      "#### Data sending : LAWD_CD=11650\tDEAL_YMD=202306\n",
      "#### Data sending : LAWD_CD=11590\tDEAL_YMD=202306\n",
      "#### Data sending : LAWD_CD=11620\tDEAL_YMD=202306\n",
      "#### Data sending : LAWD_CD=11350\tDEAL_YMD=202306\n",
      "#### Data sending : LAWD_CD=11740\tDEAL_YMD=202306\n",
      "end\n"
     ]
    }
   ],
   "source": [
    "#(필수) 특정 월에 서울시 전체 구의 데이터를 한 번에 가져오기(입력 값: 년월 ex. 202402)\n",
    "\n",
    "date = input(\"계약월 입력(예: 202402) : \")\n",
    "\n",
    "str_location = \"서울특별시\"\n",
    "\n",
    "mkdir(str_location,date)\n",
    "\n",
    "for i in listing_lawd_name(str_location):\n",
    "    getData(setData(base_url, getCode_lawd(i), date, load_key()), i, date, str_location+\"_\"+date)\n",
    "    \n",
    "print(\"end\")"
   ]
  },
  {
   "cell_type": "code",
   "execution_count": null,
   "id": "9368f5b9",
   "metadata": {},
   "outputs": [],
   "source": [
    "#(선택) 특정 서울시 하나의 구의 과거 1년치 데이터를 한 번에 가져오기(입력 값: 특정 구 하나)"
   ]
  },
  {
   "cell_type": "code",
   "execution_count": 41,
   "id": "bab0047b",
   "metadata": {},
   "outputs": [],
   "source": [
    "from datetime import datetime, timedelta\n",
    "\n",
    "def get_past_year_months(input_month):\n",
    "    # 입력된 월을 YYYYMM 형식으로 변환\n",
    "    input_date = datetime.strptime(input_month, \"%Y%m\")\n",
    "    \n",
    "    print(input_date)\n",
    "    print(\"aa\")\n",
    "    \n",
    "    # 과거 1년치의 월 리스트 생성\n",
    "    past_year_months = []\n",
    "    for i in range(12):\n",
    "        month = input_date - timedelta(days=30*(i+1))\n",
    "        print(month)\n",
    "        past_year_months.append(month.strftime(\"%Y%m\"))\n",
    "\n",
    "    return past_year_months[::-1]  # 리스트를 역순으로 반환하여 최근 월부터 순서대로 출력"
   ]
  },
  {
   "cell_type": "code",
   "execution_count": 42,
   "id": "faa29b82",
   "metadata": {},
   "outputs": [
    {
     "name": "stdout",
     "output_type": "stream",
     "text": [
      "검색지역 입력 : 종로구\n"
     ]
    },
    {
     "ename": "TypeError",
     "evalue": "can only concatenate str (not \"datetime.datetime\") to str",
     "output_type": "error",
     "traceback": [
      "\u001b[1;31m---------------------------------------------------------------------------\u001b[0m",
      "\u001b[1;31mTypeError\u001b[0m                                 Traceback (most recent call last)",
      "Input \u001b[1;32mIn [42]\u001b[0m, in \u001b[0;36m<cell line: 7>\u001b[1;34m()\u001b[0m\n\u001b[0;32m      3\u001b[0m today \u001b[38;5;241m=\u001b[39m datetime\u001b[38;5;241m.\u001b[39mnow()\u001b[38;5;241m.\u001b[39mstrftime(\u001b[38;5;124m\"\u001b[39m\u001b[38;5;124m%\u001b[39m\u001b[38;5;124mY\u001b[39m\u001b[38;5;124m%\u001b[39m\u001b[38;5;124mm\u001b[39m\u001b[38;5;124m\"\u001b[39m)\n\u001b[0;32m      5\u001b[0m mkdir(in_lawd,today)\n\u001b[1;32m----> 7\u001b[0m \u001b[38;5;28;01mfor\u001b[39;00m i \u001b[38;5;129;01min\u001b[39;00m \u001b[43mget_past_year_months\u001b[49m\u001b[43m(\u001b[49m\u001b[43mtoday\u001b[49m\u001b[43m)\u001b[49m:\n\u001b[0;32m      8\u001b[0m     getData(setData(base_url,getCode_lawd(in_lawd), i, load_key()), in_lawd, i, in_lawd\u001b[38;5;241m+\u001b[39m\u001b[38;5;124m\"\u001b[39m\u001b[38;5;124m_\u001b[39m\u001b[38;5;124m\"\u001b[39m\u001b[38;5;241m+\u001b[39mtoday)\n",
      "Input \u001b[1;32mIn [41]\u001b[0m, in \u001b[0;36mget_past_year_months\u001b[1;34m(input_month)\u001b[0m\n\u001b[0;32m      3\u001b[0m \u001b[38;5;28;01mdef\u001b[39;00m \u001b[38;5;21mget_past_year_months\u001b[39m(input_month):\n\u001b[0;32m      4\u001b[0m     \u001b[38;5;66;03m# 입력된 월을 YYYYMM 형식으로 변환\u001b[39;00m\n\u001b[0;32m      5\u001b[0m     input_date \u001b[38;5;241m=\u001b[39m datetime\u001b[38;5;241m.\u001b[39mstrptime(input_month, \u001b[38;5;124m\"\u001b[39m\u001b[38;5;124m%\u001b[39m\u001b[38;5;124mY\u001b[39m\u001b[38;5;124m%\u001b[39m\u001b[38;5;124mm\u001b[39m\u001b[38;5;124m\"\u001b[39m)\n\u001b[1;32m----> 7\u001b[0m     \u001b[38;5;28mprint\u001b[39m(\u001b[38;5;124;43m\"\u001b[39;49m\u001b[38;5;124;43mㅁㅁ : \u001b[39;49m\u001b[38;5;124;43m\"\u001b[39;49m\u001b[43m \u001b[49m\u001b[38;5;241;43m+\u001b[39;49m\u001b[43m \u001b[49m\u001b[43minput_date\u001b[49m)\n\u001b[0;32m      9\u001b[0m     \u001b[38;5;66;03m# 과거 1년치의 월 리스트 생성\u001b[39;00m\n\u001b[0;32m     10\u001b[0m     past_year_months \u001b[38;5;241m=\u001b[39m []\n",
      "\u001b[1;31mTypeError\u001b[0m: can only concatenate str (not \"datetime.datetime\") to str"
     ]
    }
   ],
   "source": [
    "in_lawd = input(\"검색지역 입력 : \")\n",
    "\n",
    "today = datetime.now().strftime(\"%Y%m\")\n",
    "\n",
    "mkdir(in_lawd,today)\n",
    "\n",
    "for i in get_past_year_months(today):\n",
    "    getData(setData(base_url,getCode_lawd(in_lawd), i, load_key()), in_lawd, i, in_lawd+\"_\"+today)"
   ]
  },
  {
   "cell_type": "code",
   "execution_count": null,
   "id": "c8d7ca00",
   "metadata": {},
   "outputs": [],
   "source": []
  }
 ],
 "metadata": {
  "kernelspec": {
   "display_name": "Python 3 (ipykernel)",
   "language": "python",
   "name": "python3"
  },
  "language_info": {
   "codemirror_mode": {
    "name": "ipython",
    "version": 3
   },
   "file_extension": ".py",
   "mimetype": "text/x-python",
   "name": "python",
   "nbconvert_exporter": "python",
   "pygments_lexer": "ipython3",
   "version": "3.9.12"
  }
 },
 "nbformat": 4,
 "nbformat_minor": 5
}
