{
 "cells": [
  {
   "cell_type": "markdown",
   "id": "054ae1f1",
   "metadata": {},
   "source": [
    "#### 추가 실습\n",
    "- 공공API 데이터 끌어오기 (친숙해지기)\n",
    "- (필수) 특정 월에 서울시 전체 구의 데이터를 한 번에 가져오기(입력 값: 년월 ex. 202402)\n",
    "- (선택) 특정 서울시 하나의 구의 과거 1년치 데이터를 한 번에 가져오기(입력 값: 특정 구 하나)"
   ]
  },
  {
   "cell_type": "markdown",
   "id": "7ebfd452",
   "metadata": {},
   "source": [
    "작업 정리\n",
    "1. 데이터 LOAD\n",
    "2. 데이터 처리\n",
    "3. 결과 데이터 파일 OUTPUT"
   ]
  },
  {
   "cell_type": "code",
   "execution_count": 18,
   "id": "55baa61c",
   "metadata": {},
   "outputs": [],
   "source": [
    "import pandas as pd\n",
    "import requests\n",
    "from bs4 import BeautifulSoup\n",
    "import xml.etree.ElementTree as ET"
   ]
  },
  {
   "cell_type": "code",
   "execution_count": 3,
   "id": "0c036978",
   "metadata": {},
   "outputs": [],
   "source": [
    "# 공공 API 키 정보 로드\n",
    "\n",
    "def load_key():\n",
    "    api_key_file = open(\"pubAPI/my_api_key.txt\",\"r\")\n",
    "    key_data=api_key_file.readlines()\n",
    "    my_key=key_data[0]\n",
    "    api_key_file.close()\n",
    "    \n",
    "    return my_key"
   ]
  },
  {
   "cell_type": "code",
   "execution_count": 282,
   "id": "4b1dec18",
   "metadata": {},
   "outputs": [],
   "source": [
    "#공공 API 전달 데이터 프리셋 생성\n",
    "\n",
    "base_url = \"http://openapi.molit.go.kr:8081/OpenAPI_ToolInstallPackage/service/rest/RTMSOBJSvc/getRTMSDataSvcAptTrade\"\n",
    "\n",
    "def setData(base_url,lawd_cd, yyyymm,API_key):\n",
    "    \n",
    "    area_cd = \"LAWD_CD=\" + lawd_cd\n",
    "    deal_dt = \"DEAL_YMD=\" + yyyymm\n",
    "    svc_key = \"serviceKey=\" + API_key\n",
    "    result_url = base_url + \"?\" + area_cd + \"&\" + deal_dt + \"&\" + svc_key + \"&\" +\"wadl&type=xml\"\n",
    "    \n",
    "    return result_url"
   ]
  },
  {
   "cell_type": "code",
   "execution_count": 14,
   "id": "c4f72a22",
   "metadata": {},
   "outputs": [],
   "source": [
    "#print(setData(base_url,param, load_key()))"
   ]
  },
  {
   "cell_type": "code",
   "execution_count": 59,
   "id": "dae5de8d",
   "metadata": {},
   "outputs": [],
   "source": [
    "def find_xml_items(response):\n",
    "    root = ET.fromstring(response.content)\n",
    "    item_list = []\n",
    "    for child in root.find('body').find('items'):\n",
    "        elements = child.findall('*')\n",
    "        data = {}\n",
    "        for element in elements:\n",
    "            tag = element.tag.strip()\n",
    "            text = element.text.strip()\n",
    "            data[tag] = text\n",
    "        item_list.append(data)  \n",
    "    return item_list"
   ]
  },
  {
   "cell_type": "code",
   "execution_count": 52,
   "id": "6f28424b",
   "metadata": {},
   "outputs": [],
   "source": [
    "# 법정동명, 코드 매핑\n",
    "\n",
    "def getCode_lawd(lawd_name):\n",
    "    lawd_cd = pd.read_csv(\"pubAPI/법정동코드 전체자료.txt\", sep='\\t', encoding ='cp949') #'euc-kr', 'utf-8'\n",
    "    \n",
    "    return lawd_cd[(lawd_cd['법정동명'].str.contains(lawd_name)) & (lawd_cd['폐지여부'] == \"존재\")].head(1).iloc[0,0].astype(str)[0:5]\n",
    "    "
   ]
  },
  {
   "cell_type": "code",
   "execution_count": 55,
   "id": "3cbc9c78",
   "metadata": {},
   "outputs": [],
   "source": [
    "#공공 API 호출 및 저장\n",
    "\n",
    "def getData(url,lawd_name, yyyymm):\n",
    "    response = requests.get(url)\n",
    "    items_list = find_xml_items(response)\n",
    "    result = pd.DataFrame(items_list)\n",
    "    \n",
    "    name_info = lawd_name + \"_\" + yyyymm\n",
    "    file_name = f\"pubAPI/result_{name_info}.csv\"\n",
    "\n",
    "    result.to_csv(file_name, index=False, mode='a')\n",
    "    \n",
    "    return file_name"
   ]
  },
  {
   "cell_type": "code",
   "execution_count": 40,
   "id": "3bb45d80",
   "metadata": {},
   "outputs": [
    {
     "name": "stdout",
     "output_type": "stream",
     "text": [
      "<Response [200]>\n"
     ]
    },
    {
     "data": {
      "text/plain": [
       "'pubAPI/result_종로구_202301.csv'"
      ]
     },
     "execution_count": 40,
     "metadata": {},
     "output_type": "execute_result"
    }
   ],
   "source": []
  },
  {
   "cell_type": "code",
   "execution_count": 357,
   "id": "648f0de1",
   "metadata": {},
   "outputs": [
    {
     "ename": "KeyboardInterrupt",
     "evalue": "Interrupted by user",
     "output_type": "error",
     "traceback": [
      "\u001b[1;31m---------------------------------------------------------------------------\u001b[0m",
      "\u001b[1;31mKeyboardInterrupt\u001b[0m                         Traceback (most recent call last)",
      "Input \u001b[1;32mIn [357]\u001b[0m, in \u001b[0;36m<cell line: 2>\u001b[1;34m()\u001b[0m\n\u001b[0;32m      1\u001b[0m \u001b[38;5;66;03m#### - Input Data : LAWD_CD, DEAL_YMD, serviceKey  입력받기\u001b[39;00m\n\u001b[1;32m----> 2\u001b[0m in_lawd \u001b[38;5;241m=\u001b[39m \u001b[38;5;28;43minput\u001b[39;49m\u001b[43m(\u001b[49m\u001b[38;5;124;43m\"\u001b[39;49m\u001b[38;5;124;43m검색지역 입력 : \u001b[39;49m\u001b[38;5;124;43m\"\u001b[39;49m\u001b[43m)\u001b[49m\n\u001b[0;32m      4\u001b[0m in_deal_ymd \u001b[38;5;241m=\u001b[39m \u001b[38;5;28minput\u001b[39m(\u001b[38;5;124m\"\u001b[39m\u001b[38;5;124m계약월 입력(예: 201911) : \u001b[39m\u001b[38;5;124m\"\u001b[39m)\n\u001b[0;32m      6\u001b[0m getData(setData(base_url,getCode_lawd(in_lawd), in_deal_ymd, load_key()), in_lawd, in_deal_ymd)\n",
      "File \u001b[1;32m~\\anaconda3\\lib\\site-packages\\ipykernel\\kernelbase.py:1075\u001b[0m, in \u001b[0;36mKernel.raw_input\u001b[1;34m(self, prompt)\u001b[0m\n\u001b[0;32m   1071\u001b[0m \u001b[38;5;28;01mif\u001b[39;00m \u001b[38;5;129;01mnot\u001b[39;00m \u001b[38;5;28mself\u001b[39m\u001b[38;5;241m.\u001b[39m_allow_stdin:\n\u001b[0;32m   1072\u001b[0m     \u001b[38;5;28;01mraise\u001b[39;00m StdinNotImplementedError(\n\u001b[0;32m   1073\u001b[0m         \u001b[38;5;124m\"\u001b[39m\u001b[38;5;124mraw_input was called, but this frontend does not support input requests.\u001b[39m\u001b[38;5;124m\"\u001b[39m\n\u001b[0;32m   1074\u001b[0m     )\n\u001b[1;32m-> 1075\u001b[0m \u001b[38;5;28;01mreturn\u001b[39;00m \u001b[38;5;28;43mself\u001b[39;49m\u001b[38;5;241;43m.\u001b[39;49m\u001b[43m_input_request\u001b[49m\u001b[43m(\u001b[49m\n\u001b[0;32m   1076\u001b[0m \u001b[43m    \u001b[49m\u001b[38;5;28;43mstr\u001b[39;49m\u001b[43m(\u001b[49m\u001b[43mprompt\u001b[49m\u001b[43m)\u001b[49m\u001b[43m,\u001b[49m\n\u001b[0;32m   1077\u001b[0m \u001b[43m    \u001b[49m\u001b[38;5;28;43mself\u001b[39;49m\u001b[38;5;241;43m.\u001b[39;49m\u001b[43m_parent_ident\u001b[49m\u001b[43m[\u001b[49m\u001b[38;5;124;43m\"\u001b[39;49m\u001b[38;5;124;43mshell\u001b[39;49m\u001b[38;5;124;43m\"\u001b[39;49m\u001b[43m]\u001b[49m\u001b[43m,\u001b[49m\n\u001b[0;32m   1078\u001b[0m \u001b[43m    \u001b[49m\u001b[38;5;28;43mself\u001b[39;49m\u001b[38;5;241;43m.\u001b[39;49m\u001b[43mget_parent\u001b[49m\u001b[43m(\u001b[49m\u001b[38;5;124;43m\"\u001b[39;49m\u001b[38;5;124;43mshell\u001b[39;49m\u001b[38;5;124;43m\"\u001b[39;49m\u001b[43m)\u001b[49m\u001b[43m,\u001b[49m\n\u001b[0;32m   1079\u001b[0m \u001b[43m    \u001b[49m\u001b[43mpassword\u001b[49m\u001b[38;5;241;43m=\u001b[39;49m\u001b[38;5;28;43;01mFalse\u001b[39;49;00m\u001b[43m,\u001b[49m\n\u001b[0;32m   1080\u001b[0m \u001b[43m\u001b[49m\u001b[43m)\u001b[49m\n",
      "File \u001b[1;32m~\\anaconda3\\lib\\site-packages\\ipykernel\\kernelbase.py:1120\u001b[0m, in \u001b[0;36mKernel._input_request\u001b[1;34m(self, prompt, ident, parent, password)\u001b[0m\n\u001b[0;32m   1117\u001b[0m             \u001b[38;5;28;01mbreak\u001b[39;00m\n\u001b[0;32m   1118\u001b[0m \u001b[38;5;28;01mexcept\u001b[39;00m \u001b[38;5;167;01mKeyboardInterrupt\u001b[39;00m:\n\u001b[0;32m   1119\u001b[0m     \u001b[38;5;66;03m# re-raise KeyboardInterrupt, to truncate traceback\u001b[39;00m\n\u001b[1;32m-> 1120\u001b[0m     \u001b[38;5;28;01mraise\u001b[39;00m \u001b[38;5;167;01mKeyboardInterrupt\u001b[39;00m(\u001b[38;5;124m\"\u001b[39m\u001b[38;5;124mInterrupted by user\u001b[39m\u001b[38;5;124m\"\u001b[39m) \u001b[38;5;28;01mfrom\u001b[39;00m \u001b[38;5;28mNone\u001b[39m\n\u001b[0;32m   1121\u001b[0m \u001b[38;5;28;01mexcept\u001b[39;00m \u001b[38;5;167;01mException\u001b[39;00m:\n\u001b[0;32m   1122\u001b[0m     \u001b[38;5;28mself\u001b[39m\u001b[38;5;241m.\u001b[39mlog\u001b[38;5;241m.\u001b[39mwarning(\u001b[38;5;124m\"\u001b[39m\u001b[38;5;124mInvalid Message:\u001b[39m\u001b[38;5;124m\"\u001b[39m, exc_info\u001b[38;5;241m=\u001b[39m\u001b[38;5;28;01mTrue\u001b[39;00m)\n",
      "\u001b[1;31mKeyboardInterrupt\u001b[0m: Interrupted by user"
     ]
    }
   ],
   "source": [
    "#### - Input Data : LAWD_CD, DEAL_YMD, serviceKey  입력받기\n",
    "in_lawd = input(\"검색지역 입력 : \")\n",
    "\n",
    "in_deal_ymd = input(\"계약월 입력(예: 201911) : \")\n",
    "\n",
    "getData(setData(base_url,getCode_lawd(in_lawd), in_deal_ymd, load_key()), in_lawd, in_deal_ymd)"
   ]
  },
  {
   "cell_type": "markdown",
   "id": "a7fbad79",
   "metadata": {},
   "source": [
    "(필수) 특정 월에 서울시 전체 구의 데이터를 한 번에 가져오기(입력 값: 년월 ex. 202402)\n",
    "(선택) 특정 서울시 하나의 구의 과거 1년치 데이터를 한 번에 가져오기(입력 값: 특정 구 하나)"
   ]
  },
  {
   "cell_type": "code",
   "execution_count": 347,
   "id": "96b060bf",
   "metadata": {},
   "outputs": [],
   "source": [
    "def listing_lawd_code(str_):\n",
    "    \n",
    "    temp = []\n",
    "    temp1 = []\n",
    "    lawd_cd = pd.read_csv(\"pubAPI/법정동코드 전체자료.txt\", sep='\\t', encoding ='cp949') #'euc-kr', 'utf-8'\n",
    "\n",
    "    seoul_indices = lawd_cd.index[lawd_cd['법정동명'].str.contains(str_)]\n",
    "    \n",
    "    for i in range(len(seoul_indices)):\n",
    "        temp.append(lawd_cd.iloc[i]['법정동코드'].astype(str)[0:5])\n",
    "        temp1\n",
    "    \n",
    "    temp_set = set(temp)\n",
    "    temp_set1 = set(temp1)    \n",
    "    \n",
    "    temp_list1 = list(temp_set1)\n",
    "    \n",
    "    return list(temp_set)"
   ]
  },
  {
   "cell_type": "code",
   "execution_count": 359,
   "id": "5c6718d6",
   "metadata": {},
   "outputs": [],
   "source": [
    "def listing_lawd_name(str_):\n",
    "    \n",
    "    temp = []\n",
    "    result = []\n",
    "    lawd_cd = pd.read_csv(\"pubAPI/법정동코드 전체자료.txt\", sep='\\t', encoding ='cp949') #'euc-kr', 'utf-8'\n",
    "\n",
    "    seoul_indices = lawd_cd.loc[(lawd_cd['법정동명'].str.contains(str_)) & (lawd_cd['폐지여부'] == \"존재\"),'법정동명']\n",
    "    \n",
    "    for i in seoul_indices:\n",
    "        temp = i.split()\n",
    "        if(len(temp) > 2):\n",
    "            result.append(temp[1])\n",
    "        \n",
    "    return list(set(result))\n"
   ]
  },
  {
   "cell_type": "code",
   "execution_count": 360,
   "id": "2bcd3ac8",
   "metadata": {},
   "outputs": [
    {
     "data": {
      "text/plain": [
       "['노원구',\n",
       " '중랑구',\n",
       " '성북구',\n",
       " '동작구',\n",
       " '동대문구',\n",
       " '마포구',\n",
       " '종로구',\n",
       " '송파구',\n",
       " '은평구',\n",
       " '양천구',\n",
       " '성동구',\n",
       " '금천구',\n",
       " '관악구',\n",
       " '영등포구',\n",
       " '강북구',\n",
       " '강남구',\n",
       " '용산구',\n",
       " '서대문구',\n",
       " '강서구',\n",
       " '도봉구',\n",
       " '강동구',\n",
       " '구로구',\n",
       " '광진구',\n",
       " '중구',\n",
       " '서초구']"
      ]
     },
     "execution_count": 360,
     "metadata": {},
     "output_type": "execute_result"
    }
   ],
   "source": [
    "listing_lawd_name(\"서울특별시\")"
   ]
  },
  {
   "cell_type": "code",
   "execution_count": 358,
   "id": "f859839e",
   "metadata": {},
   "outputs": [
    {
     "name": "stdout",
     "output_type": "stream",
     "text": [
      "계약월 입력(예: 202402) : 202402\n"
     ]
    },
    {
     "ename": "AttributeError",
     "evalue": "'NoneType' object has no attribute 'find'",
     "output_type": "error",
     "traceback": [
      "\u001b[1;31m---------------------------------------------------------------------------\u001b[0m",
      "\u001b[1;31mAttributeError\u001b[0m                            Traceback (most recent call last)",
      "Input \u001b[1;32mIn [358]\u001b[0m, in \u001b[0;36m<cell line: 5>\u001b[1;34m()\u001b[0m\n\u001b[0;32m      3\u001b[0m date \u001b[38;5;241m=\u001b[39m \u001b[38;5;28minput\u001b[39m(\u001b[38;5;124m\"\u001b[39m\u001b[38;5;124m계약월 입력(예: 202402) : \u001b[39m\u001b[38;5;124m\"\u001b[39m)\n\u001b[0;32m      5\u001b[0m \u001b[38;5;28;01mfor\u001b[39;00m i \u001b[38;5;129;01min\u001b[39;00m listing_lawd_name(\u001b[38;5;124m\"\u001b[39m\u001b[38;5;124m서울특별시\u001b[39m\u001b[38;5;124m\"\u001b[39m):\n\u001b[1;32m----> 6\u001b[0m     \u001b[43mgetData\u001b[49m\u001b[43m(\u001b[49m\u001b[43msetData\u001b[49m\u001b[43m(\u001b[49m\u001b[43mbase_url\u001b[49m\u001b[43m,\u001b[49m\u001b[43m \u001b[49m\u001b[43mi\u001b[49m\u001b[43m,\u001b[49m\u001b[43m \u001b[49m\u001b[43mdate\u001b[49m\u001b[43m,\u001b[49m\u001b[43m \u001b[49m\u001b[43mload_key\u001b[49m\u001b[43m(\u001b[49m\u001b[43m)\u001b[49m\u001b[43m)\u001b[49m\u001b[43m,\u001b[49m\u001b[43m \u001b[49m\u001b[43mi\u001b[49m\u001b[43m,\u001b[49m\u001b[43m \u001b[49m\u001b[43mdate\u001b[49m\u001b[43m)\u001b[49m\n",
      "Input \u001b[1;32mIn [55]\u001b[0m, in \u001b[0;36mgetData\u001b[1;34m(url, lawd_name, yyyymm)\u001b[0m\n\u001b[0;32m      3\u001b[0m \u001b[38;5;28;01mdef\u001b[39;00m \u001b[38;5;21mgetData\u001b[39m(url,lawd_name, yyyymm):\n\u001b[0;32m      4\u001b[0m     response \u001b[38;5;241m=\u001b[39m requests\u001b[38;5;241m.\u001b[39mget(url)\n\u001b[1;32m----> 5\u001b[0m     items_list \u001b[38;5;241m=\u001b[39m \u001b[43mfind_xml_items\u001b[49m\u001b[43m(\u001b[49m\u001b[43mresponse\u001b[49m\u001b[43m)\u001b[49m\n\u001b[0;32m      6\u001b[0m     result \u001b[38;5;241m=\u001b[39m pd\u001b[38;5;241m.\u001b[39mDataFrame(items_list)\n\u001b[0;32m      8\u001b[0m     name_info \u001b[38;5;241m=\u001b[39m lawd_name \u001b[38;5;241m+\u001b[39m \u001b[38;5;124m\"\u001b[39m\u001b[38;5;124m_\u001b[39m\u001b[38;5;124m\"\u001b[39m \u001b[38;5;241m+\u001b[39m yyyymm\n",
      "Input \u001b[1;32mIn [59]\u001b[0m, in \u001b[0;36mfind_xml_items\u001b[1;34m(response)\u001b[0m\n\u001b[0;32m      2\u001b[0m root \u001b[38;5;241m=\u001b[39m ET\u001b[38;5;241m.\u001b[39mfromstring(response\u001b[38;5;241m.\u001b[39mcontent)\n\u001b[0;32m      3\u001b[0m item_list \u001b[38;5;241m=\u001b[39m []\n\u001b[1;32m----> 4\u001b[0m \u001b[38;5;28;01mfor\u001b[39;00m child \u001b[38;5;129;01min\u001b[39;00m \u001b[43mroot\u001b[49m\u001b[38;5;241;43m.\u001b[39;49m\u001b[43mfind\u001b[49m\u001b[43m(\u001b[49m\u001b[38;5;124;43m'\u001b[39;49m\u001b[38;5;124;43mbody\u001b[39;49m\u001b[38;5;124;43m'\u001b[39;49m\u001b[43m)\u001b[49m\u001b[38;5;241;43m.\u001b[39;49m\u001b[43mfind\u001b[49m(\u001b[38;5;124m'\u001b[39m\u001b[38;5;124mitems\u001b[39m\u001b[38;5;124m'\u001b[39m):\n\u001b[0;32m      5\u001b[0m     elements \u001b[38;5;241m=\u001b[39m child\u001b[38;5;241m.\u001b[39mfindall(\u001b[38;5;124m'\u001b[39m\u001b[38;5;124m*\u001b[39m\u001b[38;5;124m'\u001b[39m)\n\u001b[0;32m      6\u001b[0m     data \u001b[38;5;241m=\u001b[39m {}\n",
      "\u001b[1;31mAttributeError\u001b[0m: 'NoneType' object has no attribute 'find'"
     ]
    }
   ],
   "source": [
    "#(필수) 특정 월에 서울시 전체 구의 데이터를 한 번에 가져오기(입력 값: 년월 ex. 202402)\n",
    "\n",
    "date = input(\"계약월 입력(예: 202402) : \")\n",
    "\n",
    "for i in listing_lawd_name(\"서울특별시\"):\n",
    "    getData(setData(base_url, i, date, load_key()), i, date)\n"
   ]
  },
  {
   "cell_type": "code",
   "execution_count": null,
   "id": "97fd52f8",
   "metadata": {},
   "outputs": [],
   "source": [
    "type(listing_lawd())"
   ]
  },
  {
   "cell_type": "code",
   "execution_count": null,
   "id": "9368f5b9",
   "metadata": {},
   "outputs": [],
   "source": [
    "#(선택) 특정 서울시 하나의 구의 과거 1년치 데이터를 한 번에 가져오기(입력 값: 특정 구 하나)"
   ]
  },
  {
   "cell_type": "code",
   "execution_count": 366,
   "id": "bab0047b",
   "metadata": {},
   "outputs": [
    {
     "name": "stdout",
     "output_type": "stream",
     "text": [
      "YYYYMM 형식으로 월을 입력하세요: \n"
     ]
    },
    {
     "ename": "ValueError",
     "evalue": "time data '' does not match format '%Y%m'",
     "output_type": "error",
     "traceback": [
      "\u001b[1;31m---------------------------------------------------------------------------\u001b[0m",
      "\u001b[1;31mValueError\u001b[0m                                Traceback (most recent call last)",
      "Input \u001b[1;32mIn [366]\u001b[0m, in \u001b[0;36m<cell line: 19>\u001b[1;34m()\u001b[0m\n\u001b[0;32m     16\u001b[0m input_month \u001b[38;5;241m=\u001b[39m \u001b[38;5;28minput\u001b[39m(\u001b[38;5;124m\"\u001b[39m\u001b[38;5;124mYYYYMM 형식으로 월을 입력하세요: \u001b[39m\u001b[38;5;124m\"\u001b[39m)\n\u001b[0;32m     18\u001b[0m \u001b[38;5;66;03m# 결과 출력\u001b[39;00m\n\u001b[1;32m---> 19\u001b[0m \u001b[38;5;28mprint\u001b[39m(\u001b[38;5;124m\"\u001b[39m\u001b[38;5;124m과거 1년치 월 리스트:\u001b[39m\u001b[38;5;124m\"\u001b[39m, \u001b[43mget_past_year_months\u001b[49m\u001b[43m(\u001b[49m\u001b[43minput_month\u001b[49m\u001b[43m)\u001b[49m)\n",
      "Input \u001b[1;32mIn [366]\u001b[0m, in \u001b[0;36mget_past_year_months\u001b[1;34m(input_month)\u001b[0m\n\u001b[0;32m      3\u001b[0m \u001b[38;5;28;01mdef\u001b[39;00m \u001b[38;5;21mget_past_year_months\u001b[39m(input_month):\n\u001b[0;32m      4\u001b[0m     \u001b[38;5;66;03m# 입력된 월을 YYYYMM 형식으로 변환\u001b[39;00m\n\u001b[1;32m----> 5\u001b[0m     input_date \u001b[38;5;241m=\u001b[39m \u001b[43mdatetime\u001b[49m\u001b[38;5;241;43m.\u001b[39;49m\u001b[43mstrptime\u001b[49m\u001b[43m(\u001b[49m\u001b[43minput_month\u001b[49m\u001b[43m,\u001b[49m\u001b[43m \u001b[49m\u001b[38;5;124;43m\"\u001b[39;49m\u001b[38;5;124;43m%\u001b[39;49m\u001b[38;5;124;43mY\u001b[39;49m\u001b[38;5;124;43m%\u001b[39;49m\u001b[38;5;124;43mm\u001b[39;49m\u001b[38;5;124;43m\"\u001b[39;49m\u001b[43m)\u001b[49m\n\u001b[0;32m      7\u001b[0m     \u001b[38;5;66;03m# 과거 1년치의 월 리스트 생성\u001b[39;00m\n\u001b[0;32m      8\u001b[0m     past_year_months \u001b[38;5;241m=\u001b[39m []\n",
      "File \u001b[1;32m~\\anaconda3\\lib\\_strptime.py:568\u001b[0m, in \u001b[0;36m_strptime_datetime\u001b[1;34m(cls, data_string, format)\u001b[0m\n\u001b[0;32m    565\u001b[0m \u001b[38;5;28;01mdef\u001b[39;00m \u001b[38;5;21m_strptime_datetime\u001b[39m(\u001b[38;5;28mcls\u001b[39m, data_string, \u001b[38;5;28mformat\u001b[39m\u001b[38;5;241m=\u001b[39m\u001b[38;5;124m\"\u001b[39m\u001b[38;5;132;01m%a\u001b[39;00m\u001b[38;5;124m \u001b[39m\u001b[38;5;124m%\u001b[39m\u001b[38;5;124mb \u001b[39m\u001b[38;5;132;01m%d\u001b[39;00m\u001b[38;5;124m \u001b[39m\u001b[38;5;124m%\u001b[39m\u001b[38;5;124mH:\u001b[39m\u001b[38;5;124m%\u001b[39m\u001b[38;5;124mM:\u001b[39m\u001b[38;5;124m%\u001b[39m\u001b[38;5;124mS \u001b[39m\u001b[38;5;124m%\u001b[39m\u001b[38;5;124mY\u001b[39m\u001b[38;5;124m\"\u001b[39m):\n\u001b[0;32m    566\u001b[0m     \u001b[38;5;124;03m\"\"\"Return a class cls instance based on the input string and the\u001b[39;00m\n\u001b[0;32m    567\u001b[0m \u001b[38;5;124;03m    format string.\"\"\"\u001b[39;00m\n\u001b[1;32m--> 568\u001b[0m     tt, fraction, gmtoff_fraction \u001b[38;5;241m=\u001b[39m \u001b[43m_strptime\u001b[49m\u001b[43m(\u001b[49m\u001b[43mdata_string\u001b[49m\u001b[43m,\u001b[49m\u001b[43m \u001b[49m\u001b[38;5;28;43mformat\u001b[39;49m\u001b[43m)\u001b[49m\n\u001b[0;32m    569\u001b[0m     tzname, gmtoff \u001b[38;5;241m=\u001b[39m tt[\u001b[38;5;241m-\u001b[39m\u001b[38;5;241m2\u001b[39m:]\n\u001b[0;32m    570\u001b[0m     args \u001b[38;5;241m=\u001b[39m tt[:\u001b[38;5;241m6\u001b[39m] \u001b[38;5;241m+\u001b[39m (fraction,)\n",
      "File \u001b[1;32m~\\anaconda3\\lib\\_strptime.py:349\u001b[0m, in \u001b[0;36m_strptime\u001b[1;34m(data_string, format)\u001b[0m\n\u001b[0;32m    347\u001b[0m found \u001b[38;5;241m=\u001b[39m format_regex\u001b[38;5;241m.\u001b[39mmatch(data_string)\n\u001b[0;32m    348\u001b[0m \u001b[38;5;28;01mif\u001b[39;00m \u001b[38;5;129;01mnot\u001b[39;00m found:\n\u001b[1;32m--> 349\u001b[0m     \u001b[38;5;28;01mraise\u001b[39;00m \u001b[38;5;167;01mValueError\u001b[39;00m(\u001b[38;5;124m\"\u001b[39m\u001b[38;5;124mtime data \u001b[39m\u001b[38;5;132;01m%r\u001b[39;00m\u001b[38;5;124m does not match format \u001b[39m\u001b[38;5;132;01m%r\u001b[39;00m\u001b[38;5;124m\"\u001b[39m \u001b[38;5;241m%\u001b[39m\n\u001b[0;32m    350\u001b[0m                      (data_string, \u001b[38;5;28mformat\u001b[39m))\n\u001b[0;32m    351\u001b[0m \u001b[38;5;28;01mif\u001b[39;00m \u001b[38;5;28mlen\u001b[39m(data_string) \u001b[38;5;241m!=\u001b[39m found\u001b[38;5;241m.\u001b[39mend():\n\u001b[0;32m    352\u001b[0m     \u001b[38;5;28;01mraise\u001b[39;00m \u001b[38;5;167;01mValueError\u001b[39;00m(\u001b[38;5;124m\"\u001b[39m\u001b[38;5;124munconverted data remains: \u001b[39m\u001b[38;5;132;01m%s\u001b[39;00m\u001b[38;5;124m\"\u001b[39m \u001b[38;5;241m%\u001b[39m\n\u001b[0;32m    353\u001b[0m                       data_string[found\u001b[38;5;241m.\u001b[39mend():])\n",
      "\u001b[1;31mValueError\u001b[0m: time data '' does not match format '%Y%m'"
     ]
    }
   ],
   "source": [
    "from datetime import datetime, timedelta\n",
    "\n",
    "def get_past_year_months(input_month):\n",
    "    # 입력된 월을 YYYYMM 형식으로 변환\n",
    "    input_date = datetime.strptime(input_month, \"%Y%m\")\n",
    "\n",
    "    # 과거 1년치의 월 리스트 생성\n",
    "    past_year_months = []\n",
    "    for i in range(12):\n",
    "        month = input_date - timedelta(days=30*(i+1))\n",
    "        past_year_months.append(month.strftime(\"%Y%m\"))\n",
    "\n",
    "    return past_year_months[::-1]  # 리스트를 역순으로 반환하여 최근 월부터 순서대로 출력\n",
    "\n",
    "\n",
    "# 결과 출력\n",
    "print(\"과거 1년치 월 리스트:\", get_past_year_months(input_month))"
   ]
  },
  {
   "cell_type": "code",
   "execution_count": 367,
   "id": "dc066340",
   "metadata": {},
   "outputs": [
    {
     "name": "stdout",
     "output_type": "stream",
     "text": [
      "YYYYMM 형식으로 월을 입력하세요: 202302\n"
     ]
    },
    {
     "data": {
      "text/plain": [
       "['202202',\n",
       " '202203',\n",
       " '202204',\n",
       " '202205',\n",
       " '202206',\n",
       " '202207',\n",
       " '202208',\n",
       " '202209',\n",
       " '202210',\n",
       " '202211',\n",
       " '202212',\n",
       " '202301']"
      ]
     },
     "execution_count": 367,
     "metadata": {},
     "output_type": "execute_result"
    }
   ],
   "source": []
  },
  {
   "cell_type": "code",
   "execution_count": null,
   "id": "f55b1cd1",
   "metadata": {},
   "outputs": [],
   "source": []
  },
  {
   "cell_type": "code",
   "execution_count": 368,
   "id": "faa29b82",
   "metadata": {},
   "outputs": [
    {
     "name": "stdout",
     "output_type": "stream",
     "text": [
      "검색지역 입력 : 종로구\n"
     ]
    },
    {
     "ename": "AttributeError",
     "evalue": "'NoneType' object has no attribute 'find'",
     "output_type": "error",
     "traceback": [
      "\u001b[1;31m---------------------------------------------------------------------------\u001b[0m",
      "\u001b[1;31mAttributeError\u001b[0m                            Traceback (most recent call last)",
      "Input \u001b[1;32mIn [368]\u001b[0m, in \u001b[0;36m<cell line: 3>\u001b[1;34m()\u001b[0m\n\u001b[0;32m      1\u001b[0m in_lawd \u001b[38;5;241m=\u001b[39m \u001b[38;5;28minput\u001b[39m(\u001b[38;5;124m\"\u001b[39m\u001b[38;5;124m검색지역 입력 : \u001b[39m\u001b[38;5;124m\"\u001b[39m)\n\u001b[0;32m      3\u001b[0m \u001b[38;5;28;01mfor\u001b[39;00m i \u001b[38;5;129;01min\u001b[39;00m get_past_year_months(datetime\u001b[38;5;241m.\u001b[39mnow()\u001b[38;5;241m.\u001b[39mstrftime(\u001b[38;5;124m\"\u001b[39m\u001b[38;5;124m%\u001b[39m\u001b[38;5;124mY\u001b[39m\u001b[38;5;124m%\u001b[39m\u001b[38;5;124mm\u001b[39m\u001b[38;5;124m\"\u001b[39m)):\n\u001b[1;32m----> 4\u001b[0m     \u001b[43mgetData\u001b[49m\u001b[43m(\u001b[49m\u001b[43msetData\u001b[49m\u001b[43m(\u001b[49m\u001b[43mbase_url\u001b[49m\u001b[43m,\u001b[49m\u001b[43mgetCode_lawd\u001b[49m\u001b[43m(\u001b[49m\u001b[43min_lawd\u001b[49m\u001b[43m)\u001b[49m\u001b[43m,\u001b[49m\u001b[43m \u001b[49m\u001b[43mi\u001b[49m\u001b[43m,\u001b[49m\u001b[43m \u001b[49m\u001b[43mload_key\u001b[49m\u001b[43m(\u001b[49m\u001b[43m)\u001b[49m\u001b[43m)\u001b[49m\u001b[43m,\u001b[49m\u001b[43m \u001b[49m\u001b[43min_lawd\u001b[49m\u001b[43m,\u001b[49m\u001b[43m \u001b[49m\u001b[43mi\u001b[49m\u001b[43m)\u001b[49m\n",
      "Input \u001b[1;32mIn [55]\u001b[0m, in \u001b[0;36mgetData\u001b[1;34m(url, lawd_name, yyyymm)\u001b[0m\n\u001b[0;32m      3\u001b[0m \u001b[38;5;28;01mdef\u001b[39;00m \u001b[38;5;21mgetData\u001b[39m(url,lawd_name, yyyymm):\n\u001b[0;32m      4\u001b[0m     response \u001b[38;5;241m=\u001b[39m requests\u001b[38;5;241m.\u001b[39mget(url)\n\u001b[1;32m----> 5\u001b[0m     items_list \u001b[38;5;241m=\u001b[39m \u001b[43mfind_xml_items\u001b[49m\u001b[43m(\u001b[49m\u001b[43mresponse\u001b[49m\u001b[43m)\u001b[49m\n\u001b[0;32m      6\u001b[0m     result \u001b[38;5;241m=\u001b[39m pd\u001b[38;5;241m.\u001b[39mDataFrame(items_list)\n\u001b[0;32m      8\u001b[0m     name_info \u001b[38;5;241m=\u001b[39m lawd_name \u001b[38;5;241m+\u001b[39m \u001b[38;5;124m\"\u001b[39m\u001b[38;5;124m_\u001b[39m\u001b[38;5;124m\"\u001b[39m \u001b[38;5;241m+\u001b[39m yyyymm\n",
      "Input \u001b[1;32mIn [59]\u001b[0m, in \u001b[0;36mfind_xml_items\u001b[1;34m(response)\u001b[0m\n\u001b[0;32m      2\u001b[0m root \u001b[38;5;241m=\u001b[39m ET\u001b[38;5;241m.\u001b[39mfromstring(response\u001b[38;5;241m.\u001b[39mcontent)\n\u001b[0;32m      3\u001b[0m item_list \u001b[38;5;241m=\u001b[39m []\n\u001b[1;32m----> 4\u001b[0m \u001b[38;5;28;01mfor\u001b[39;00m child \u001b[38;5;129;01min\u001b[39;00m \u001b[43mroot\u001b[49m\u001b[38;5;241;43m.\u001b[39;49m\u001b[43mfind\u001b[49m\u001b[43m(\u001b[49m\u001b[38;5;124;43m'\u001b[39;49m\u001b[38;5;124;43mbody\u001b[39;49m\u001b[38;5;124;43m'\u001b[39;49m\u001b[43m)\u001b[49m\u001b[38;5;241;43m.\u001b[39;49m\u001b[43mfind\u001b[49m(\u001b[38;5;124m'\u001b[39m\u001b[38;5;124mitems\u001b[39m\u001b[38;5;124m'\u001b[39m):\n\u001b[0;32m      5\u001b[0m     elements \u001b[38;5;241m=\u001b[39m child\u001b[38;5;241m.\u001b[39mfindall(\u001b[38;5;124m'\u001b[39m\u001b[38;5;124m*\u001b[39m\u001b[38;5;124m'\u001b[39m)\n\u001b[0;32m      6\u001b[0m     data \u001b[38;5;241m=\u001b[39m {}\n",
      "\u001b[1;31mAttributeError\u001b[0m: 'NoneType' object has no attribute 'find'"
     ]
    }
   ],
   "source": [
    "in_lawd = input(\"검색지역 입력 : \")\n",
    "\n",
    "for i in get_past_year_months(datetime.now().strftime(\"%Y%m\")):\n",
    "    getData(setData(base_url,getCode_lawd(in_lawd), i, load_key()), in_lawd, i)"
   ]
  },
  {
   "cell_type": "code",
   "execution_count": null,
   "id": "3746475a",
   "metadata": {},
   "outputs": [],
   "source": []
  }
 ],
 "metadata": {
  "kernelspec": {
   "display_name": "Python 3 (ipykernel)",
   "language": "python",
   "name": "python3"
  },
  "language_info": {
   "codemirror_mode": {
    "name": "ipython",
    "version": 3
   },
   "file_extension": ".py",
   "mimetype": "text/x-python",
   "name": "python",
   "nbconvert_exporter": "python",
   "pygments_lexer": "ipython3",
   "version": "3.9.12"
  }
 },
 "nbformat": 4,
 "nbformat_minor": 5
}
