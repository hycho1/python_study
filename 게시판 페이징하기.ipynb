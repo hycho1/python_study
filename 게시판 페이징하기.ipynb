{
 "cells": [
  {
   "cell_type": "code",
   "execution_count": 16,
   "id": "0d69f52a",
   "metadata": {},
   "outputs": [
    {
     "name": "stdout",
     "output_type": "stream",
     "text": [
      "총 페이지 수는 4\n"
     ]
    }
   ],
   "source": [
    "def get_total_page(totalPosts = 20, postsPerPage = 5):\n",
    "    \n",
    "    totalPages = totalPosts // postsPerPage\n",
    "    \n",
    "    if (totalPosts % postsPerPage):\n",
    "        totalPages += 1 \n",
    "    \n",
    "    return totalPages\n",
    "\n",
    "print(f\"총 페이지 수는 {get_total_page()}\")"
   ]
  },
  {
   "cell_type": "code",
   "execution_count": null,
   "id": "31bc0076",
   "metadata": {},
   "outputs": [],
   "source": []
  }
 ],
 "metadata": {
  "kernelspec": {
   "display_name": "Python 3 (ipykernel)",
   "language": "python",
   "name": "python3"
  },
  "language_info": {
   "codemirror_mode": {
    "name": "ipython",
    "version": 3
   },
   "file_extension": ".py",
   "mimetype": "text/x-python",
   "name": "python",
   "nbconvert_exporter": "python",
   "pygments_lexer": "ipython3",
   "version": "3.9.12"
  }
 },
 "nbformat": 4,
 "nbformat_minor": 5
}
