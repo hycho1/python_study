{
 "cells": [
  {
   "cell_type": "markdown",
   "id": "fcfc4af9",
   "metadata": {},
   "source": [
    "문제7번\n",
    "\n",
    "QUIZ#7 (고급 : 도움없이)\n",
    "콜라츠 추측 (3n+1 문제)\n",
    "3n + 1 문제는 다음과 같습니다.\n",
    "- n이 홀수면 3을 곱한 뒤 1을 더하고\n",
    "- n이 짝수면 2로 나눕니다.\n",
    "- 마지막으로 n이 1이 되면 프로그램을 종료합니다.\n",
    "참고 : 콜라츠 추측 산식\n",
    "f(x) = n/2 (if n is even)\n",
    "     = 3n+1 (if n is odd)"
   ]
  },
  {
   "cell_type": "code",
   "execution_count": 21,
   "id": "12b2d747",
   "metadata": {
    "scrolled": false
   },
   "outputs": [
    {
     "name": "stdout",
     "output_type": "stream",
     "text": [
      " 값 입력 : 10\n",
      "1회차\tn값 : 5 \n",
      "2회차\tn값 : 16 \n",
      "3회차\tn값 : 8 \n",
      "4회차\tn값 : 4 \n",
      "5회차\tn값 : 2 \n",
      "6회차\tn값 : 1 \n"
     ]
    }
   ],
   "source": [
    "n = int(input(\" 값 입력 : \"))\n",
    "\n",
    "count = 0\n",
    "\n",
    "while True:\n",
    "\n",
    "    if(n % 2 == 1):\n",
    "        n = n * 3 + 1\n",
    "        count += 1\n",
    "        print(\"%d회차\\tn값 : %d \" % (count, n))\n",
    "    \n",
    "    if(n % 2 == 0):\n",
    "        n = n / 2\n",
    "        count += 1\n",
    "        print(\"%d회차\\tn값 : %d \" % (count, n))\n",
    "    \n",
    "    if(n == 1):\n",
    "        break;\n"
   ]
  },
  {
   "cell_type": "code",
   "execution_count": 41,
   "id": "8049dc86",
   "metadata": {},
   "outputs": [
    {
     "name": "stdout",
     "output_type": "stream",
     "text": [
      " 값 입력 : 27\n",
      "27 82 41 124 62 31 94 47 142 71 214 107 322 161 484 242 121 364 182 91 274 137 412 206 103 310 155 466 233 700 350 175 526 263 790 395 1186 593 1780 890 445 1336 668 334 167 502 251 754 377 1132 566 283 850 425 1276 638 319 958 479 1438 719 2158 1079 3238 1619 4858 2429 7288 3644 1822 911 2734 1367 4102 2051 6154 3077 9232 4616 2308 1154 577 1732 866 433 1300 650 325 976 488 244 122 61 184 92 46 23 70 35 106 53 160 80 40 20 10 5 16 8 4 2 1 "
     ]
    },
    {
     "data": {
      "text/plain": [
       "1"
      ]
     },
     "execution_count": 41,
     "metadata": {},
     "output_type": "execute_result"
    }
   ],
   "source": [
    "def collatz(n):\n",
    "\n",
    "    print(n, end=\" \")\n",
    "    \n",
    "    if(n == 1):\n",
    "        return 1\n",
    "    \n",
    "    if(n % 2 == 1):\n",
    "        return collatz(n * 3 + 1)\n",
    "\n",
    "    if(n % 2 == 0):\n",
    "        return collatz(n // 2)\n",
    "\n",
    "    \n",
    "n = int(input(\" 값 입력 : \"))\n",
    "\n",
    "collatz(n)\n",
    "\n"
   ]
  },
  {
   "cell_type": "code",
   "execution_count": null,
   "id": "48b7fa6b",
   "metadata": {},
   "outputs": [],
   "source": []
  }
 ],
 "metadata": {
  "kernelspec": {
   "display_name": "Python 3 (ipykernel)",
   "language": "python",
   "name": "python3"
  },
  "language_info": {
   "codemirror_mode": {
    "name": "ipython",
    "version": 3
   },
   "file_extension": ".py",
   "mimetype": "text/x-python",
   "name": "python",
   "nbconvert_exporter": "python",
   "pygments_lexer": "ipython3",
   "version": "3.9.12"
  }
 },
 "nbformat": 4,
 "nbformat_minor": 5
}
