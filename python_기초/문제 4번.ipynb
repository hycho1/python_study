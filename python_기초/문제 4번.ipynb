{
 "cells": [
  {
   "cell_type": "markdown",
   "id": "a60b6579",
   "metadata": {},
   "source": [
    "# 문제 4번 퀴즈"
   ]
  },
  {
   "cell_type": "code",
   "execution_count": 1,
   "id": "b868d43e",
   "metadata": {},
   "outputs": [],
   "source": [
    "names= \"이유덕,이재영,권종표,이재영,박민호,강상희,이재영,김지완,최승혁,이성연,박영서,박민호,전경헌,송정환,김재성,이유덕,전경헌\""
   ]
  },
  {
   "cell_type": "code",
   "execution_count": 2,
   "id": "a912a912",
   "metadata": {},
   "outputs": [
    {
     "name": "stdout",
     "output_type": "stream",
     "text": [
      "이유덕,이재영,권종표,이재영,박민호,강상희,이재영,김지완,최승혁,이성연,박영서,박민호,전경헌,송정환,김재성,이유덕,전경헌\n"
     ]
    }
   ],
   "source": [
    "print(names)"
   ]
  },
  {
   "cell_type": "code",
   "execution_count": 3,
   "id": "7a10b2f2",
   "metadata": {},
   "outputs": [
    {
     "data": {
      "text/plain": [
       "3"
      ]
     },
     "execution_count": 3,
     "metadata": {},
     "output_type": "execute_result"
    }
   ],
   "source": [
    "names.count('이재영')"
   ]
  },
  {
   "cell_type": "code",
   "execution_count": 9,
   "id": "1ec9a9be",
   "metadata": {},
   "outputs": [],
   "source": [
    "name_list = names.split(\",\")"
   ]
  },
  {
   "cell_type": "code",
   "execution_count": 10,
   "id": "ff2f6947",
   "metadata": {},
   "outputs": [
    {
     "data": {
      "text/plain": [
       "['이유덕',\n",
       " '이재영',\n",
       " '권종표',\n",
       " '이재영',\n",
       " '박민호',\n",
       " '강상희',\n",
       " '이재영',\n",
       " '김지완',\n",
       " '최승혁',\n",
       " '이성연',\n",
       " '박영서',\n",
       " '박민호',\n",
       " '전경헌',\n",
       " '송정환',\n",
       " '김재성',\n",
       " '이유덕',\n",
       " '전경헌']"
      ]
     },
     "execution_count": 10,
     "metadata": {},
     "output_type": "execute_result"
    }
   ],
   "source": [
    "name_list"
   ]
  },
  {
   "cell_type": "code",
   "execution_count": 11,
   "id": "b60435c1",
   "metadata": {},
   "outputs": [
    {
     "data": {
      "text/plain": [
       "12"
      ]
     },
     "execution_count": 11,
     "metadata": {},
     "output_type": "execute_result"
    }
   ],
   "source": [
    "len(set(name_list))"
   ]
  },
  {
   "cell_type": "code",
   "execution_count": 13,
   "id": "41f6273d",
   "metadata": {},
   "outputs": [
    {
     "name": "stdout",
     "output_type": "stream",
     "text": [
      "이\n"
     ]
    }
   ],
   "source": [
    "print(name_list[0][0])"
   ]
  },
  {
   "cell_type": "code",
   "execution_count": 16,
   "id": "483ce78e",
   "metadata": {},
   "outputs": [],
   "source": [
    "sung=[]"
   ]
  },
  {
   "cell_type": "code",
   "execution_count": 17,
   "id": "27fe64d9",
   "metadata": {},
   "outputs": [],
   "source": [
    "for i in name_list:\n",
    "    sung.append(i[0])"
   ]
  },
  {
   "cell_type": "code",
   "execution_count": 19,
   "id": "619cd47f",
   "metadata": {},
   "outputs": [
    {
     "data": {
      "text/plain": [
       "6"
      ]
     },
     "execution_count": 19,
     "metadata": {},
     "output_type": "execute_result"
    }
   ],
   "source": [
    "sung.count('이')"
   ]
  },
  {
   "cell_type": "code",
   "execution_count": 24,
   "id": "6a493b6a",
   "metadata": {},
   "outputs": [
    {
     "data": {
      "text/plain": [
       "'덕이'"
      ]
     },
     "execution_count": 24,
     "metadata": {},
     "output_type": "execute_result"
    }
   ],
   "source": [
    "name_list[0][-1::-2]"
   ]
  },
  {
   "cell_type": "code",
   "execution_count": null,
   "id": "3c78bbed",
   "metadata": {},
   "outputs": [],
   "source": [
    "input()"
   ]
  }
 ],
 "metadata": {
  "kernelspec": {
   "display_name": "Python 3 (ipykernel)",
   "language": "python",
   "name": "python3"
  },
  "language_info": {
   "codemirror_mode": {
    "name": "ipython",
    "version": 3
   },
   "file_extension": ".py",
   "mimetype": "text/x-python",
   "name": "python",
   "nbconvert_exporter": "python",
   "pygments_lexer": "ipython3",
   "version": "3.9.12"
  }
 },
 "nbformat": 4,
 "nbformat_minor": 5
}
