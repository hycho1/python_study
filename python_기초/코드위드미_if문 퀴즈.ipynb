{
 "cells": [
  {
   "cell_type": "markdown",
   "id": "f99c6d24",
   "metadata": {},
   "source": [
    "1.\n",
    "한 개의 정수를 입력 받은 후, 입력받은 수를 출력하고 \n",
    "그 수가 10보다 크면 다음 줄에 “10보다 큰 수를 입력하셨습니다.”\n",
    "라는 메시지를 출력하는 프로그램을 작성하시오\n",
    "\n",
    "입력\n",
    "정수입력 : 15\n",
    "\n",
    "출력\n",
    "15\n",
    "10보다 큰 수를 입력하셨습니다."
   ]
  },
  {
   "cell_type": "code",
   "execution_count": 2,
   "id": "5804ebc0",
   "metadata": {},
   "outputs": [
    {
     "name": "stdout",
     "output_type": "stream",
     "text": [
      "정수 입력 : 15\n",
      "15\n",
      "10보다 큰 수를 입력하셨습니다.\n"
     ]
    }
   ],
   "source": [
    "num = int(input(\"정수 입력 : \"))\n",
    "print(num)\n",
    "    \n",
    "if(num > 10):\n",
    "    print(\"10보다 큰 수를 입력하셨습니다.\")\n",
    "    "
   ]
  },
  {
   "cell_type": "markdown",
   "id": "b627ad5b",
   "metadata": {},
   "source": [
    "2.\n",
    "정수를 입력받아 첫 줄에 입력 받은 숫자를 출력하고 \n",
    "둘째 줄에 음수이면 “minus” 라고 출력하는 프로그램을 작성하시오.\n",
    "\n",
    "입력\n",
    "숫자 입력 : -5\n",
    "\n",
    "출력\n",
    "-5\n",
    "minus"
   ]
  },
  {
   "cell_type": "code",
   "execution_count": 3,
   "id": "621c518f",
   "metadata": {},
   "outputs": [
    {
     "name": "stdout",
     "output_type": "stream",
     "text": [
      "정수 입력 : -5\n",
      "-5\n",
      "minus\n"
     ]
    }
   ],
   "source": [
    "num = int(input(\"정수 입력 : \"))\n",
    "print(num)\n",
    "\n",
    "if(num < 0):\n",
    "    print(\"minus\")\n"
   ]
  },
  {
   "cell_type": "markdown",
   "id": "3a9f1b3f",
   "metadata": {},
   "source": [
    "3.\n",
    "정수 2개를 입력받아서 큰 수와 작은 수를 차례로 출력하는 프로그램을 작성하시오. \n",
    "\n",
    "입력 :\n",
    "첫 번째 수 : 2\n",
    "두 번째 수 : 9\n",
    "\n",
    "출력 :\n",
    "입력받은 수 중 큰 수는 9이고 작은 수는 2입니다."
   ]
  },
  {
   "cell_type": "code",
   "execution_count": 4,
   "id": "d2621ae5",
   "metadata": {},
   "outputs": [
    {
     "name": "stdout",
     "output_type": "stream",
     "text": [
      "첫 번째 수 : 9\n",
      "두 번째 수 : 2\n",
      "입력 받은 수 중 큰 수는 9이고 작은 수는 2입니다.\n"
     ]
    }
   ],
   "source": [
    "num1 = int(input(\"첫 번째 수 : \"))\n",
    "num2 = int(input(\"두 번째 수 : \"))\n",
    "\n",
    "if num1 > num2:\n",
    "    print(f\"입력 받은 수 중 큰 수는 {num1}이고 작은 수는 {num2}입니다.\")\n",
    "else:\n",
    "    print(f\"입력 받은 수 중 큰 수는 {num2}이고 작은 수는 {num1}입니다.\")"
   ]
  },
  {
   "cell_type": "markdown",
   "id": "f9c9c237",
   "metadata": {},
   "source": [
    "4.\n",
    "“몸무게+100-키”를 비만수치 공식이라고 하자.\n",
    "\n",
    "키와 몸무게를 자연수로 입력받아 첫 번째 줄에 비만수치를 출력하고, \n",
    "비만수치가 0보다 크면 다음줄에 비만(\"Obesity\")이라는 \n",
    "메시지를 출력하는 프로그램을 작성하시오. (출력형식은 아래 출력 예를 참고하세요.)\n",
    "\n",
    "입력:\n",
    "키 입력 : 155\n",
    "몸무게 입력 : 60\n",
    "\n",
    "출력:\n",
    "비만 수치 : 5\n",
    "결과 : Obesity"
   ]
  },
  {
   "cell_type": "code",
   "execution_count": 8,
   "id": "67c6cd48",
   "metadata": {},
   "outputs": [
    {
     "name": "stdout",
     "output_type": "stream",
     "text": [
      "키 입력 : 180\n",
      "몸무게 입력 : 81\n",
      "비만수치 : 1\n",
      "결과 : Obesity\n"
     ]
    }
   ],
   "source": [
    "height = int(input(\"키 입력 : \"))\n",
    "weight = int(input(\"몸무게 입력 : \"))\n",
    "\n",
    "print(f\"비만수치 : {weight+100-height}\")\n",
    "\n",
    "if calc > 0:\n",
    "    print(\"결과 : Obesity\")"
   ]
  },
  {
   "cell_type": "markdown",
   "id": "0cba9d47",
   "metadata": {},
   "source": [
    "5.\n",
    "시험 점수를 입력받아 90 ~ 100점은 A, 80 ~ 89점은 B, 70 ~ 79점은 C, \n",
    "60 ~ 69점은 D, 나머지 점수는 F를 출력하는 프로그램을 작성하시오.\n",
    "\n",
    "입력\n",
    "첫째 줄에 시험 점수가 주어진다. 시험 점수는 0보다 크거나 같고, 100보다 작거나 같은 정수이다.\n",
    "\n",
    "출력\n",
    "시험 성적을 출력한다. \n",
    "단 시험 점수가 0보다 작거나, 100보다 크면\n",
    "잘 못 입력하였습니다.를 출력한다."
   ]
  },
  {
   "cell_type": "code",
   "execution_count": 15,
   "id": "8adc4532",
   "metadata": {},
   "outputs": [
    {
     "name": "stdout",
     "output_type": "stream",
     "text": [
      "점수 입력(0 < n < 100) : 101\n",
      "잘못 입력 하셨습니다.\n"
     ]
    }
   ],
   "source": [
    "score = int(input(\"점수 입력(0 < n < 100) : \"))\n",
    "\n",
    "if score > 100 or score < 0:\n",
    "    print(\"잘못 입력 하셨습니다.\")\n",
    "else:\n",
    "    if score >= 90:\n",
    "        print(\"A\")\n",
    "    elif score >= 80:\n",
    "        print(\"B\")\n",
    "    elif score >= 70:\n",
    "        print(\"C\")\n",
    "    elif score >= 60:\n",
    "        print(\"D\")\n",
    "    else:\n",
    "        print(\"F\")"
   ]
  },
  {
   "cell_type": "code",
   "execution_count": null,
   "id": "3baeed37",
   "metadata": {},
   "outputs": [],
   "source": []
  }
 ],
 "metadata": {
  "kernelspec": {
   "display_name": "Python 3 (ipykernel)",
   "language": "python",
   "name": "python3"
  },
  "language_info": {
   "codemirror_mode": {
    "name": "ipython",
    "version": 3
   },
   "file_extension": ".py",
   "mimetype": "text/x-python",
   "name": "python",
   "nbconvert_exporter": "python",
   "pygments_lexer": "ipython3",
   "version": "3.9.12"
  }
 },
 "nbformat": 4,
 "nbformat_minor": 5
}
