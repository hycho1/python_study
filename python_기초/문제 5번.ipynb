{
 "cells": [
  {
   "cell_type": "markdown",
   "id": "7ecb8a37",
   "metadata": {},
   "source": [
    "QUIZ #5\n",
    "점수를 가지고, 90 >= 수, 80 >= 우, 70 >= 미, 70 < 재시험"
   ]
  },
  {
   "cell_type": "code",
   "execution_count": 9,
   "id": "e98896df",
   "metadata": {},
   "outputs": [
    {
     "name": "stdout",
     "output_type": "stream",
     "text": [
      "100\n",
      "수\n"
     ]
    }
   ],
   "source": [
    "score = int(input())\n",
    "\n",
    "if score >= 90 :\n",
    "    print(\"수\")\n",
    "elif score >= 80 :\n",
    "    print(\"우\")\n",
    "elif score >= 70 :\n",
    "    print(\"미\")\n",
    "else:\n",
    "    print(\"재시험\")\n",
    "    "
   ]
  },
  {
   "cell_type": "code",
   "execution_count": null,
   "id": "acbd9484",
   "metadata": {},
   "outputs": [],
   "source": []
  }
 ],
 "metadata": {
  "kernelspec": {
   "display_name": "Python 3 (ipykernel)",
   "language": "python",
   "name": "python3"
  },
  "language_info": {
   "codemirror_mode": {
    "name": "ipython",
    "version": 3
   },
   "file_extension": ".py",
   "mimetype": "text/x-python",
   "name": "python",
   "nbconvert_exporter": "python",
   "pygments_lexer": "ipython3",
   "version": "3.9.12"
  }
 },
 "nbformat": 4,
 "nbformat_minor": 5
}
