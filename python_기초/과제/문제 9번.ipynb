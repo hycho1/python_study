{
 "cells": [
  {
   "cell_type": "markdown",
   "id": "e2e80c1f",
   "metadata": {},
   "source": [
    "QUIZ#9\n",
    "점수 채점하기\n",
    "총 12명의 레벨테스트 점수가 파이썬의 리스트(List)로 담겨져 있고,\n",
    "이를 score라는 이름의 변수에 할당하였습니다.\n",
    "score = [80, 60, 70, 50, 100, 95, 40, 75, 90, 65, 90, 100]\n",
    "이 score 변수에 담겨져 있는 값을 활용하여 아래 문제를 풀어보세요.\n",
    "1.전체 점수의 평균을 구하는 코드를 작성해보세요.\n",
    "2.전체 점수 중 가장 높은 점수를 구하는 코드를 작성해보세요.\n",
    "3.전체 점수 중 가장 낮은 점수를 구하는 코드를 작성해보세요."
   ]
  },
  {
   "cell_type": "code",
   "execution_count": 1,
   "id": "300d2f39",
   "metadata": {},
   "outputs": [],
   "source": [
    "score = [80, 60, 70, 50, 100, 95, 40, 75, 90, 65, 90, 100]"
   ]
  },
  {
   "cell_type": "markdown",
   "id": "f4f61a78",
   "metadata": {},
   "source": [
    "ANS 1"
   ]
  },
  {
   "cell_type": "code",
   "execution_count": 12,
   "id": "e854956b",
   "metadata": {},
   "outputs": [
    {
     "name": "stdout",
     "output_type": "stream",
     "text": [
      "76.25\n"
     ]
    }
   ],
   "source": [
    "def avg(list_score):\n",
    "\n",
    "#   total = 0\n",
    "#   for i in list_score:\n",
    "#       total += i\n",
    "#   return total/len(list_score)\n",
    "\n",
    "    return sum(list_score)/len(list_score)\n",
    "\n",
    "print(avg(score))"
   ]
  },
  {
   "cell_type": "markdown",
   "id": "23948168",
   "metadata": {},
   "source": [
    "ANS 2"
   ]
  },
  {
   "cell_type": "code",
   "execution_count": 10,
   "id": "2e53b474",
   "metadata": {},
   "outputs": [
    {
     "name": "stdout",
     "output_type": "stream",
     "text": [
      "100\n"
     ]
    }
   ],
   "source": [
    "print(max(score))"
   ]
  },
  {
   "cell_type": "markdown",
   "id": "1dcde481",
   "metadata": {},
   "source": [
    "ANS 3"
   ]
  },
  {
   "cell_type": "code",
   "execution_count": 11,
   "id": "934725ca",
   "metadata": {},
   "outputs": [
    {
     "name": "stdout",
     "output_type": "stream",
     "text": [
      "40\n"
     ]
    }
   ],
   "source": [
    "print(min(score))"
   ]
  }
 ],
 "metadata": {
  "kernelspec": {
   "display_name": "Python 3 (ipykernel)",
   "language": "python",
   "name": "python3"
  },
  "language_info": {
   "codemirror_mode": {
    "name": "ipython",
    "version": 3
   },
   "file_extension": ".py",
   "mimetype": "text/x-python",
   "name": "python",
   "nbconvert_exporter": "python",
   "pygments_lexer": "ipython3",
   "version": "3.9.12"
  }
 },
 "nbformat": 4,
 "nbformat_minor": 5
}
