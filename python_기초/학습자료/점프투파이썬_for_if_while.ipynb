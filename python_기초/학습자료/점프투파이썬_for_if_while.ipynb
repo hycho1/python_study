{
 "cells": [
  {
   "cell_type": "code",
   "execution_count": 1,
   "id": "27bef75b",
   "metadata": {},
   "outputs": [],
   "source": [
    "test_list = ['one', 'two', 'three']"
   ]
  },
  {
   "cell_type": "code",
   "execution_count": 2,
   "id": "20f498dd",
   "metadata": {},
   "outputs": [
    {
     "data": {
      "text/plain": [
       "['one', 'two', 'three']"
      ]
     },
     "execution_count": 2,
     "metadata": {},
     "output_type": "execute_result"
    }
   ],
   "source": [
    "test_list"
   ]
  },
  {
   "cell_type": "code",
   "execution_count": 3,
   "id": "30156f1e",
   "metadata": {},
   "outputs": [
    {
     "name": "stdout",
     "output_type": "stream",
     "text": [
      "one\n",
      "two\n",
      "three\n"
     ]
    }
   ],
   "source": [
    "for i in test_list:\n",
    "    print(i)"
   ]
  },
  {
   "cell_type": "code",
   "execution_count": 4,
   "id": "76c69e89",
   "metadata": {},
   "outputs": [],
   "source": [
    "a = [(1,2) , (3,4), (5,6)]"
   ]
  },
  {
   "cell_type": "code",
   "execution_count": 9,
   "id": "480ed8a8",
   "metadata": {},
   "outputs": [
    {
     "data": {
      "text/plain": [
       "[(1, 2), (3, 4), (5, 6)]"
      ]
     },
     "execution_count": 9,
     "metadata": {},
     "output_type": "execute_result"
    }
   ],
   "source": [
    "a"
   ]
  },
  {
   "cell_type": "code",
   "execution_count": 18,
   "id": "d105ea49",
   "metadata": {},
   "outputs": [
    {
     "name": "stdout",
     "output_type": "stream",
     "text": [
      "4\n",
      "8\n",
      "12\n"
     ]
    }
   ],
   "source": [
    "for (first, last) in a:\n",
    "    print(first + last + i)"
   ]
  },
  {
   "cell_type": "code",
   "execution_count": 19,
   "id": "dc7fe708",
   "metadata": {},
   "outputs": [],
   "source": [
    "money = True"
   ]
  },
  {
   "cell_type": "code",
   "execution_count": 20,
   "id": "bc7c00ef",
   "metadata": {},
   "outputs": [
    {
     "data": {
      "text/plain": [
       "True"
      ]
     },
     "execution_count": 20,
     "metadata": {},
     "output_type": "execute_result"
    }
   ],
   "source": [
    "money"
   ]
  },
  {
   "cell_type": "code",
   "execution_count": 22,
   "id": "e6155ad5",
   "metadata": {},
   "outputs": [
    {
     "name": "stdout",
     "output_type": "stream",
     "text": [
      "택시를 타고 가라\n"
     ]
    }
   ],
   "source": [
    "if money:\n",
    "    print(\"택시를 타고 가라\")\n",
    "else:\n",
    "    print(\"걸어 가라\")"
   ]
  },
  {
   "cell_type": "markdown",
   "id": "13020431",
   "metadata": {},
   "source": []
  },
  {
   "cell_type": "code",
   "execution_count": 25,
   "id": "06bd6db6",
   "metadata": {},
   "outputs": [
    {
     "name": "stdout",
     "output_type": "stream",
     "text": [
      "걸어서ㄱ\n"
     ]
    }
   ],
   "source": [
    "money = 1500\n",
    "card = False\n",
    "if money>= 2000 or card :\n",
    "    print(\"택시ㄱ\")\n",
    "else:\n",
    "    print(\"걸어서ㄱ\")"
   ]
  },
  {
   "cell_type": "code",
   "execution_count": 3,
   "id": "b68ac4c4",
   "metadata": {},
   "outputs": [
    {
     "name": "stdout",
     "output_type": "stream",
     "text": [
      "in it\n"
     ]
    }
   ],
   "source": [
    "pocket = ['paper', 'cellphone', 'money']\n",
    "if 'money' in pocket:\n",
    "    print(\"in it\")\n",
    "else:\n",
    "    print(\"not in it\")"
   ]
  },
  {
   "cell_type": "code",
   "execution_count": 4,
   "id": "52aed298",
   "metadata": {},
   "outputs": [
    {
     "name": "stdout",
     "output_type": "stream",
     "text": [
      "ride taxi\n"
     ]
    }
   ],
   "source": [
    "card = False\n",
    "\n",
    "pocket = ['paper', 'cellphone', 'money']\n",
    "if 'money' in pocket:\n",
    "    print(\"ride taxi\")\n",
    "elif 'card':\n",
    "    print(\"ride bus\")\n",
    "else:\n",
    "    print(\"walk\")"
   ]
  },
  {
   "cell_type": "code",
   "execution_count": 16,
   "id": "48e88598",
   "metadata": {},
   "outputs": [],
   "source": [
    "marks = [90,25,67,45,80]"
   ]
  },
  {
   "cell_type": "code",
   "execution_count": 17,
   "id": "30e0232b",
   "metadata": {},
   "outputs": [
    {
     "name": "stdout",
     "output_type": "stream",
     "text": [
      "90점은 합격\n",
      "25점은 불합격\n",
      "67점은 합격\n",
      "45점은 불합격\n",
      "80점은 합격\n"
     ]
    }
   ],
   "source": [
    "number = 0\n",
    "\n",
    "for mark in marks :\n",
    "    number += 1\n",
    "    if mark >= 60 :\n",
    "        print(\"%d점은 합격\" % mark)\n",
    "    else :\n",
    "        print(\"%d점은 불합격\" % mark)"
   ]
  },
  {
   "cell_type": "code",
   "execution_count": 19,
   "id": "8e901252",
   "metadata": {},
   "outputs": [
    {
     "name": "stdout",
     "output_type": "stream",
     "text": [
      "1번 90점 학생은 합격\n",
      "2번 25점 학생은 불합격\n",
      "3번 67점 학생은 합격\n",
      "4번 45점 학생은 불합격\n",
      "5번 80점 학생은 합격\n"
     ]
    }
   ],
   "source": [
    "numbers = 0\n",
    "\n",
    "for mark in marks :\n",
    "    numbers += 1\n",
    "    if mark >= 60 :\n",
    "        print(\"%d번 %d점 학생은 합격\" % (numbers, mark))\n",
    "    else :\n",
    "        print(\"%d번 %d점 학생은 불합격\" % (numbers, mark))"
   ]
  },
  {
   "cell_type": "code",
   "execution_count": 20,
   "id": "69b396ac",
   "metadata": {},
   "outputs": [
    {
     "name": "stdout",
     "output_type": "stream",
     "text": [
      "1\n",
      "2\n",
      "3\n",
      "4\n",
      "5\n",
      "6\n",
      "7\n",
      "8\n",
      "9\n",
      "10\n"
     ]
    }
   ],
   "source": [
    "for i in range(1,10+1):\n",
    "    print(i)"
   ]
  },
  {
   "cell_type": "code",
   "execution_count": 24,
   "id": "82a4ffd5",
   "metadata": {},
   "outputs": [],
   "source": [
    "marks = [90,25,67,45,80,90,25,76,54,80,90,25,67,45,80,90,25,67,45,80]"
   ]
  },
  {
   "cell_type": "code",
   "execution_count": 25,
   "id": "14420137",
   "metadata": {},
   "outputs": [
    {
     "data": {
      "text/plain": [
       "20"
      ]
     },
     "execution_count": 25,
     "metadata": {},
     "output_type": "execute_result"
    }
   ],
   "source": [
    "len(marks)"
   ]
  },
  {
   "cell_type": "code",
   "execution_count": null,
   "id": "2151ed33",
   "metadata": {},
   "outputs": [],
   "source": [
    "i = 0\n",
    "for num in marks :\n",
    "    i += 1\n",
    "    if num < 60:\n",
    "        continue\n",
    "    else:\n",
    "        print(\"%d번 학생 축하합니다.\" % i)"
   ]
  },
  {
   "cell_type": "code",
   "execution_count": null,
   "id": "f4a398c9",
   "metadata": {},
   "outputs": [],
   "source": [
    "number = 0\n",
    "for number in range(len(marks)):\n",
    "    if marks[number] < 60:\n",
    "        continue\n",
    "    print(\"%d번 학생 합격\" % (number + 1)) "
   ]
  },
  {
   "cell_type": "code",
   "execution_count": null,
   "id": "9c51249f",
   "metadata": {},
   "outputs": [],
   "source": [
    "for i in range(2,10):\n",
    "    for j in range(1,10):\n",
    "        print(i*j, end=\"\\t\")\n",
    "    print('')"
   ]
  },
  {
   "cell_type": "code",
   "execution_count": 3,
   "id": "8d404272",
   "metadata": {},
   "outputs": [],
   "source": [
    "treeHit = 0"
   ]
  },
  {
   "cell_type": "code",
   "execution_count": 4,
   "id": "3151ce50",
   "metadata": {},
   "outputs": [
    {
     "name": "stdout",
     "output_type": "stream",
     "text": [
      "나무를 1번 찍었습니다.\n",
      "나무를 2번 찍었습니다.\n",
      "나무를 3번 찍었습니다.\n",
      "나무를 4번 찍었습니다.\n",
      "나무를 5번 찍었습니다.\n",
      "나무를 6번 찍었습니다.\n",
      "나무를 7번 찍었습니다.\n",
      "나무를 8번 찍었습니다.\n",
      "나무를 9번 찍었습니다.\n",
      "나무를 10번 찍었습니다.\n",
      "나무 넘어갑니다\n"
     ]
    }
   ],
   "source": [
    "while treeHit < 10:\n",
    "    \n",
    "    treeHit = treeHit + 1\n",
    "    print(\"나무를 %d번 찍었습니다.\" % treeHit)\n",
    "    \n",
    "    if treeHit == 10 :\n",
    "        print(\"나무 넘어갑니다\")        \n",
    "    "
   ]
  },
  {
   "cell_type": "code",
   "execution_count": null,
   "id": "75f40626",
   "metadata": {},
   "outputs": [],
   "source": [
    "coffee = 3\n",
    "while True:\n",
    "    try:\n",
    "        money = int(input(\"돈을 넣어 주세요: \"))\n",
    "    except ValueError:\n",
    "        continue\n",
    "    \n",
    "    if money == 300:\n",
    "        print(\"커피를 줍니다.\")\n",
    "        coffee = coffee -1\n",
    "    elif money > 300:\n",
    "        print(\"거스름돈 %d를 주고 커피를 줍니다.\" % (money -300))\n",
    "        coffee = coffee -1\n",
    "    else:\n",
    "        print(\"돈을 다시 돌려주고 커피를 주지 않습니다.\")\n",
    "        print(\"남은 커피의 양은 %d개 입니다.\" % coffee)\n",
    "    if coffee == 0:\n",
    "        print(\"커피가 다 떨어졌습니다. 판매를 중지 합니다.\")\n",
    "        break"
   ]
  },
  {
   "cell_type": "code",
   "execution_count": null,
   "id": "b1befb67",
   "metadata": {},
   "outputs": [],
   "source": []
  },
  {
   "cell_type": "code",
   "execution_count": null,
   "id": "b05f2f3b",
   "metadata": {},
   "outputs": [],
   "source": []
  }
 ],
 "metadata": {
  "kernelspec": {
   "display_name": "Python 3 (ipykernel)",
   "language": "python",
   "name": "python3"
  },
  "language_info": {
   "codemirror_mode": {
    "name": "ipython",
    "version": 3
   },
   "file_extension": ".py",
   "mimetype": "text/x-python",
   "name": "python",
   "nbconvert_exporter": "python",
   "pygments_lexer": "ipython3",
   "version": "3.9.12"
  }
 },
 "nbformat": 4,
 "nbformat_minor": 5
}
