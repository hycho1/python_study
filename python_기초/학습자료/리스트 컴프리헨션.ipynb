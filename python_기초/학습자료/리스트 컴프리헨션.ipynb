{
 "cells": [
  {
   "cell_type": "markdown",
   "id": "1cad8f3c",
   "metadata": {},
   "source": [
    "문제 1\n",
    "\n",
    "주어진 리스트에서 짝수만 추출하여 새로운 리스트를 생성하는 코드를 리스트 컴프리헨션을 사용하여 작성하세요.\n",
    "\n",
    "numbers = [1, 2, 3, 4, 5, 6, 7, 8, 9, 10]\n",
    "\n",
    "결과:\n",
    "[2, 4, 6, 8, 10]\n"
   ]
  },
  {
   "cell_type": "code",
   "execution_count": 21,
   "id": "9f5d2cc6",
   "metadata": {},
   "outputs": [
    {
     "name": "stdout",
     "output_type": "stream",
     "text": [
      "[2, 4, 6, 8, 10]\n"
     ]
    }
   ],
   "source": [
    "numbers = [1, 2, 3, 4, 5, 6, 7, 8, 9, 10]\n",
    "\n",
    "\n",
    "result =[num for num in numbers if num % 2 == 0]\n",
    "        \n",
    "print(result)\n",
    "\n",
    "#대괄호 필수 표현식\n"
   ]
  },
  {
   "cell_type": "markdown",
   "id": "ec6a2de1",
   "metadata": {},
   "source": [
    "문제 2\n",
    "\n",
    "주어진 문자열 리스트에서 각 문자열의 길이가 5 이상인 문자열만 추출하여 새로운 리스트를 생성하는 코드를 리스트 컴프리헨션을 사용하여 작성하세요.\n",
    "\n",
    "\n",
    "words = [\"apple\", \"banana\", \"grape\", \"orange\", \"kiwi\", \"melon\"]\n",
    "\n",
    "결과:\n",
    "['banana', 'orange']"
   ]
  },
  {
   "cell_type": "code",
   "execution_count": 23,
   "id": "07fa0b77",
   "metadata": {},
   "outputs": [
    {
     "name": "stdout",
     "output_type": "stream",
     "text": [
      "['banana', 'orange']\n"
     ]
    }
   ],
   "source": [
    "words = [\"apple\", \"banana\", \"grape\", \"orange\", \"kiwi\", \"melon\"]\n",
    "\n",
    "result = [x for x in words if len(x) > 5]\n",
    "\n",
    "print(result)"
   ]
  },
  {
   "cell_type": "markdown",
   "id": "fad95efc",
   "metadata": {},
   "source": [
    "문제 3\n",
    "\n",
    "주어진 문자열 리스트에서 각 문자열의 첫 글자가 소문자인 문자열만 추출하여 새로운 리스트를 생성하는 코드를 리스트 컴프리헨션을 사용하여 작성하세요.\n",
    "\n",
    "words = [\"Apple\", \"banana\", \"Grape\", \"Orange\", \"kiwi\", \"Melon\"]\n",
    "\n",
    "결과:\n",
    "['banana', 'kiwi']"
   ]
  },
  {
   "cell_type": "code",
   "execution_count": 26,
   "id": "a03864cb",
   "metadata": {},
   "outputs": [
    {
     "name": "stdout",
     "output_type": "stream",
     "text": [
      "['banana', 'kiwi']\n"
     ]
    }
   ],
   "source": [
    "words = [\"Apple\", \"banana\", \"Grape\", \"Orange\", \"kiwi\", \"Melon\"]\n",
    "\n",
    "result = [x for x in words if ord(x[0]) > 90 ]\n",
    "\n",
    "print(result)\n",
    "\n",
    "# CHAT GPT 정답 \n",
    "'''\n",
    "# 첫 글자가 소문자인 문자열만 추출\n",
    "lowercase_words = [word for word in words if word[0].islower()]\n",
    "\n",
    "print(lowercase_words)\n",
    "'''\n"
   ]
  },
  {
   "cell_type": "markdown",
   "id": "4a9cb42f",
   "metadata": {},
   "source": [
    "문제 4\n",
    "\n",
    "주어진 리스트에서 각 문자열의 마지막 글자가 's'로 끝나는 문자열의 첫 글자만 대문자로 변환하여 새로운 리스트를 생성하는 코드를 리스트 컴프리헨션을 사용하여 작성하세요.\n",
    "\n",
    "\n",
    "words = [\"apples\", \"bananas\", \"grapes\", \"oranges\", \"kiwis\", \"melons\"]\n",
    "\n",
    "결과:\n",
    "['A', 'B', 'G', 'O', 'K', 'M']"
   ]
  },
  {
   "cell_type": "code",
   "execution_count": 29,
   "id": "7da2b063",
   "metadata": {},
   "outputs": [
    {
     "name": "stdout",
     "output_type": "stream",
     "text": [
      "['A', 'B', 'G', 'O', 'K', 'M']\n"
     ]
    }
   ],
   "source": [
    "words = [\"apples\", \"bananas\", \"grapes\", \"oranges\", \"kiwis\", \"melons\"]\n",
    "\n",
    "result = [x.upper()[0] for x in words if x[-1] == 's']\n",
    "\n",
    "print(result)\n",
    "\n",
    "\n",
    "# CHAT GPT 정답 \n",
    "'''\n",
    "result = [x[0].upper() for x in words if x.endswith('s')]\n",
    "\n",
    "print(result)\n",
    "'''\n"
   ]
  }
 ],
 "metadata": {
  "kernelspec": {
   "display_name": "Python 3 (ipykernel)",
   "language": "python",
   "name": "python3"
  },
  "language_info": {
   "codemirror_mode": {
    "name": "ipython",
    "version": 3
   },
   "file_extension": ".py",
   "mimetype": "text/x-python",
   "name": "python",
   "nbconvert_exporter": "python",
   "pygments_lexer": "ipython3",
   "version": "3.9.12"
  }
 },
 "nbformat": 4,
 "nbformat_minor": 5
}
