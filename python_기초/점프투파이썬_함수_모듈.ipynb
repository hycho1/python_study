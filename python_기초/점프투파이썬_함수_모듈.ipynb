{
 "cells": [
  {
   "cell_type": "code",
   "execution_count": 1,
   "id": "9f4eb2b5",
   "metadata": {},
   "outputs": [
    {
     "data": {
      "text/plain": [
       "3"
      ]
     },
     "execution_count": 1,
     "metadata": {},
     "output_type": "execute_result"
    }
   ],
   "source": [
    "def add(a,b):\n",
    "    return a + b\n",
    "\n",
    "\n",
    "add(1,2)\n"
   ]
  },
  {
   "cell_type": "code",
   "execution_count": 3,
   "id": "450751f9",
   "metadata": {},
   "outputs": [
    {
     "data": {
      "text/plain": [
       "2"
      ]
     },
     "execution_count": 3,
     "metadata": {},
     "output_type": "execute_result"
    }
   ],
   "source": [
    "def minus(a,b):\n",
    "    return a - b\n",
    "\n",
    "\n",
    "minus(3,1)"
   ]
  },
  {
   "cell_type": "code",
   "execution_count": 10,
   "id": "066f4770",
   "metadata": {},
   "outputs": [
    {
     "name": "stdout",
     "output_type": "stream",
     "text": [
      "name: hy\n",
      "나이: 10\n",
      "남자입니다.\n"
     ]
    }
   ],
   "source": [
    "def say_myself(name, age,man=True):\n",
    "    print(\"name: %s\" % name)\n",
    "    print(\"나이: %d\" % age)\n",
    "    \n",
    "    if man: \n",
    "        print(\"남자입니다.\") \n",
    "    else: \n",
    "        print(\"여자입니다.\")\n",
    "\n",
    "say_myself(\"hy\", 10)\n",
    "    "
   ]
  },
  {
   "cell_type": "code",
   "execution_count": 36,
   "id": "70778941",
   "metadata": {},
   "outputs": [
    {
     "name": "stdout",
     "output_type": "stream",
     "text": [
      "2\n"
     ]
    },
    {
     "data": {
      "text/plain": [
       "2"
      ]
     },
     "execution_count": 36,
     "metadata": {},
     "output_type": "execute_result"
    }
   ],
   "source": [
    "'''\n",
    "import module\n",
    "\n",
    "print(module.minus(3,1))\n",
    "\n",
    "add(3,1)\n",
    "'''\n"
   ]
  },
  {
   "cell_type": "code",
   "execution_count": 41,
   "id": "c8f90871",
   "metadata": {},
   "outputs": [
    {
     "data": {
      "text/plain": [
       "3"
      ]
     },
     "execution_count": 41,
     "metadata": {},
     "output_type": "execute_result"
    }
   ],
   "source": [
    "import sys\n",
    "sys.path.append(\"C:\\소스코드\\python_study\\module\")\n",
    "\n",
    "import mymodule\n",
    "\n",
    "\n",
    "mymodule.add(1,2)\n"
   ]
  },
  {
   "cell_type": "code",
   "execution_count": 42,
   "id": "657461ce",
   "metadata": {},
   "outputs": [],
   "source": [
    "import pandas as pd"
   ]
  },
  {
   "cell_type": "code",
   "execution_count": 44,
   "id": "2b9a703b",
   "metadata": {},
   "outputs": [],
   "source": [
    "score = [80,60,70,50,100]"
   ]
  },
  {
   "cell_type": "code",
   "execution_count": 50,
   "id": "37c1b24a",
   "metadata": {},
   "outputs": [
    {
     "data": {
      "text/plain": [
       "0    72.0\n",
       "dtype: float64"
      ]
     },
     "execution_count": 50,
     "metadata": {},
     "output_type": "execute_result"
    }
   ],
   "source": [
    "pd.DataFrame(score)#.mean()\n",
    "\n",
    "pd.DataFrame(score).mean()"
   ]
  },
  {
   "cell_type": "code",
   "execution_count": null,
   "id": "9a08b1e8",
   "metadata": {},
   "outputs": [],
   "source": []
  }
 ],
 "metadata": {
  "kernelspec": {
   "display_name": "Python 3 (ipykernel)",
   "language": "python",
   "name": "python3"
  },
  "language_info": {
   "codemirror_mode": {
    "name": "ipython",
    "version": 3
   },
   "file_extension": ".py",
   "mimetype": "text/x-python",
   "name": "python",
   "nbconvert_exporter": "python",
   "pygments_lexer": "ipython3",
   "version": "3.9.12"
  }
 },
 "nbformat": 4,
 "nbformat_minor": 5
}
