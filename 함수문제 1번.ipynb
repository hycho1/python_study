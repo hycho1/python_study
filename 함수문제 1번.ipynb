{
 "cells": [
  {
   "cell_type": "code",
   "execution_count": 20,
   "id": "1f65a5e1",
   "metadata": {},
   "outputs": [],
   "source": [
    "def change_num(a):\n",
    "    \n",
    "    result = \"\"\n",
    "    \n",
    "    for i in range(len(a)):\n",
    "        if a[i] == \"일\":\n",
    "            result += \"1\"\n",
    "        elif a[i] == \"이\":\n",
    "            result += \"2\"\n",
    "        elif a[i] == \"삼\":\n",
    "            result += \"3\"        \n",
    "        elif a[i] == \"사\":\n",
    "            result += \"4\"    \n",
    "        elif a[i] == \"오\":\n",
    "            result += \"5\"    \n",
    "        elif a[i] == \"육\":\n",
    "            result += \"6\"\n",
    "        elif a[i] == \"칠\":\n",
    "            result += \"7\"            \n",
    "        elif a[i] == \"팔\":\n",
    "            result += \"8\"\n",
    "        elif a[i] == \"구\":\n",
    "            result += \"9\"\n",
    "        elif a[i] == \"공\":\n",
    "            result += \"0\"            \n",
    "        else:\n",
    "            print(\"변환 불가\")\n",
    "           \n",
    "    print(result)"
   ]
  },
  {
   "cell_type": "code",
   "execution_count": 24,
   "id": "6d6ada12",
   "metadata": {},
   "outputs": [
    {
     "name": "stdout",
     "output_type": "stream",
     "text": [
      "네자리 숫자 한글로 입력하세요 : 일이칠삼\n",
      "1273\n"
     ]
    }
   ],
   "source": [
    "number = input(\"네자리 숫자 한글로 입력하세요 : \")\n",
    "\n",
    "change_num(str(number))"
   ]
  },
  {
   "cell_type": "code",
   "execution_count": null,
   "id": "bc571051",
   "metadata": {},
   "outputs": [],
   "source": []
  },
  {
   "cell_type": "code",
   "execution_count": null,
   "id": "0cb70bba",
   "metadata": {},
   "outputs": [],
   "source": []
  }
 ],
 "metadata": {
  "kernelspec": {
   "display_name": "Python 3 (ipykernel)",
   "language": "python",
   "name": "python3"
  },
  "language_info": {
   "codemirror_mode": {
    "name": "ipython",
    "version": 3
   },
   "file_extension": ".py",
   "mimetype": "text/x-python",
   "name": "python",
   "nbconvert_exporter": "python",
   "pygments_lexer": "ipython3",
   "version": "3.9.12"
  }
 },
 "nbformat": 4,
 "nbformat_minor": 5
}
