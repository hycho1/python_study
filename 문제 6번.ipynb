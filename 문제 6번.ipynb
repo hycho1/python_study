{
 "cells": [
  {
   "cell_type": "markdown",
   "id": "dbe230f9",
   "metadata": {},
   "source": [
    "QUIZ#6. (중급)\n",
    "다음과 같은 기능을 하는 코드를 작성해보세요\n",
    "1. 루프를 1부터 10까지 반복합니다. \n",
    "   (=i에는 1부터 10까지의 값이 반복해서 들어갑니다)\n",
    "2. i를 그대로 출력하지 않고, 두 배로 늘려서 출력합니다. (i * 2)\n",
    "3. 반복문 안에서 출력하지 않고, 반복문 안에서 값을 모아뒀다가 \n",
    "   반복문이 끝나면 밖에서 출력합니다. \n",
    "    이를 위해서는 빈 리스트를 만든 뒤(double_list = []), \n",
    "    리스트의 .append 기능을 사용해서 값을 집어넣습니다.\n",
    "4. 여기서 i가 5일 경우는 반복을 한 번만 skip하고 \n",
    "   다음 반복(i가 6일 경우)을 재시작합니다.\n",
    "5. 그리고 i가 8일 경우는 반복문을 강제로 종료시킵니다."
   ]
  },
  {
   "cell_type": "markdown",
   "id": "43218c60",
   "metadata": {},
   "source": [
    "ANS 1"
   ]
  },
  {
   "cell_type": "code",
   "execution_count": 4,
   "id": "2ed045a2",
   "metadata": {},
   "outputs": [
    {
     "name": "stdout",
     "output_type": "stream",
     "text": [
      "1\n",
      "2\n",
      "3\n",
      "4\n",
      "5\n",
      "6\n",
      "7\n",
      "8\n",
      "9\n",
      "10\n"
     ]
    }
   ],
   "source": [
    "for i in range(1,11):\n",
    "    print(i)"
   ]
  },
  {
   "cell_type": "markdown",
   "id": "0ec1b3c5",
   "metadata": {},
   "source": [
    "ANS 2"
   ]
  },
  {
   "cell_type": "code",
   "execution_count": 6,
   "id": "17165abe",
   "metadata": {},
   "outputs": [
    {
     "name": "stdout",
     "output_type": "stream",
     "text": [
      "2\n",
      "4\n",
      "6\n",
      "8\n",
      "10\n",
      "12\n",
      "14\n",
      "16\n",
      "18\n",
      "20\n"
     ]
    }
   ],
   "source": [
    "for i in range(1,11):\n",
    "    print(i * 2)"
   ]
  },
  {
   "cell_type": "markdown",
   "id": "9c18ca66",
   "metadata": {},
   "source": [
    "ANS 3"
   ]
  },
  {
   "cell_type": "code",
   "execution_count": 20,
   "id": "d667726c",
   "metadata": {},
   "outputs": [
    {
     "name": "stdout",
     "output_type": "stream",
     "text": [
      "[2, 4, 6, 8, 10, 12, 14, 16, 18, 20]\n"
     ]
    }
   ],
   "source": [
    "double_list = []\n",
    "\n",
    "for i in range(1,11):\n",
    "    double_list.append(i * 2)\n",
    "    \n",
    "print(double_list)\n"
   ]
  },
  {
   "cell_type": "markdown",
   "id": "9a7e93e7",
   "metadata": {},
   "source": [
    "ANS 4\n"
   ]
  },
  {
   "cell_type": "code",
   "execution_count": 21,
   "id": "f1b43b1e",
   "metadata": {},
   "outputs": [
    {
     "name": "stdout",
     "output_type": "stream",
     "text": [
      "[2, 4, 6, 8, 12, 14, 16, 18, 20]\n"
     ]
    }
   ],
   "source": [
    "double_list = []\n",
    "\n",
    "for i in range(1,11):\n",
    "    if(i==5):\n",
    "        continue\n",
    "    double_list.append(i * 2)\n",
    "    \n",
    "print(double_list)\n"
   ]
  },
  {
   "cell_type": "markdown",
   "id": "a5c1ad7f",
   "metadata": {},
   "source": [
    "ANS 5"
   ]
  },
  {
   "cell_type": "code",
   "execution_count": 22,
   "id": "1899afa7",
   "metadata": {},
   "outputs": [
    {
     "name": "stdout",
     "output_type": "stream",
     "text": [
      "[2, 4, 6, 8, 12, 14]\n"
     ]
    }
   ],
   "source": [
    "double_list = []\n",
    "\n",
    "for i in range(1,11):\n",
    "    if(i==5):\n",
    "        continue\n",
    "    if(i==8):\n",
    "        break\n",
    "    double_list.append(i * 2)\n",
    "    \n",
    "print(double_list)\n"
   ]
  }
 ],
 "metadata": {
  "kernelspec": {
   "display_name": "Python 3 (ipykernel)",
   "language": "python",
   "name": "python3"
  },
  "language_info": {
   "codemirror_mode": {
    "name": "ipython",
    "version": 3
   },
   "file_extension": ".py",
   "mimetype": "text/x-python",
   "name": "python",
   "nbconvert_exporter": "python",
   "pygments_lexer": "ipython3",
   "version": "3.9.12"
  }
 },
 "nbformat": 4,
 "nbformat_minor": 5
}
