{
 "cells": [
  {
   "cell_type": "markdown",
   "id": "06682f97",
   "metadata": {},
   "source": [
    " 1.별 모양 출력하기\n",
    "\n",
    "*\n",
    "**\n",
    "***\n",
    "****\n",
    "*****"
   ]
  },
  {
   "cell_type": "code",
   "execution_count": 53,
   "id": "d5f7d13e",
   "metadata": {},
   "outputs": [
    {
     "name": "stdout",
     "output_type": "stream",
     "text": [
      "*\n",
      "**\n",
      "***\n",
      "****\n",
      "*****\n"
     ]
    }
   ],
   "source": [
    "size = 5\n",
    "\n",
    "for i in range(1, size + 1):\n",
    "    print(\"*\"*i)"
   ]
  },
  {
   "cell_type": "markdown",
   "id": "fa8a661a",
   "metadata": {},
   "source": [
    "2.별 모양 출력하기\n",
    "\n",
    "    *\n",
    "   ***\n",
    "  *****\n",
    " *******"
   ]
  },
  {
   "cell_type": "code",
   "execution_count": 54,
   "id": "ece1f937",
   "metadata": {},
   "outputs": [
    {
     "name": "stdout",
     "output_type": "stream",
     "text": [
      "    *\n",
      "   ***\n",
      "  *****\n",
      " *******\n"
     ]
    }
   ],
   "source": [
    "size = 4\n",
    "\n",
    "for i in range(0, size):\n",
    "    print(\" \"*(size-i-1),\"*\"*(i*2+1))"
   ]
  },
  {
   "cell_type": "markdown",
   "id": "700609ad",
   "metadata": {},
   "source": [
    "3.별 모양 출력하기(다이아)\n",
    "\n",
    "   *\n",
    "  ***\n",
    " *****\n",
    "*******\n",
    " *****\n",
    "  ***\n",
    "   *"
   ]
  },
  {
   "cell_type": "code",
   "execution_count": 40,
   "id": "6eaa5fb4",
   "metadata": {},
   "outputs": [
    {
     "name": "stdout",
     "output_type": "stream",
     "text": [
      "    *\n",
      "   ***\n",
      "  *****\n",
      " *******\n",
      "  *****\n",
      "   ***\n",
      "    *\n"
     ]
    }
   ],
   "source": [
    "for i in range(0,7):\n",
    "    if i <= 3:\n",
    "        print(\" \"*(4-i-1),\"*\"*(i*2+1))\n",
    "    else:\n",
    "        print(\" \"*(i-3),\"*\"*(7-((i-3)*2)))"
   ]
  },
  {
   "cell_type": "code",
   "execution_count": 130,
   "id": "fb5d1756",
   "metadata": {},
   "outputs": [
    {
     "name": "stdout",
     "output_type": "stream",
     "text": [
      "별 사이즈 입력 : 6\n",
      "   *\n",
      "  ***\n",
      " *****\n",
      "  ***\n",
      "   *\n",
      "    \n"
     ]
    }
   ],
   "source": [
    "upper = 0\n",
    "lower = 0\n",
    "\n",
    "size = int(input(\"별 사이즈 입력 : \"))\n",
    "\n",
    "# 삼각형 윗쪽과 아랫쪽의 라인 수를 설정\n",
    "if(size%2 == 1) :\n",
    "    upper = size//2 + 1\n",
    "    lower = size//2\n",
    "else : \n",
    "    upper = size//2\n",
    "    lower = size//2\n",
    "\n",
    "# 윗쪽 삼각형 찍기\n",
    "for i in range(0, upper):\n",
    "    \n",
    "# 첫 라인의 입력수는 upper+1\n",
    "    print(\" \"*(upper-i),end=\"\")\n",
    "    print(\"*\"*((i*2)+1))\n",
    "    \n",
    "# 아랫쪽 삼각형 찍기\n",
    "for i in range(0,lower):\n",
    "    \n",
    "    print(\" \"*(i+2),end=\"\")\n",
    "    if(size%2 == 1):\n",
    "        print(\"*\"*(size-(i*2)-2))\n",
    "    else:\n",
    "        print(\"*\"*(size-(i*2)-3))"
   ]
  },
  {
   "cell_type": "markdown",
   "id": "5ba999ab",
   "metadata": {},
   "source": [
    "4. 2 ~ 9중 숫자를 입력받아 n단 구구단을 출력하시오"
   ]
  },
  {
   "cell_type": "code",
   "execution_count": 131,
   "id": "d13399b7",
   "metadata": {},
   "outputs": [
    {
     "name": "stdout",
     "output_type": "stream",
     "text": [
      "구구단 숫자 입력 : 2\n",
      "2 * 1 = 2\n",
      "2 * 2 = 4\n",
      "2 * 3 = 6\n",
      "2 * 4 = 8\n",
      "2 * 5 = 10\n",
      "2 * 6 = 12\n",
      "2 * 7 = 14\n",
      "2 * 8 = 16\n",
      "2 * 9 = 18\n"
     ]
    }
   ],
   "source": [
    "number = int(input(\"구구단 숫자 입력 : \"))\n",
    "\n",
    "for i in range(1,10):\n",
    "    print(f\"{number} * {i} = {number * i}\")"
   ]
  },
  {
   "cell_type": "markdown",
   "id": "99e12513",
   "metadata": {},
   "source": [
    "5. for 문을 사용하여 1부터 10까지의 합을 구하시오"
   ]
  },
  {
   "cell_type": "code",
   "execution_count": 133,
   "id": "171a00f5",
   "metadata": {},
   "outputs": [
    {
     "name": "stdout",
     "output_type": "stream",
     "text": [
      "55\n"
     ]
    }
   ],
   "source": [
    "sum = 0\n",
    "for i in range(1,11):\n",
    "    sum += i\n",
    "print(sum)"
   ]
  },
  {
   "cell_type": "markdown",
   "id": "0c1ae11a",
   "metadata": {},
   "source": [
    "6.준원이는 저번 주에 살면서 처음으로 코스트코를 가 봤다. 정말 멋졌다. \n",
    "그런데, 몇 개 담지도 않았는데 수상하게 높은 금액이 나오는 것이다! \n",
    "준원이는 영수증을 보면서 정확하게 계산된 것이 맞는지 확인해보려 한다.\n",
    "\n",
    "영수증에 적힌,\n",
    "\n",
    "구매한 각 물건의 가격과 개수\n",
    "구매한 물건들의 총 금액\n",
    "\n",
    "을 보고, 구매한 물건의 가격과 개수로 계산한 총 금액이 영수증에 적힌 총 금액과 일치하는지 검사해보자.\n",
    "\n",
    "입력:\n",
    "첫째 줄에는 영수증에 적힌 총 금액이 주어진다.\n",
    "둘째 줄에는 영수증에 적힌 구매한 물건의 종류의 수가 주어진다.\n",
    "이후 각 물건의 가격 a와 개수 b가 공백을 사이에 두고 주어진다.\n",
    "*두개의 값 입력 코드\n",
    "a, b = map(int, input().split())\n",
    "\n",
    "입력 예:\n",
    "260000\n",
    "4\n",
    "20000 5\n",
    "30000 2\n",
    "10000 6\n",
    "5000 8\n",
    "\n",
    "출력:\n",
    "구매한 물건의 가격과 개수로 계산한 총 금액이 영수증에 적힌 총 금액과 일치하면 Yes를 출력한다.\n",
    "일치하지 않는다면 No를 출력한다\n",
    "\n",
    "출력 예:\n",
    "Yes"
   ]
  },
  {
   "cell_type": "code",
   "execution_count": 134,
   "id": "d1a8353c",
   "metadata": {},
   "outputs": [
    {
     "name": "stdout",
     "output_type": "stream",
     "text": [
      "26000 4\n"
     ]
    }
   ],
   "source": [
    "input_amount_sum = 0\n",
    "\n",
    "total_amount = int(input(\"총 금액 입력 : \"))\n",
    "total_quantity = int(input(\"총 수량 입력 : \"))\n",
    "\n",
    "for i in range(total_quantity):\n",
    "    amount, quantity  = map(int, input().split())\n",
    "    input_amount_sum += amount\n",
    "\n",
    "if(input_amount_sum == total_amount):\n",
    "    print(\"Yes\")\n",
    "else:\n",
    "    print(\"No\")"
   ]
  },
  {
   "cell_type": "code",
   "execution_count": null,
   "id": "35b09696",
   "metadata": {},
   "outputs": [],
   "source": []
  }
 ],
 "metadata": {
  "kernelspec": {
   "display_name": "Python 3 (ipykernel)",
   "language": "python",
   "name": "python3"
  },
  "language_info": {
   "codemirror_mode": {
    "name": "ipython",
    "version": 3
   },
   "file_extension": ".py",
   "mimetype": "text/x-python",
   "name": "python",
   "nbconvert_exporter": "python",
   "pygments_lexer": "ipython3",
   "version": "3.9.12"
  }
 },
 "nbformat": 4,
 "nbformat_minor": 5
}
