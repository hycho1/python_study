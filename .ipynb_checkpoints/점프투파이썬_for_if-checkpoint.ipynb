{
 "cells": [
  {
   "cell_type": "code",
   "execution_count": 1,
   "id": "27bef75b",
   "metadata": {},
   "outputs": [],
   "source": [
    "test_list = ['one', 'two', 'three']"
   ]
  },
  {
   "cell_type": "code",
   "execution_count": 2,
   "id": "20f498dd",
   "metadata": {},
   "outputs": [
    {
     "data": {
      "text/plain": [
       "['one', 'two', 'three']"
      ]
     },
     "execution_count": 2,
     "metadata": {},
     "output_type": "execute_result"
    }
   ],
   "source": [
    "test_list"
   ]
  },
  {
   "cell_type": "code",
   "execution_count": 4,
   "id": "30156f1e",
   "metadata": {},
   "outputs": [
    {
     "name": "stdout",
     "output_type": "stream",
     "text": [
      "one\n",
      "two\n",
      "three\n"
     ]
    }
   ],
   "source": [
    "for i in test_list:\n",
    "    print(i)"
   ]
  },
  {
   "cell_type": "code",
   "execution_count": 8,
   "id": "76c69e89",
   "metadata": {},
   "outputs": [],
   "source": [
    "a = [(1,2) , (3,4), (5,6)]"
   ]
  },
  {
   "cell_type": "code",
   "execution_count": 9,
   "id": "480ed8a8",
   "metadata": {},
   "outputs": [
    {
     "data": {
      "text/plain": [
       "[(1, 2), (3, 4), (5, 6)]"
      ]
     },
     "execution_count": 9,
     "metadata": {},
     "output_type": "execute_result"
    }
   ],
   "source": [
    "a"
   ]
  },
  {
   "cell_type": "code",
   "execution_count": 18,
   "id": "d105ea49",
   "metadata": {},
   "outputs": [
    {
     "name": "stdout",
     "output_type": "stream",
     "text": [
      "4\n",
      "8\n",
      "12\n"
     ]
    }
   ],
   "source": [
    "for (first, last) in a:\n",
    "    print(first + last + i)"
   ]
  },
  {
   "cell_type": "code",
   "execution_count": 19,
   "id": "dc7fe708",
   "metadata": {},
   "outputs": [],
   "source": [
    "money = True"
   ]
  },
  {
   "cell_type": "code",
   "execution_count": 20,
   "id": "bc7c00ef",
   "metadata": {},
   "outputs": [
    {
     "data": {
      "text/plain": [
       "True"
      ]
     },
     "execution_count": 20,
     "metadata": {},
     "output_type": "execute_result"
    }
   ],
   "source": [
    "money"
   ]
  },
  {
   "cell_type": "code",
   "execution_count": 22,
   "id": "e6155ad5",
   "metadata": {},
   "outputs": [
    {
     "name": "stdout",
     "output_type": "stream",
     "text": [
      "택시를 타고 가라\n"
     ]
    }
   ],
   "source": [
    "if money:\n",
    "    print(\"택시를 타고 가라\")\n",
    "else:\n",
    "    print(\"걸어 가라\")"
   ]
  },
  {
   "cell_type": "markdown",
   "id": "13020431",
   "metadata": {},
   "source": []
  },
  {
   "cell_type": "code",
   "execution_count": 25,
   "id": "06bd6db6",
   "metadata": {},
   "outputs": [
    {
     "name": "stdout",
     "output_type": "stream",
     "text": [
      "걸어서ㄱ\n"
     ]
    }
   ],
   "source": [
    "money = 1500\n",
    "card = False\n",
    "if money>= 2000 or card :\n",
    "    print(\"택시ㄱ\")\n",
    "else:\n",
    "    print(\"걸어서ㄱ\")"
   ]
  },
  {
   "cell_type": "code",
   "execution_count": 3,
   "id": "b68ac4c4",
   "metadata": {},
   "outputs": [
    {
     "name": "stdout",
     "output_type": "stream",
     "text": [
      "in it\n"
     ]
    }
   ],
   "source": [
    "pocket = ['paper', 'cellphone', 'money']\n",
    "if 'money' in pocket:\n",
    "    print(\"in it\")\n",
    "else:\n",
    "    print(\"not in it\")"
   ]
  },
  {
   "cell_type": "code",
   "execution_count": 4,
   "id": "52aed298",
   "metadata": {},
   "outputs": [
    {
     "name": "stdout",
     "output_type": "stream",
     "text": [
      "ride taxi\n"
     ]
    }
   ],
   "source": [
    "card = False\n",
    "\n",
    "pocket = ['paper', 'cellphone', 'money']\n",
    "if 'money' in pocket:\n",
    "    print(\"ride taxi\")\n",
    "elif 'card':\n",
    "    print(\"ride bus\")\n",
    "else:\n",
    "    print(\"walk\")"
   ]
  },
  {
   "cell_type": "code",
   "execution_count": 16,
   "id": "8d644ad0",
   "metadata": {},
   "outputs": [],
   "source": [
    "marks = [90,25,67,45,80]"
   ]
  },
  {
   "cell_type": "code",
   "execution_count": 17,
   "id": "30e0232b",
   "metadata": {},
   "outputs": [
    {
     "name": "stdout",
     "output_type": "stream",
     "text": [
      "90점은 합격\n",
      "25점은 불합격\n",
      "67점은 합격\n",
      "45점은 불합격\n",
      "80점은 합격\n"
     ]
    }
   ],
   "source": [
    "number = 0\n",
    "\n",
    "for mark in marks :\n",
    "    number += 1\n",
    "    if mark >= 60 :\n",
    "        print(\"%d점은 합격\" % mark)\n",
    "    else :\n",
    "        print(\"%d점은 불합격\" % mark)"
   ]
  },
  {
   "cell_type": "code",
   "execution_count": 18,
   "id": "374de22e",
   "metadata": {},
   "outputs": [
    {
     "name": "stdout",
     "output_type": "stream",
     "text": [
      "1번 학생은 합격\n",
      "2번 학생은 불합격\n",
      "3번 학생은 합격\n",
      "4번 학생은 불합격\n",
      "5번 학생은 합격\n"
     ]
    }
   ],
   "source": [
    "numbers = 0\n",
    "\n",
    "for mark in marks :\n",
    "    numbers += 1\n",
    "    if mark >= 60 :\n",
    "        print(\"%d번 %d점 학생은 합격\" % (numbers, mark))\n",
    "    else :\n",
    "        print(\"%d번 %d점 학생은 불합격\" % (numbers, mark))"
   ]
  },
  {
   "cell_type": "code",
   "execution_count": null,
   "id": "f2456084",
   "metadata": {},
   "outputs": [],
   "source": []
  }
 ],
 "metadata": {
  "kernelspec": {
   "display_name": "Python 3 (ipykernel)",
   "language": "python",
   "name": "python3"
  },
  "language_info": {
   "codemirror_mode": {
    "name": "ipython",
    "version": 3
   },
   "file_extension": ".py",
   "mimetype": "text/x-python",
   "name": "python",
   "nbconvert_exporter": "python",
   "pygments_lexer": "ipython3",
   "version": "3.9.12"
  }
 },
 "nbformat": 4,
 "nbformat_minor": 5
}
