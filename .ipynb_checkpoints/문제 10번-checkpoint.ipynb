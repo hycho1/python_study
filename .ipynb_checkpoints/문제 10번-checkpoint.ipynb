{
 "cells": [
  {
   "cell_type": "markdown",
   "id": "db6e1ad8",
   "metadata": {},
   "source": [
    "QUIZ10\n",
    "레벨 3 문제\n",
    "다음과 같은 형태의 배열을\n",
    "> [a1,a2,a3...,an,b1,b2...bn]\n",
    "다음과 같은 형태로 바꾸시오\n",
    "> [a1,b1,a2,b2.....an,bn]\n",
    "( 문제 원문을 보니 should be in-place라 되어 있네요. )\n",
    "입력을 저장하는 저장소 이외에 추가적인 저장장소를 사용치 않는다는게 제약조건입니다."
   ]
  },
  {
   "cell_type": "code",
   "execution_count": 41,
   "id": "a7ed83e4",
   "metadata": {},
   "outputs": [
    {
     "name": "stdout",
     "output_type": "stream",
     "text": [
      "배열 크기 입력(*2) :6\n",
      "['a1', 'b1', 'a2', 'b2', 'a3', 'b3', 'a4', 'b4', 'a5', 'b5', 'a6', 'b6']\n"
     ]
    }
   ],
   "source": [
    "\n",
    "# 크기에 따른 배열 생성\n",
    "\n",
    "array = []\n",
    "\n",
    "size_of_list = int(input(\"배열 크기 입력(*2) :\"))\n",
    "   \n",
    "for a in range(1, size_of_list + 1):\n",
    "    array.append(\"a\"+str(a))\n",
    "    \n",
    "for b in range(1, size_of_list + 1):\n",
    "    array.append(\"b\"+str(b))\n",
    "    \n",
    "\n",
    "# 재배열\n",
    "\n",
    "for i in range(size_of_list):\n",
    "    array.insert(i * 2 + 1, array.pop(size_of_list + i))\n",
    "    \n",
    "\n",
    "print(array)"
   ]
  }
 ],
 "metadata": {
  "kernelspec": {
   "display_name": "Python 3 (ipykernel)",
   "language": "python",
   "name": "python3"
  },
  "language_info": {
   "codemirror_mode": {
    "name": "ipython",
    "version": 3
   },
   "file_extension": ".py",
   "mimetype": "text/x-python",
   "name": "python",
   "nbconvert_exporter": "python",
   "pygments_lexer": "ipython3",
   "version": "3.9.12"
  }
 },
 "nbformat": 4,
 "nbformat_minor": 5
}
