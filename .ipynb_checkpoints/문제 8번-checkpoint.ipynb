{
 "cells": [
  {
   "cell_type": "markdown",
   "id": "043ab2e1",
   "metadata": {},
   "source": [
    "QUIZ#8\n",
    "함수 - 369 게임¶\n",
    "다음은 369게임입니다. 369게임은 다음과 같습니다.\n",
    "1부터 시작해 숫자를 하나씩 센다.\n",
    "숫자에 3이나 6이나 9 배수일 경우 박수(clap)를 친다.\n",
    "지정한 최대 숫자까지 도달하면 프로그램을 종료한다"
   ]
  },
  {
   "cell_type": "code",
   "execution_count": 45,
   "id": "e8b0331b",
   "metadata": {
    "scrolled": true
   },
   "outputs": [
    {
     "name": "stdout",
     "output_type": "stream",
     "text": [
      "마지막 숫자 입력 : 35\n",
      "3\t: clap\n",
      "6\t: clap\n",
      "9\t: clap\n",
      "13\t: clap\n",
      "16\t: clap\n",
      "19\t: clap\n",
      "23\t: clap\n",
      "26\t: clap\n",
      "29\t: clap\n",
      "30\t: clap\n",
      "31\t: clap\n",
      "32\t: clap\n",
      "33\t: clap\n",
      "33\t: clap\n",
      "34\t: clap\n",
      "35\t: clap\n"
     ]
    }
   ],
   "source": [
    "last_num = input(\"마지막 숫자 입력 : \")\n",
    "\n",
    "for i in range(int(last_num) + 1):\n",
    "    \n",
    "    for k in range(len(str(i))):\n",
    "        \n",
    "        if (int(str(i)[k]) == 3) or (int(str(i)[k]) == 6) or (int(str(i)[k]) == 9):\n",
    "            print(f\"{i}\\t: clap\")\n",
    "            break # 33번에 박수 두 번 치나?\n",
    "            "
   ]
  },
  {
   "cell_type": "code",
   "execution_count": 44,
   "id": "9ddc8646",
   "metadata": {
    "scrolled": true
   },
   "outputs": [
    {
     "name": "stdout",
     "output_type": "stream",
     "text": [
      "마지막 숫자 입력 : 37\n",
      "3\t: clap\n",
      "6\t: clap\n",
      "9\t: clap\n",
      "13\t: clap\n",
      "16\t: clap\n",
      "19\t: clap\n",
      "23\t: clap\n",
      "26\t: clap\n",
      "29\t: clap\n",
      "30\t: clap\n",
      "31\t: clap\n",
      "32\t: clap\n",
      "33\t: clap\n",
      "34\t: clap\n",
      "35\t: clap\n",
      "36\t: clap\n",
      "37\t: clap\n"
     ]
    }
   ],
   "source": [
    "# 모든 숫자를 반복없이 한 번에 찾으면 중복 제거됨\n",
    "\n",
    "last_num = input(\"마지막 숫자 입력 : \")\n",
    "\n",
    "for i in range(1, int(last_num) + 1):\n",
    "        if ('3' in str(i)) or ('6' in str(i)) or ('9' in str(i)):\n",
    "            print(f\"{i}\\t: clap\")\n",
    "            "
   ]
  }
 ],
 "metadata": {
  "kernelspec": {
   "display_name": "Python 3 (ipykernel)",
   "language": "python",
   "name": "python3"
  },
  "language_info": {
   "codemirror_mode": {
    "name": "ipython",
    "version": 3
   },
   "file_extension": ".py",
   "mimetype": "text/x-python",
   "name": "python",
   "nbconvert_exporter": "python",
   "pygments_lexer": "ipython3",
   "version": "3.9.12"
  }
 },
 "nbformat": 4,
 "nbformat_minor": 5
}
