{
 "cells": [
  {
   "cell_type": "markdown",
   "id": "b8eef5e8",
   "metadata": {},
   "source": [
    "import sys\n",
    "\n",
    "option = sys.argv[1]\n",
    "\n",
    "if option == '-a':\n",
    "    memo = sys.argv[2]\n",
    "    f = open('memo.txt', 'a')\n",
    "    f.write(memo)\n",
    "    f.write('\\n')\n",
    "    f.close()\n",
    "\n",
    "elif option == '-v':\n",
    "    f = open('memo.txt')\n",
    "    memo = f.read()\n",
    "    f.close()\n",
    "    print(memo)\n"
   ]
  },
  {
   "cell_type": "code",
   "execution_count": 42,
   "id": "fd16553f",
   "metadata": {},
   "outputs": [],
   "source": [
    "!python \"C:\\소스코드\\python_study\\memo\\memo.py\" -a \"Life is too short1\""
   ]
  },
  {
   "cell_type": "code",
   "execution_count": 35,
   "id": "0f7b150a",
   "metadata": {},
   "outputs": [],
   "source": []
  },
  {
   "cell_type": "code",
   "execution_count": null,
   "id": "8a80f6fe",
   "metadata": {},
   "outputs": [],
   "source": []
  }
 ],
 "metadata": {
  "kernelspec": {
   "display_name": "Python 3 (ipykernel)",
   "language": "python",
   "name": "python3"
  },
  "language_info": {
   "codemirror_mode": {
    "name": "ipython",
    "version": 3
   },
   "file_extension": ".py",
   "mimetype": "text/x-python",
   "name": "python",
   "nbconvert_exporter": "python",
   "pygments_lexer": "ipython3",
   "version": "3.9.12"
  }
 },
 "nbformat": 4,
 "nbformat_minor": 5
}
